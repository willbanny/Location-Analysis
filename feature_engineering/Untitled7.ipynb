{
 "cells": [
  {
   "cell_type": "code",
   "execution_count": 60,
   "id": "e9f55b6d",
   "metadata": {},
   "outputs": [],
   "source": [
    "import pandas as pd\n",
    "import numpy as np\n",
    "from sklearn.neighbors import BallTree\n",
    "from math import radians, sin, cos, sqrt, atan2"
   ]
  },
  {
   "cell_type": "code",
   "execution_count": 61,
   "id": "8ff4715b",
   "metadata": {},
   "outputs": [],
   "source": [
    "care_homes_df = pd.read_csv('/Users/nateoppenheimer/code/willbanny/Location-Analysis/carehome_locations.csv')\n",
    "london_grid_coords = pd.read_csv('/Users/nateoppenheimer/code/willbanny/Location-Analysis/London_Data_Expanded_1.csv')"
   ]
  },
  {
   "cell_type": "code",
   "execution_count": 62,
   "id": "4532f110",
   "metadata": {},
   "outputs": [
    {
     "data": {
      "text/html": [
       "<div>\n",
       "<style scoped>\n",
       "    .dataframe tbody tr th:only-of-type {\n",
       "        vertical-align: middle;\n",
       "    }\n",
       "\n",
       "    .dataframe tbody tr th {\n",
       "        vertical-align: top;\n",
       "    }\n",
       "\n",
       "    .dataframe thead th {\n",
       "        text-align: right;\n",
       "    }\n",
       "</style>\n",
       "<table border=\"1\" class=\"dataframe\">\n",
       "  <thead>\n",
       "    <tr style=\"text-align: right;\">\n",
       "      <th></th>\n",
       "      <th>Unnamed: 0</th>\n",
       "      <th>Location_Names</th>\n",
       "      <th>lat</th>\n",
       "      <th>lng</th>\n",
       "      <th>num_beds</th>\n",
       "      <th>town_city</th>\n",
       "      <th>region</th>\n",
       "      <th>carehome_y_n</th>\n",
       "    </tr>\n",
       "  </thead>\n",
       "  <tbody>\n",
       "    <tr>\n",
       "      <th>0</th>\n",
       "      <td>0</td>\n",
       "      <td>Henley House</td>\n",
       "      <td>52.088019</td>\n",
       "      <td>1.150452</td>\n",
       "      <td>66.0</td>\n",
       "      <td>Ipswich</td>\n",
       "      <td>East</td>\n",
       "      <td>Y</td>\n",
       "    </tr>\n",
       "    <tr>\n",
       "      <th>1</th>\n",
       "      <td>5</td>\n",
       "      <td>Charlotte House</td>\n",
       "      <td>53.345515</td>\n",
       "      <td>-3.002580</td>\n",
       "      <td>103.0</td>\n",
       "      <td>Wirral</td>\n",
       "      <td>North West</td>\n",
       "      <td>Y</td>\n",
       "    </tr>\n",
       "    <tr>\n",
       "      <th>2</th>\n",
       "      <td>6</td>\n",
       "      <td>Regency Care Centre</td>\n",
       "      <td>53.558464</td>\n",
       "      <td>-2.295343</td>\n",
       "      <td>60.0</td>\n",
       "      <td>Bury</td>\n",
       "      <td>North West</td>\n",
       "      <td>Y</td>\n",
       "    </tr>\n",
       "    <tr>\n",
       "      <th>3</th>\n",
       "      <td>10</td>\n",
       "      <td>Kingswood House Nursing Home</td>\n",
       "      <td>50.857483</td>\n",
       "      <td>0.561912</td>\n",
       "      <td>22.0</td>\n",
       "      <td>St Leonards On Sea</td>\n",
       "      <td>South East</td>\n",
       "      <td>Y</td>\n",
       "    </tr>\n",
       "    <tr>\n",
       "      <th>4</th>\n",
       "      <td>13</td>\n",
       "      <td>Little Haven</td>\n",
       "      <td>51.442094</td>\n",
       "      <td>0.002853</td>\n",
       "      <td>15.0</td>\n",
       "      <td>London</td>\n",
       "      <td>London</td>\n",
       "      <td>Y</td>\n",
       "    </tr>\n",
       "  </tbody>\n",
       "</table>\n",
       "</div>"
      ],
      "text/plain": [
       "   Unnamed: 0                Location_Names        lat       lng  num_beds  \\\n",
       "0           0                  Henley House  52.088019  1.150452      66.0   \n",
       "1           5               Charlotte House  53.345515 -3.002580     103.0   \n",
       "2           6           Regency Care Centre  53.558464 -2.295343      60.0   \n",
       "3          10  Kingswood House Nursing Home  50.857483  0.561912      22.0   \n",
       "4          13                  Little Haven  51.442094  0.002853      15.0   \n",
       "\n",
       "            town_city      region carehome_y_n  \n",
       "0             Ipswich        East            Y  \n",
       "1              Wirral  North West            Y  \n",
       "2                Bury  North West            Y  \n",
       "3  St Leonards On Sea  South East            Y  \n",
       "4              London      London            Y  "
      ]
     },
     "execution_count": 62,
     "metadata": {},
     "output_type": "execute_result"
    }
   ],
   "source": [
    "care_homes_df = care_homes_df.rename({'latitude': 'lat', 'longitude': 'lng'}, axis=1)\n",
    "care_homes_df.head()"
   ]
  },
  {
   "cell_type": "code",
   "execution_count": 63,
   "id": "794a31c9",
   "metadata": {},
   "outputs": [
    {
     "name": "stdout",
     "output_type": "stream",
     "text": [
      "<class 'pandas.core.frame.DataFrame'>\n",
      "RangeIndex: 20808 entries, 0 to 20807\n",
      "Data columns (total 8 columns):\n",
      " #   Column          Non-Null Count  Dtype  \n",
      "---  ------          --------------  -----  \n",
      " 0   Unnamed: 0      20808 non-null  int64  \n",
      " 1   Location_Names  20808 non-null  object \n",
      " 2   lat             20803 non-null  float64\n",
      " 3   lng             20803 non-null  float64\n",
      " 4   num_beds        20780 non-null  float64\n",
      " 5   town_city       20808 non-null  object \n",
      " 6   region          20788 non-null  object \n",
      " 7   carehome_y_n    20808 non-null  object \n",
      "dtypes: float64(3), int64(1), object(4)\n",
      "memory usage: 1.3+ MB\n"
     ]
    }
   ],
   "source": [
    "care_homes_df['lat'] = pd.to_numeric(care_homes_df['lat'], errors='coerce')\n",
    "care_homes_df['lng'] = pd.to_numeric(care_homes_df['lng'], errors='coerce')\n",
    "care_homes_df.info()\n",
    "# df['colname'] = pd.to_numeric(df['colname'], errors='coerce')"
   ]
  },
  {
   "cell_type": "code",
   "execution_count": 64,
   "id": "24db3ecf",
   "metadata": {},
   "outputs": [
    {
     "name": "stdout",
     "output_type": "stream",
     "text": [
      "<class 'pandas.core.frame.DataFrame'>\n",
      "Index: 20760 entries, 0 to 20807\n",
      "Data columns (total 8 columns):\n",
      " #   Column          Non-Null Count  Dtype  \n",
      "---  ------          --------------  -----  \n",
      " 0   Unnamed: 0      20760 non-null  int64  \n",
      " 1   Location_Names  20760 non-null  object \n",
      " 2   lat             20760 non-null  float64\n",
      " 3   lng             20760 non-null  float64\n",
      " 4   num_beds        20760 non-null  float64\n",
      " 5   town_city       20760 non-null  object \n",
      " 6   region          20760 non-null  object \n",
      " 7   carehome_y_n    20760 non-null  object \n",
      "dtypes: float64(3), int64(1), object(4)\n",
      "memory usage: 1.4+ MB\n"
     ]
    }
   ],
   "source": [
    "care_homes_df = care_homes_df.dropna()\n",
    "care_homes_df.info()"
   ]
  },
  {
   "cell_type": "code",
   "execution_count": 65,
   "id": "d8b957ef",
   "metadata": {},
   "outputs": [
    {
     "data": {
      "text/html": [
       "<div>\n",
       "<style scoped>\n",
       "    .dataframe tbody tr th:only-of-type {\n",
       "        vertical-align: middle;\n",
       "    }\n",
       "\n",
       "    .dataframe tbody tr th {\n",
       "        vertical-align: top;\n",
       "    }\n",
       "\n",
       "    .dataframe thead th {\n",
       "        text-align: right;\n",
       "    }\n",
       "</style>\n",
       "<table border=\"1\" class=\"dataframe\">\n",
       "  <thead>\n",
       "    <tr style=\"text-align: right;\">\n",
       "      <th></th>\n",
       "      <th>lat</th>\n",
       "      <th>lng</th>\n",
       "      <th>district_name</th>\n",
       "    </tr>\n",
       "  </thead>\n",
       "  <tbody>\n",
       "    <tr>\n",
       "      <th>0</th>\n",
       "      <td>51.607913</td>\n",
       "      <td>-0.355127</td>\n",
       "      <td>Harrow London Boro</td>\n",
       "    </tr>\n",
       "    <tr>\n",
       "      <th>1</th>\n",
       "      <td>51.607913</td>\n",
       "      <td>-0.351505</td>\n",
       "      <td>Harrow London Boro</td>\n",
       "    </tr>\n",
       "    <tr>\n",
       "      <th>2</th>\n",
       "      <td>51.605664</td>\n",
       "      <td>-0.351507</td>\n",
       "      <td>Harrow London Boro</td>\n",
       "    </tr>\n",
       "    <tr>\n",
       "      <th>3</th>\n",
       "      <td>51.603414</td>\n",
       "      <td>-0.402215</td>\n",
       "      <td>Harrow London Boro</td>\n",
       "    </tr>\n",
       "    <tr>\n",
       "      <th>4</th>\n",
       "      <td>51.601165</td>\n",
       "      <td>-0.402215</td>\n",
       "      <td>Harrow London Boro</td>\n",
       "    </tr>\n",
       "  </tbody>\n",
       "</table>\n",
       "</div>"
      ],
      "text/plain": [
       "         lat       lng       district_name\n",
       "0  51.607913 -0.355127  Harrow London Boro\n",
       "1  51.607913 -0.351505  Harrow London Boro\n",
       "2  51.605664 -0.351507  Harrow London Boro\n",
       "3  51.603414 -0.402215  Harrow London Boro\n",
       "4  51.601165 -0.402215  Harrow London Boro"
      ]
     },
     "execution_count": 65,
     "metadata": {},
     "output_type": "execute_result"
    }
   ],
   "source": [
    "classified_coords = london_grid_coords[['lat', 'lng', 'district_name']].copy()\n",
    "classified_coords.head()"
   ]
  },
  {
   "cell_type": "code",
   "execution_count": 71,
   "id": "3a817c92",
   "metadata": {},
   "outputs": [],
   "source": [
    "care_homes_df = care_homes_df[care_homes_df['region'] == 'London'].reset_index(drop=True).drop(columns=['Unnamed: 0'])"
   ]
  },
  {
   "cell_type": "code",
   "execution_count": 72,
   "id": "cb82fc13",
   "metadata": {},
   "outputs": [],
   "source": [
    "bt = BallTree(np.deg2rad(classified_coords[['lat', 'lng']].values), metric='haversine')"
   ]
  },
  {
   "cell_type": "code",
   "execution_count": 73,
   "id": "6f951a19",
   "metadata": {},
   "outputs": [],
   "source": [
    "distances, indices = bt.query(np.deg2rad(care_homes_df[['lat', 'lng']]))\n",
    "\n",
    "dep_engineered = classified_coords.iloc[indices[:, 0]][['district_name']]\n",
    "dep_engineered[['lng', 'lat']] = care_homes_df[['lng', 'lat']].values"
   ]
  },
  {
   "cell_type": "code",
   "execution_count": 74,
   "id": "0c984014",
   "metadata": {},
   "outputs": [],
   "source": [
    "dep_engineered.reset_index(drop=True, inplace=True)"
   ]
  },
  {
   "cell_type": "code",
   "execution_count": 75,
   "id": "4ccd9a37",
   "metadata": {},
   "outputs": [],
   "source": [
    "dep_engineered.to_csv('care_homes_by_district.csv')"
   ]
  },
  {
   "cell_type": "code",
   "execution_count": 76,
   "id": "324fc852",
   "metadata": {},
   "outputs": [
    {
     "data": {
      "text/html": [
       "<div>\n",
       "<style scoped>\n",
       "    .dataframe tbody tr th:only-of-type {\n",
       "        vertical-align: middle;\n",
       "    }\n",
       "\n",
       "    .dataframe tbody tr th {\n",
       "        vertical-align: top;\n",
       "    }\n",
       "\n",
       "    .dataframe thead th {\n",
       "        text-align: right;\n",
       "    }\n",
       "</style>\n",
       "<table border=\"1\" class=\"dataframe\">\n",
       "  <thead>\n",
       "    <tr style=\"text-align: right;\">\n",
       "      <th></th>\n",
       "      <th>district_name</th>\n",
       "      <th>lng</th>\n",
       "      <th>lat</th>\n",
       "    </tr>\n",
       "  </thead>\n",
       "  <tbody>\n",
       "    <tr>\n",
       "      <th>0</th>\n",
       "      <td>Lewisham London Boro</td>\n",
       "      <td>0.002853</td>\n",
       "      <td>51.442094</td>\n",
       "    </tr>\n",
       "    <tr>\n",
       "      <th>1</th>\n",
       "      <td>Kingston upon Thames London Boro</td>\n",
       "      <td>-0.253510</td>\n",
       "      <td>51.392733</td>\n",
       "    </tr>\n",
       "    <tr>\n",
       "      <th>2</th>\n",
       "      <td>Greenwich London Boro</td>\n",
       "      <td>0.081430</td>\n",
       "      <td>51.484673</td>\n",
       "    </tr>\n",
       "    <tr>\n",
       "      <th>3</th>\n",
       "      <td>Wandsworth London Boro</td>\n",
       "      <td>-0.182608</td>\n",
       "      <td>51.458354</td>\n",
       "    </tr>\n",
       "    <tr>\n",
       "      <th>4</th>\n",
       "      <td>Newham London Boro</td>\n",
       "      <td>0.066140</td>\n",
       "      <td>51.512515</td>\n",
       "    </tr>\n",
       "  </tbody>\n",
       "</table>\n",
       "</div>"
      ],
      "text/plain": [
       "                      district_name       lng        lat\n",
       "0              Lewisham London Boro  0.002853  51.442094\n",
       "1  Kingston upon Thames London Boro -0.253510  51.392733\n",
       "2             Greenwich London Boro  0.081430  51.484673\n",
       "3            Wandsworth London Boro -0.182608  51.458354\n",
       "4                Newham London Boro  0.066140  51.512515"
      ]
     },
     "execution_count": 76,
     "metadata": {},
     "output_type": "execute_result"
    }
   ],
   "source": [
    "dep_engineered.head()"
   ]
  },
  {
   "cell_type": "code",
   "execution_count": 77,
   "id": "d41a9876",
   "metadata": {},
   "outputs": [],
   "source": [
    "dep_engineered.columns = list(dep_engineered.columns)"
   ]
  },
  {
   "cell_type": "code",
   "execution_count": 78,
   "id": "bb104492",
   "metadata": {},
   "outputs": [
    {
     "data": {
      "text/html": [
       "<div>\n",
       "<style scoped>\n",
       "    .dataframe tbody tr th:only-of-type {\n",
       "        vertical-align: middle;\n",
       "    }\n",
       "\n",
       "    .dataframe tbody tr th {\n",
       "        vertical-align: top;\n",
       "    }\n",
       "\n",
       "    .dataframe thead th {\n",
       "        text-align: right;\n",
       "    }\n",
       "</style>\n",
       "<table border=\"1\" class=\"dataframe\">\n",
       "  <thead>\n",
       "    <tr style=\"text-align: right;\">\n",
       "      <th></th>\n",
       "      <th>district_name</th>\n",
       "      <th>lng</th>\n",
       "      <th>lat</th>\n",
       "    </tr>\n",
       "  </thead>\n",
       "  <tbody>\n",
       "    <tr>\n",
       "      <th>0</th>\n",
       "      <td>Redbridge London Boro</td>\n",
       "      <td>0.107145</td>\n",
       "      <td>51.569384</td>\n",
       "    </tr>\n",
       "    <tr>\n",
       "      <th>1</th>\n",
       "      <td>Redbridge London Boro</td>\n",
       "      <td>0.022524</td>\n",
       "      <td>51.573877</td>\n",
       "    </tr>\n",
       "    <tr>\n",
       "      <th>2</th>\n",
       "      <td>Redbridge London Boro</td>\n",
       "      <td>0.114437</td>\n",
       "      <td>51.563273</td>\n",
       "    </tr>\n",
       "    <tr>\n",
       "      <th>3</th>\n",
       "      <td>Redbridge London Boro</td>\n",
       "      <td>0.093867</td>\n",
       "      <td>51.560700</td>\n",
       "    </tr>\n",
       "    <tr>\n",
       "      <th>4</th>\n",
       "      <td>Redbridge London Boro</td>\n",
       "      <td>0.063702</td>\n",
       "      <td>51.565696</td>\n",
       "    </tr>\n",
       "    <tr>\n",
       "      <th>...</th>\n",
       "      <td>...</td>\n",
       "      <td>...</td>\n",
       "      <td>...</td>\n",
       "    </tr>\n",
       "    <tr>\n",
       "      <th>89</th>\n",
       "      <td>Redbridge London Boro</td>\n",
       "      <td>0.096333</td>\n",
       "      <td>51.562078</td>\n",
       "    </tr>\n",
       "    <tr>\n",
       "      <th>90</th>\n",
       "      <td>Redbridge London Boro</td>\n",
       "      <td>0.100804</td>\n",
       "      <td>51.561117</td>\n",
       "    </tr>\n",
       "    <tr>\n",
       "      <th>91</th>\n",
       "      <td>Redbridge London Boro</td>\n",
       "      <td>0.017849</td>\n",
       "      <td>51.568679</td>\n",
       "    </tr>\n",
       "    <tr>\n",
       "      <th>92</th>\n",
       "      <td>Redbridge London Boro</td>\n",
       "      <td>0.089859</td>\n",
       "      <td>51.559037</td>\n",
       "    </tr>\n",
       "    <tr>\n",
       "      <th>93</th>\n",
       "      <td>Redbridge London Boro</td>\n",
       "      <td>0.074329</td>\n",
       "      <td>51.555401</td>\n",
       "    </tr>\n",
       "  </tbody>\n",
       "</table>\n",
       "<p>94 rows × 3 columns</p>\n",
       "</div>"
      ],
      "text/plain": [
       "            district_name       lng        lat\n",
       "0   Redbridge London Boro  0.107145  51.569384\n",
       "1   Redbridge London Boro  0.022524  51.573877\n",
       "2   Redbridge London Boro  0.114437  51.563273\n",
       "3   Redbridge London Boro  0.093867  51.560700\n",
       "4   Redbridge London Boro  0.063702  51.565696\n",
       "..                    ...       ...        ...\n",
       "89  Redbridge London Boro  0.096333  51.562078\n",
       "90  Redbridge London Boro  0.100804  51.561117\n",
       "91  Redbridge London Boro  0.017849  51.568679\n",
       "92  Redbridge London Boro  0.089859  51.559037\n",
       "93  Redbridge London Boro  0.074329  51.555401\n",
       "\n",
       "[94 rows x 3 columns]"
      ]
     },
     "execution_count": 78,
     "metadata": {},
     "output_type": "execute_result"
    }
   ],
   "source": [
    "dep_engineered[dep_engineered['district_name']=='Redbridge London Boro'].reset_index(drop=True).copy()"
   ]
  },
  {
   "cell_type": "code",
   "execution_count": null,
   "id": "bb0654a8",
   "metadata": {},
   "outputs": [],
   "source": []
  }
 ],
 "metadata": {
  "kernelspec": {
   "display_name": "Python 3 (ipykernel)",
   "language": "python",
   "name": "python3"
  },
  "language_info": {
   "codemirror_mode": {
    "name": "ipython",
    "version": 3
   },
   "file_extension": ".py",
   "mimetype": "text/x-python",
   "name": "python",
   "nbconvert_exporter": "python",
   "pygments_lexer": "ipython3",
   "version": "3.10.6"
  },
  "toc": {
   "base_numbering": 1,
   "nav_menu": {},
   "number_sections": true,
   "sideBar": true,
   "skip_h1_title": false,
   "title_cell": "Table of Contents",
   "title_sidebar": "Contents",
   "toc_cell": false,
   "toc_position": {},
   "toc_section_display": true,
   "toc_window_display": false
  }
 },
 "nbformat": 4,
 "nbformat_minor": 5
}
