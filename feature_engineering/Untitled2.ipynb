{
 "cells": [
  {
   "cell_type": "code",
   "execution_count": 2,
   "id": "57e83a2e",
   "metadata": {},
   "outputs": [],
   "source": [
    "import pandas as pd"
   ]
  },
  {
   "cell_type": "code",
   "execution_count": 4,
   "id": "6b54435c",
   "metadata": {},
   "outputs": [],
   "source": [
    "crime_features = pd.read_csv('/Users/nateoppenheimer/code/willbanny/Location-Analysis/crime_trial_bigQuery.csv')\n",
    "google_features = pd.read_csv('/Users/nateoppenheimer/code/willbanny/Location-Analysis/google_trail_bigQuery.csv')\n",
    "dep_features = pd.read_csv('/Users/nateoppenheimer/code/willbanny/Location-Analysis/dep_trial_bigQuery.csv')"
   ]
  },
  {
   "cell_type": "code",
   "execution_count": 13,
   "id": "74e2e887",
   "metadata": {},
   "outputs": [],
   "source": [
    "golden_df = google_features\\\n",
    ".merge(crime_features, how='left', on=['lng', 'lat'])\\\n",
    ".merge(dep_features, how='left', on=['lng', 'lat'])"
   ]
  },
  {
   "cell_type": "code",
   "execution_count": 15,
   "id": "a3db416c",
   "metadata": {},
   "outputs": [
    {
     "data": {
      "text/plain": [
       "Index(['Unnamed: 0_x', 'District_x', 'Description_x', 'GridName_x', 'lng',\n",
       "       'lat', 'hospital_500', 'train_station_500', 'bus_station_500',\n",
       "       'park_500', 'place_of_worship_500', 'hospital_1000',\n",
       "       'train_station_1000', 'bus_station_1000', 'park_1000',\n",
       "       'place_of_worship_1000', 'hospital_1500', 'train_station_1500',\n",
       "       'bus_station_1500', 'park_1500', 'place_of_worship_1500',\n",
       "       'Unnamed: 0_y', 'District_y', 'Description_y', 'GridName_y',\n",
       "       'Anti-social behaviour_500', 'Other theft_500', 'Public order_500',\n",
       "       'Vehicle crime_500', 'Violence and sexual offences_500', 'Burglary_500',\n",
       "       'Criminal damage and arson_500', 'Other crime_500', 'Bicycle theft_500',\n",
       "       'Robbery_500', 'Shoplifting_500', 'Drugs_500',\n",
       "       'Theft from the person_500', 'Possession of weapons_500',\n",
       "       'Anti-social behaviour_1000', 'Other theft_1000', 'Public order_1000',\n",
       "       'Vehicle crime_1000', 'Violence and sexual offences_1000',\n",
       "       'Burglary_1000', 'Criminal damage and arson_1000', 'Other crime_1000',\n",
       "       'Bicycle theft_1000', 'Robbery_1000', 'Shoplifting_1000', 'Drugs_1000',\n",
       "       'Theft from the person_1000', 'Possession of weapons_1000',\n",
       "       'Anti-social behaviour_1500', 'Other theft_1500', 'Public order_1500',\n",
       "       'Vehicle crime_1500', 'Violence and sexual offences_1500',\n",
       "       'Burglary_1500', 'Criminal damage and arson_1500', 'Other crime_1500',\n",
       "       'Bicycle theft_1500', 'Robbery_1500', 'Shoplifting_1500', 'Drugs_1500',\n",
       "       'Theft from the person_1500', 'Possession of weapons_1500',\n",
       "       'Unnamed: 0', 'Local_Authority_District_code__2019_',\n",
       "       'Local_Authority_District_name__2019_',\n",
       "       'Index_of_Multiple_Deprivation__IMD__Score', 'longitude', 'latitude'],\n",
       "      dtype='object')"
      ]
     },
     "execution_count": 15,
     "metadata": {},
     "output_type": "execute_result"
    }
   ],
   "source": [
    "golden_df.columns"
   ]
  },
  {
   "cell_type": "code",
   "execution_count": null,
   "id": "eb2774c5",
   "metadata": {},
   "outputs": [],
   "source": []
  },
  {
   "cell_type": "code",
   "execution_count": null,
   "id": "40a818db",
   "metadata": {},
   "outputs": [],
   "source": []
  },
  {
   "cell_type": "code",
   "execution_count": null,
   "id": "c432cd57",
   "metadata": {},
   "outputs": [],
   "source": []
  },
  {
   "cell_type": "code",
   "execution_count": null,
   "id": "2b04a81a",
   "metadata": {},
   "outputs": [],
   "source": []
  },
  {
   "cell_type": "code",
   "execution_count": null,
   "id": "126a6e21",
   "metadata": {},
   "outputs": [],
   "source": []
  },
  {
   "cell_type": "code",
   "execution_count": null,
   "id": "3c640966",
   "metadata": {},
   "outputs": [],
   "source": []
  },
  {
   "cell_type": "code",
   "execution_count": null,
   "id": "d6112b21",
   "metadata": {},
   "outputs": [],
   "source": []
  },
  {
   "cell_type": "code",
   "execution_count": null,
   "id": "607114a4",
   "metadata": {},
   "outputs": [],
   "source": []
  }
 ],
 "metadata": {
  "kernelspec": {
   "display_name": "Python 3 (ipykernel)",
   "language": "python",
   "name": "python3"
  },
  "language_info": {
   "codemirror_mode": {
    "name": "ipython",
    "version": 3
   },
   "file_extension": ".py",
   "mimetype": "text/x-python",
   "name": "python",
   "nbconvert_exporter": "python",
   "pygments_lexer": "ipython3",
   "version": "3.10.6"
  },
  "toc": {
   "base_numbering": 1,
   "nav_menu": {},
   "number_sections": true,
   "sideBar": true,
   "skip_h1_title": false,
   "title_cell": "Table of Contents",
   "title_sidebar": "Contents",
   "toc_cell": false,
   "toc_position": {},
   "toc_section_display": true,
   "toc_window_display": false
  }
 },
 "nbformat": 4,
 "nbformat_minor": 5
}
