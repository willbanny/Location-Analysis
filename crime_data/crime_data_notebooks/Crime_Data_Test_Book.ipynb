{
 "cells": [
  {
   "cell_type": "markdown",
   "id": "2eb67052",
   "metadata": {},
   "source": [
    "# Imports"
   ]
  },
  {
   "cell_type": "code",
   "execution_count": 1,
   "id": "11ba6a0d",
   "metadata": {},
   "outputs": [],
   "source": [
    "import matplotlib\n",
    "%matplotlib inline\n",
    "import numpy as np\n",
    "import pandas as pd\n",
    "import requests"
   ]
  },
  {
   "cell_type": "markdown",
   "id": "290ff9d8",
   "metadata": {},
   "source": [
    "# Single Town Test"
   ]
  },
  {
   "cell_type": "code",
   "execution_count": 2,
   "id": "caf0807f",
   "metadata": {},
   "outputs": [],
   "source": [
    "url = 'https://data.police.uk/api/crimes-street/all-crime?lat=52.639969&lng=-1.129966&date=2022-04'\n"
   ]
  },
  {
   "cell_type": "code",
   "execution_count": null,
   "id": "a74b9115",
   "metadata": {},
   "outputs": [],
   "source": []
  },
  {
   "cell_type": "code",
   "execution_count": 5,
   "id": "3c985e06",
   "metadata": {},
   "outputs": [],
   "source": [
    "response = requests.get(url)"
   ]
  },
  {
   "cell_type": "code",
   "execution_count": 21,
   "id": "4c6bce9d",
   "metadata": {},
   "outputs": [],
   "source": [
    "test_df = pd.DataFrame(response.json())"
   ]
  },
  {
   "cell_type": "code",
   "execution_count": 23,
   "id": "b9c131f0",
   "metadata": {},
   "outputs": [],
   "source": [
    "crime_category = test_df[['category']]"
   ]
  },
  {
   "cell_type": "code",
   "execution_count": 27,
   "id": "bce72a80",
   "metadata": {},
   "outputs": [
    {
     "data": {
      "text/plain": [
       "category             \n",
       "violent-crime            484\n",
       "public-order             222\n",
       "other-theft              130\n",
       "anti-social-behaviour    106\n",
       "shoplifting               96\n",
       "criminal-damage-arson     65\n",
       "bicycle-theft             59\n",
       "drugs                     50\n",
       "burglary                  44\n",
       "vehicle-crime             39\n",
       "theft-from-the-person     36\n",
       "possession-of-weapons     27\n",
       "robbery                   25\n",
       "other-crime               21\n",
       "Name: count, dtype: int64"
      ]
     },
     "execution_count": 27,
     "metadata": {},
     "output_type": "execute_result"
    }
   ],
   "source": [
    "crime_category.value_counts()"
   ]
  },
  {
   "cell_type": "code",
   "execution_count": null,
   "id": "50a365fb",
   "metadata": {},
   "outputs": [],
   "source": []
  }
 ],
 "metadata": {
  "kernelspec": {
   "display_name": "Python 3 (ipykernel)",
   "language": "python",
   "name": "python3"
  },
  "language_info": {
   "codemirror_mode": {
    "name": "ipython",
    "version": 3
   },
   "file_extension": ".py",
   "mimetype": "text/x-python",
   "name": "python",
   "nbconvert_exporter": "python",
   "pygments_lexer": "ipython3",
   "version": "3.10.6"
  },
  "toc": {
   "base_numbering": 1,
   "nav_menu": {},
   "number_sections": true,
   "sideBar": true,
   "skip_h1_title": false,
   "title_cell": "Table of Contents",
   "title_sidebar": "Contents",
   "toc_cell": false,
   "toc_position": {},
   "toc_section_display": true,
   "toc_window_display": false
  }
 },
 "nbformat": 4,
 "nbformat_minor": 5
}
