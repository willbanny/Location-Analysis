{
 "cells": [
  {
   "cell_type": "markdown",
   "id": "a0451aba",
   "metadata": {},
   "source": [
    "# Imports"
   ]
  },
  {
   "cell_type": "code",
   "execution_count": 62,
   "id": "f39d89c4",
   "metadata": {},
   "outputs": [],
   "source": [
    "import numpy as np\n",
    "import pandas as pd\n",
    "import requests\n",
    "import matplotlib.pyplot as plt\n",
    "import seaborn as sns\n",
    "\n",
    "from sklearn.pipeline import make_pipeline\n",
    "from sklearn.compose import ColumnTransformer\n",
    "from sklearn.feature_selection import SelectPercentile, mutual_info_regression\n",
    "from sklearn.pipeline import make_pipeline\n",
    "from sklearn.preprocessing import OrdinalEncoder, MinMaxScaler, OneHotEncoder, RobustScaler\n",
    "from sklearn.cluster import KMeans\n",
    "\n",
    "from sklearn.decomposition import PCA\n",
    "from clusteval import clusteval\n",
    "import random\n"
   ]
  },
  {
   "cell_type": "markdown",
   "id": "25dec7b3",
   "metadata": {
    "heading_collapsed": true
   },
   "source": [
    "# Testing"
   ]
  },
  {
   "cell_type": "code",
   "execution_count": 3,
   "id": "fea129b4",
   "metadata": {
    "hidden": true
   },
   "outputs": [],
   "source": [
    "merged_crime_df = pd.read_csv('/home/mih_sud/code/willbanny//Location-Analysis/raw_data/Total_Crime_Data_2023_04.csv')"
   ]
  },
  {
   "cell_type": "code",
   "execution_count": 4,
   "id": "022c6cbb",
   "metadata": {
    "hidden": true
   },
   "outputs": [
    {
     "ename": "NameError",
     "evalue": "name 'merged' is not defined",
     "output_type": "error",
     "traceback": [
      "\u001b[0;31m---------------------------------------------------------------------------\u001b[0m",
      "\u001b[0;31mNameError\u001b[0m                                 Traceback (most recent call last)",
      "Cell \u001b[0;32mIn[4], line 1\u001b[0m\n\u001b[0;32m----> 1\u001b[0m \u001b[43mmerged\u001b[49m\n",
      "\u001b[0;31mNameError\u001b[0m: name 'merged' is not defined"
     ]
    }
   ],
   "source": [
    "merged"
   ]
  },
  {
   "cell_type": "code",
   "execution_count": null,
   "id": "1f9336a0",
   "metadata": {
    "hidden": true
   },
   "outputs": [],
   "source": [
    "def create_preproc_numerical():\n",
    "    return make_pipeline(\n",
    "        KNNImputer(),\n",
    "        MinMaxScaler()\n",
    "    )\n",
    "\n",
    "def create_preproc_nominal():\n",
    "    return make_pipeline(\n",
    "        SimpleImputer(strategy=\"most_frequent\"),\n",
    "        OneHotEncoder(handle_unknown=\"ignore\")\n",
    "    )\n",
    "\n",
    "def create_preproc(X, percentile = 75):\n",
    "    \"\"\"Create an (unfitted) sklearn preprocessing pipeline well suited for the Houses Kaggle Competition\n",
    "\n",
    "    Args:\n",
    "        X (pandas.DataFrame): Feature matrix\n",
    "        percentile (float): Percentage of feature to keep after one hot encoding\n",
    "\n",
    "    Returns:\n",
    "        sklearn.pipeline.Pipeline: un-fitted preprocessor\n",
    "    \"\"\"\n",
    "    preproc_ordinal, feat_ordinal = create_preproc_ordinal()\n",
    "    \n",
    "    preproc_numerical = create_preproc_numerical()\n",
    "    feat_numerical = sorted(X.select_dtypes(\n",
    "        include=[\"int64\", \"float64\"]).columns)\n",
    "    \n",
    "    preproc_nominal = create_preproc_nominal()\n",
    "    feat_nominal = sorted(\n",
    "        list(set(X.columns) - set(feat_numerical) - set(feat_ordinal)))\n",
    "    \n",
    "    feature_transformer = ColumnTransformer(\n",
    "        [\n",
    "        (\"numerical_encoder\", preproc_numerical, feat_numerical),\n",
    "        (\"ordinal_encoder\", preproc_ordinal, feat_ordinal),\n",
    "        (\"nominal_encoder\", preproc_nominal, feat_nominal)\n",
    "        ],\n",
    "        remainder=\"drop\")\n",
    "\n",
    "    feature_selector = SelectPercentile(\n",
    "        mutual_info_regression,\n",
    "        percentile=percentile,  # keep the xx% most important features\n",
    "    )\n",
    "\n",
    "    preproc = make_pipeline(\n",
    "        feature_transformer,\n",
    "        feature_selector\n",
    "    )\n",
    "    return preproc\n"
   ]
  },
  {
   "cell_type": "markdown",
   "id": "ea8f21c2",
   "metadata": {},
   "source": [
    "# Feature Selection"
   ]
  },
  {
   "cell_type": "code",
   "execution_count": 5,
   "id": "a91dcaca",
   "metadata": {},
   "outputs": [],
   "source": [
    "leicester_golden_df = pd.read_csv(\"/home/mih_sud/code/willbanny/Location-Analysis/raw_data/golden_df_trial_bigQuery.csv\")"
   ]
  },
  {
   "cell_type": "code",
   "execution_count": 6,
   "id": "8e77e81b",
   "metadata": {
    "scrolled": true
   },
   "outputs": [
    {
     "data": {
      "text/html": [
       "<div>\n",
       "<style scoped>\n",
       "    .dataframe tbody tr th:only-of-type {\n",
       "        vertical-align: middle;\n",
       "    }\n",
       "\n",
       "    .dataframe tbody tr th {\n",
       "        vertical-align: top;\n",
       "    }\n",
       "\n",
       "    .dataframe thead th {\n",
       "        text-align: right;\n",
       "    }\n",
       "</style>\n",
       "<table border=\"1\" class=\"dataframe\">\n",
       "  <thead>\n",
       "    <tr style=\"text-align: right;\">\n",
       "      <th></th>\n",
       "      <th>Unnamed: 0</th>\n",
       "      <th>District_x</th>\n",
       "      <th>Description_x</th>\n",
       "      <th>GridName_x</th>\n",
       "      <th>lng</th>\n",
       "      <th>lat</th>\n",
       "      <th>hospital_500</th>\n",
       "      <th>train_station_500</th>\n",
       "      <th>bus_station_500</th>\n",
       "      <th>park_500</th>\n",
       "      <th>...</th>\n",
       "      <th>Robbery_1500</th>\n",
       "      <th>Shoplifting_1500</th>\n",
       "      <th>Drugs_1500</th>\n",
       "      <th>Theft from the person_1500</th>\n",
       "      <th>Possession of weapons_1500</th>\n",
       "      <th>Local_Authority_District_code__2019_</th>\n",
       "      <th>Local_Authority_District_name__2019_</th>\n",
       "      <th>Index_of_Multiple_Deprivation__IMD__Score</th>\n",
       "      <th>longitude</th>\n",
       "      <th>latitude</th>\n",
       "    </tr>\n",
       "  </thead>\n",
       "  <tbody>\n",
       "    <tr>\n",
       "      <th>0</th>\n",
       "      <td>0</td>\n",
       "      <td>City of Leicester (B)</td>\n",
       "      <td>Unitary Authority</td>\n",
       "      <td>Grid2_0</td>\n",
       "      <td>-1.178881</td>\n",
       "      <td>52.687005</td>\n",
       "      <td>0</td>\n",
       "      <td>0</td>\n",
       "      <td>0</td>\n",
       "      <td>0</td>\n",
       "      <td>...</td>\n",
       "      <td>0</td>\n",
       "      <td>0</td>\n",
       "      <td>0</td>\n",
       "      <td>0</td>\n",
       "      <td>0</td>\n",
       "      <td>E06000016</td>\n",
       "      <td>Leicester</td>\n",
       "      <td>12.917</td>\n",
       "      <td>-1.157259</td>\n",
       "      <td>52.678305</td>\n",
       "    </tr>\n",
       "    <tr>\n",
       "      <th>1</th>\n",
       "      <td>1</td>\n",
       "      <td>City of Leicester (B)</td>\n",
       "      <td>Unitary Authority</td>\n",
       "      <td>Grid3_0</td>\n",
       "      <td>-1.164038</td>\n",
       "      <td>52.687005</td>\n",
       "      <td>0</td>\n",
       "      <td>0</td>\n",
       "      <td>0</td>\n",
       "      <td>0</td>\n",
       "      <td>...</td>\n",
       "      <td>0</td>\n",
       "      <td>0</td>\n",
       "      <td>0</td>\n",
       "      <td>0</td>\n",
       "      <td>0</td>\n",
       "      <td>E06000016</td>\n",
       "      <td>Leicester</td>\n",
       "      <td>12.917</td>\n",
       "      <td>-1.157259</td>\n",
       "      <td>52.678305</td>\n",
       "    </tr>\n",
       "    <tr>\n",
       "      <th>2</th>\n",
       "      <td>2</td>\n",
       "      <td>City of Leicester (B)</td>\n",
       "      <td>Unitary Authority</td>\n",
       "      <td>Grid5_0</td>\n",
       "      <td>-1.134352</td>\n",
       "      <td>52.687005</td>\n",
       "      <td>0</td>\n",
       "      <td>0</td>\n",
       "      <td>0</td>\n",
       "      <td>0</td>\n",
       "      <td>...</td>\n",
       "      <td>0</td>\n",
       "      <td>0</td>\n",
       "      <td>0</td>\n",
       "      <td>0</td>\n",
       "      <td>0</td>\n",
       "      <td>E06000016</td>\n",
       "      <td>Leicester</td>\n",
       "      <td>12.917</td>\n",
       "      <td>-1.157259</td>\n",
       "      <td>52.678305</td>\n",
       "    </tr>\n",
       "    <tr>\n",
       "      <th>3</th>\n",
       "      <td>3</td>\n",
       "      <td>City of Leicester (B)</td>\n",
       "      <td>Unitary Authority</td>\n",
       "      <td>Grid4_0</td>\n",
       "      <td>-1.149195</td>\n",
       "      <td>52.687005</td>\n",
       "      <td>0</td>\n",
       "      <td>0</td>\n",
       "      <td>0</td>\n",
       "      <td>0</td>\n",
       "      <td>...</td>\n",
       "      <td>0</td>\n",
       "      <td>0</td>\n",
       "      <td>0</td>\n",
       "      <td>0</td>\n",
       "      <td>0</td>\n",
       "      <td>E06000016</td>\n",
       "      <td>Leicester</td>\n",
       "      <td>12.917</td>\n",
       "      <td>-1.157259</td>\n",
       "      <td>52.678305</td>\n",
       "    </tr>\n",
       "    <tr>\n",
       "      <th>4</th>\n",
       "      <td>4</td>\n",
       "      <td>City of Leicester (B)</td>\n",
       "      <td>Unitary Authority</td>\n",
       "      <td>Grid2_1</td>\n",
       "      <td>-1.178888</td>\n",
       "      <td>52.678007</td>\n",
       "      <td>0</td>\n",
       "      <td>0</td>\n",
       "      <td>0</td>\n",
       "      <td>0</td>\n",
       "      <td>...</td>\n",
       "      <td>0</td>\n",
       "      <td>0</td>\n",
       "      <td>0</td>\n",
       "      <td>0</td>\n",
       "      <td>0</td>\n",
       "      <td>E06000016</td>\n",
       "      <td>Leicester</td>\n",
       "      <td>27.035</td>\n",
       "      <td>-1.171282</td>\n",
       "      <td>52.671605</td>\n",
       "    </tr>\n",
       "    <tr>\n",
       "      <th>...</th>\n",
       "      <td>...</td>\n",
       "      <td>...</td>\n",
       "      <td>...</td>\n",
       "      <td>...</td>\n",
       "      <td>...</td>\n",
       "      <td>...</td>\n",
       "      <td>...</td>\n",
       "      <td>...</td>\n",
       "      <td>...</td>\n",
       "      <td>...</td>\n",
       "      <td>...</td>\n",
       "      <td>...</td>\n",
       "      <td>...</td>\n",
       "      <td>...</td>\n",
       "      <td>...</td>\n",
       "      <td>...</td>\n",
       "      <td>...</td>\n",
       "      <td>...</td>\n",
       "      <td>...</td>\n",
       "      <td>...</td>\n",
       "      <td>...</td>\n",
       "    </tr>\n",
       "    <tr>\n",
       "      <th>95</th>\n",
       "      <td>95</td>\n",
       "      <td>City of Leicester (B)</td>\n",
       "      <td>Unitary Authority</td>\n",
       "      <td>Grid6_11</td>\n",
       "      <td>-1.119727</td>\n",
       "      <td>52.588025</td>\n",
       "      <td>0</td>\n",
       "      <td>0</td>\n",
       "      <td>0</td>\n",
       "      <td>0</td>\n",
       "      <td>...</td>\n",
       "      <td>0</td>\n",
       "      <td>1</td>\n",
       "      <td>0</td>\n",
       "      <td>0</td>\n",
       "      <td>0</td>\n",
       "      <td>E06000016</td>\n",
       "      <td>Leicester</td>\n",
       "      <td>55.718</td>\n",
       "      <td>-1.131030</td>\n",
       "      <td>52.595230</td>\n",
       "    </tr>\n",
       "    <tr>\n",
       "      <th>96</th>\n",
       "      <td>96</td>\n",
       "      <td>City of Leicester (B)</td>\n",
       "      <td>Unitary Authority</td>\n",
       "      <td>Grid3_12</td>\n",
       "      <td>-1.164166</td>\n",
       "      <td>52.579026</td>\n",
       "      <td>0</td>\n",
       "      <td>0</td>\n",
       "      <td>0</td>\n",
       "      <td>0</td>\n",
       "      <td>...</td>\n",
       "      <td>0</td>\n",
       "      <td>0</td>\n",
       "      <td>0</td>\n",
       "      <td>0</td>\n",
       "      <td>0</td>\n",
       "      <td>E06000016</td>\n",
       "      <td>Leicester</td>\n",
       "      <td>51.943</td>\n",
       "      <td>-1.154786</td>\n",
       "      <td>52.583273</td>\n",
       "    </tr>\n",
       "    <tr>\n",
       "      <th>97</th>\n",
       "      <td>97</td>\n",
       "      <td>City of Leicester (B)</td>\n",
       "      <td>Unitary Authority</td>\n",
       "      <td>Grid4_12</td>\n",
       "      <td>-1.149359</td>\n",
       "      <td>52.579026</td>\n",
       "      <td>0</td>\n",
       "      <td>0</td>\n",
       "      <td>0</td>\n",
       "      <td>0</td>\n",
       "      <td>...</td>\n",
       "      <td>0</td>\n",
       "      <td>2</td>\n",
       "      <td>1</td>\n",
       "      <td>0</td>\n",
       "      <td>0</td>\n",
       "      <td>E06000016</td>\n",
       "      <td>Leicester</td>\n",
       "      <td>51.943</td>\n",
       "      <td>-1.154786</td>\n",
       "      <td>52.583273</td>\n",
       "    </tr>\n",
       "    <tr>\n",
       "      <th>98</th>\n",
       "      <td>98</td>\n",
       "      <td>City of Leicester (B)</td>\n",
       "      <td>Unitary Authority</td>\n",
       "      <td>Grid2_11</td>\n",
       "      <td>-1.178964</td>\n",
       "      <td>52.588025</td>\n",
       "      <td>0</td>\n",
       "      <td>0</td>\n",
       "      <td>0</td>\n",
       "      <td>0</td>\n",
       "      <td>...</td>\n",
       "      <td>0</td>\n",
       "      <td>0</td>\n",
       "      <td>0</td>\n",
       "      <td>0</td>\n",
       "      <td>0</td>\n",
       "      <td>E06000016</td>\n",
       "      <td>Leicester</td>\n",
       "      <td>34.751</td>\n",
       "      <td>-1.162827</td>\n",
       "      <td>52.594066</td>\n",
       "    </tr>\n",
       "    <tr>\n",
       "      <th>99</th>\n",
       "      <td>99</td>\n",
       "      <td>City of Leicester (B)</td>\n",
       "      <td>Unitary Authority</td>\n",
       "      <td>Grid4_11</td>\n",
       "      <td>-1.149346</td>\n",
       "      <td>52.588025</td>\n",
       "      <td>0</td>\n",
       "      <td>0</td>\n",
       "      <td>0</td>\n",
       "      <td>0</td>\n",
       "      <td>...</td>\n",
       "      <td>0</td>\n",
       "      <td>0</td>\n",
       "      <td>2</td>\n",
       "      <td>1</td>\n",
       "      <td>0</td>\n",
       "      <td>E06000016</td>\n",
       "      <td>Leicester</td>\n",
       "      <td>58.904</td>\n",
       "      <td>-1.149153</td>\n",
       "      <td>52.589643</td>\n",
       "    </tr>\n",
       "  </tbody>\n",
       "</table>\n",
       "<p>100 rows × 71 columns</p>\n",
       "</div>"
      ],
      "text/plain": [
       "    Unnamed: 0             District_x      Description_x GridName_x       lng  \\\n",
       "0            0  City of Leicester (B)  Unitary Authority    Grid2_0 -1.178881   \n",
       "1            1  City of Leicester (B)  Unitary Authority    Grid3_0 -1.164038   \n",
       "2            2  City of Leicester (B)  Unitary Authority    Grid5_0 -1.134352   \n",
       "3            3  City of Leicester (B)  Unitary Authority    Grid4_0 -1.149195   \n",
       "4            4  City of Leicester (B)  Unitary Authority    Grid2_1 -1.178888   \n",
       "..         ...                    ...                ...        ...       ...   \n",
       "95          95  City of Leicester (B)  Unitary Authority   Grid6_11 -1.119727   \n",
       "96          96  City of Leicester (B)  Unitary Authority   Grid3_12 -1.164166   \n",
       "97          97  City of Leicester (B)  Unitary Authority   Grid4_12 -1.149359   \n",
       "98          98  City of Leicester (B)  Unitary Authority   Grid2_11 -1.178964   \n",
       "99          99  City of Leicester (B)  Unitary Authority   Grid4_11 -1.149346   \n",
       "\n",
       "          lat  hospital_500  train_station_500  bus_station_500  park_500  \\\n",
       "0   52.687005             0                  0                0         0   \n",
       "1   52.687005             0                  0                0         0   \n",
       "2   52.687005             0                  0                0         0   \n",
       "3   52.687005             0                  0                0         0   \n",
       "4   52.678007             0                  0                0         0   \n",
       "..        ...           ...                ...              ...       ...   \n",
       "95  52.588025             0                  0                0         0   \n",
       "96  52.579026             0                  0                0         0   \n",
       "97  52.579026             0                  0                0         0   \n",
       "98  52.588025             0                  0                0         0   \n",
       "99  52.588025             0                  0                0         0   \n",
       "\n",
       "    ...  Robbery_1500  Shoplifting_1500  Drugs_1500  \\\n",
       "0   ...             0                 0           0   \n",
       "1   ...             0                 0           0   \n",
       "2   ...             0                 0           0   \n",
       "3   ...             0                 0           0   \n",
       "4   ...             0                 0           0   \n",
       "..  ...           ...               ...         ...   \n",
       "95  ...             0                 1           0   \n",
       "96  ...             0                 0           0   \n",
       "97  ...             0                 2           1   \n",
       "98  ...             0                 0           0   \n",
       "99  ...             0                 0           2   \n",
       "\n",
       "    Theft from the person_1500  Possession of weapons_1500  \\\n",
       "0                            0                           0   \n",
       "1                            0                           0   \n",
       "2                            0                           0   \n",
       "3                            0                           0   \n",
       "4                            0                           0   \n",
       "..                         ...                         ...   \n",
       "95                           0                           0   \n",
       "96                           0                           0   \n",
       "97                           0                           0   \n",
       "98                           0                           0   \n",
       "99                           1                           0   \n",
       "\n",
       "    Local_Authority_District_code__2019_  \\\n",
       "0                              E06000016   \n",
       "1                              E06000016   \n",
       "2                              E06000016   \n",
       "3                              E06000016   \n",
       "4                              E06000016   \n",
       "..                                   ...   \n",
       "95                             E06000016   \n",
       "96                             E06000016   \n",
       "97                             E06000016   \n",
       "98                             E06000016   \n",
       "99                             E06000016   \n",
       "\n",
       "    Local_Authority_District_name__2019_  \\\n",
       "0                              Leicester   \n",
       "1                              Leicester   \n",
       "2                              Leicester   \n",
       "3                              Leicester   \n",
       "4                              Leicester   \n",
       "..                                   ...   \n",
       "95                             Leicester   \n",
       "96                             Leicester   \n",
       "97                             Leicester   \n",
       "98                             Leicester   \n",
       "99                             Leicester   \n",
       "\n",
       "    Index_of_Multiple_Deprivation__IMD__Score  longitude   latitude  \n",
       "0                                      12.917  -1.157259  52.678305  \n",
       "1                                      12.917  -1.157259  52.678305  \n",
       "2                                      12.917  -1.157259  52.678305  \n",
       "3                                      12.917  -1.157259  52.678305  \n",
       "4                                      27.035  -1.171282  52.671605  \n",
       "..                                        ...        ...        ...  \n",
       "95                                     55.718  -1.131030  52.595230  \n",
       "96                                     51.943  -1.154786  52.583273  \n",
       "97                                     51.943  -1.154786  52.583273  \n",
       "98                                     34.751  -1.162827  52.594066  \n",
       "99                                     58.904  -1.149153  52.589643  \n",
       "\n",
       "[100 rows x 71 columns]"
      ]
     },
     "execution_count": 6,
     "metadata": {},
     "output_type": "execute_result"
    }
   ],
   "source": [
    "leicester_golden_df"
   ]
  },
  {
   "cell_type": "code",
   "execution_count": 7,
   "id": "23284828",
   "metadata": {},
   "outputs": [
    {
     "data": {
      "text/html": [
       "<div>\n",
       "<style scoped>\n",
       "    .dataframe tbody tr th:only-of-type {\n",
       "        vertical-align: middle;\n",
       "    }\n",
       "\n",
       "    .dataframe tbody tr th {\n",
       "        vertical-align: top;\n",
       "    }\n",
       "\n",
       "    .dataframe thead th {\n",
       "        text-align: right;\n",
       "    }\n",
       "</style>\n",
       "<table border=\"1\" class=\"dataframe\">\n",
       "  <thead>\n",
       "    <tr style=\"text-align: right;\">\n",
       "      <th></th>\n",
       "      <th>District_y</th>\n",
       "      <th>Description_y</th>\n",
       "      <th>GridName_y</th>\n",
       "    </tr>\n",
       "  </thead>\n",
       "  <tbody>\n",
       "    <tr>\n",
       "      <th>0</th>\n",
       "      <td>City of Leicester (B)</td>\n",
       "      <td>Unitary Authority</td>\n",
       "      <td>Grid2_0</td>\n",
       "    </tr>\n",
       "    <tr>\n",
       "      <th>1</th>\n",
       "      <td>City of Leicester (B)</td>\n",
       "      <td>Unitary Authority</td>\n",
       "      <td>Grid3_0</td>\n",
       "    </tr>\n",
       "    <tr>\n",
       "      <th>2</th>\n",
       "      <td>City of Leicester (B)</td>\n",
       "      <td>Unitary Authority</td>\n",
       "      <td>Grid5_0</td>\n",
       "    </tr>\n",
       "    <tr>\n",
       "      <th>3</th>\n",
       "      <td>City of Leicester (B)</td>\n",
       "      <td>Unitary Authority</td>\n",
       "      <td>Grid4_0</td>\n",
       "    </tr>\n",
       "    <tr>\n",
       "      <th>4</th>\n",
       "      <td>City of Leicester (B)</td>\n",
       "      <td>Unitary Authority</td>\n",
       "      <td>Grid2_1</td>\n",
       "    </tr>\n",
       "    <tr>\n",
       "      <th>...</th>\n",
       "      <td>...</td>\n",
       "      <td>...</td>\n",
       "      <td>...</td>\n",
       "    </tr>\n",
       "    <tr>\n",
       "      <th>95</th>\n",
       "      <td>City of Leicester (B)</td>\n",
       "      <td>Unitary Authority</td>\n",
       "      <td>Grid6_11</td>\n",
       "    </tr>\n",
       "    <tr>\n",
       "      <th>96</th>\n",
       "      <td>City of Leicester (B)</td>\n",
       "      <td>Unitary Authority</td>\n",
       "      <td>Grid3_12</td>\n",
       "    </tr>\n",
       "    <tr>\n",
       "      <th>97</th>\n",
       "      <td>City of Leicester (B)</td>\n",
       "      <td>Unitary Authority</td>\n",
       "      <td>Grid4_12</td>\n",
       "    </tr>\n",
       "    <tr>\n",
       "      <th>98</th>\n",
       "      <td>City of Leicester (B)</td>\n",
       "      <td>Unitary Authority</td>\n",
       "      <td>Grid2_11</td>\n",
       "    </tr>\n",
       "    <tr>\n",
       "      <th>99</th>\n",
       "      <td>City of Leicester (B)</td>\n",
       "      <td>Unitary Authority</td>\n",
       "      <td>Grid4_11</td>\n",
       "    </tr>\n",
       "  </tbody>\n",
       "</table>\n",
       "<p>100 rows × 3 columns</p>\n",
       "</div>"
      ],
      "text/plain": [
       "               District_y      Description_y GridName_y\n",
       "0   City of Leicester (B)  Unitary Authority    Grid2_0\n",
       "1   City of Leicester (B)  Unitary Authority    Grid3_0\n",
       "2   City of Leicester (B)  Unitary Authority    Grid5_0\n",
       "3   City of Leicester (B)  Unitary Authority    Grid4_0\n",
       "4   City of Leicester (B)  Unitary Authority    Grid2_1\n",
       "..                    ...                ...        ...\n",
       "95  City of Leicester (B)  Unitary Authority   Grid6_11\n",
       "96  City of Leicester (B)  Unitary Authority   Grid3_12\n",
       "97  City of Leicester (B)  Unitary Authority   Grid4_12\n",
       "98  City of Leicester (B)  Unitary Authority   Grid2_11\n",
       "99  City of Leicester (B)  Unitary Authority   Grid4_11\n",
       "\n",
       "[100 rows x 3 columns]"
      ]
     },
     "execution_count": 7,
     "metadata": {},
     "output_type": "execute_result"
    }
   ],
   "source": [
    "leicester_golden_df[[\"District_y\", \"Description_y\", \"GridName_y\"]]"
   ]
  },
  {
   "cell_type": "code",
   "execution_count": 8,
   "id": "ff2d10fc",
   "metadata": {},
   "outputs": [
    {
     "data": {
      "text/plain": [
       "Index(['Unnamed: 0', 'District_x', 'Description_x', 'GridName_x', 'lng', 'lat',\n",
       "       'hospital_500', 'train_station_500', 'bus_station_500', 'park_500',\n",
       "       'place_of_worship_500', 'hospital_1000', 'train_station_1000',\n",
       "       'bus_station_1000', 'park_1000', 'place_of_worship_1000',\n",
       "       'hospital_1500', 'train_station_1500', 'bus_station_1500', 'park_1500',\n",
       "       'place_of_worship_1500', 'District_y', 'Description_y', 'GridName_y',\n",
       "       'Anti-social behaviour_500', 'Other theft_500', 'Public order_500',\n",
       "       'Vehicle crime_500', 'Violence and sexual offences_500', 'Burglary_500',\n",
       "       'Criminal damage and arson_500', 'Other crime_500', 'Bicycle theft_500',\n",
       "       'Robbery_500', 'Shoplifting_500', 'Drugs_500',\n",
       "       'Theft from the person_500', 'Possession of weapons_500',\n",
       "       'Anti-social behaviour_1000', 'Other theft_1000', 'Public order_1000',\n",
       "       'Vehicle crime_1000', 'Violence and sexual offences_1000',\n",
       "       'Burglary_1000', 'Criminal damage and arson_1000', 'Other crime_1000',\n",
       "       'Bicycle theft_1000', 'Robbery_1000', 'Shoplifting_1000', 'Drugs_1000',\n",
       "       'Theft from the person_1000', 'Possession of weapons_1000',\n",
       "       'Anti-social behaviour_1500', 'Other theft_1500', 'Public order_1500',\n",
       "       'Vehicle crime_1500', 'Violence and sexual offences_1500',\n",
       "       'Burglary_1500', 'Criminal damage and arson_1500', 'Other crime_1500',\n",
       "       'Bicycle theft_1500', 'Robbery_1500', 'Shoplifting_1500', 'Drugs_1500',\n",
       "       'Theft from the person_1500', 'Possession of weapons_1500',\n",
       "       'Local_Authority_District_code__2019_',\n",
       "       'Local_Authority_District_name__2019_',\n",
       "       'Index_of_Multiple_Deprivation__IMD__Score', 'longitude', 'latitude'],\n",
       "      dtype='object')"
      ]
     },
     "execution_count": 8,
     "metadata": {},
     "output_type": "execute_result"
    }
   ],
   "source": [
    "leicester_golden_df.columns"
   ]
  },
  {
   "cell_type": "code",
   "execution_count": 9,
   "id": "75eba2ed",
   "metadata": {},
   "outputs": [],
   "source": [
    "to_scale_df = leicester_golden_df.drop(columns = [\"Unnamed: 0\", \"District_x\", \"Description_x\", \"GridName_x\", \"lng\", \"lat\", \"District_y\", \"Description_y\", \"GridName_y\", \"Local_Authority_District_code__2019_\", \"Local_Authority_District_name__2019_\", \"longitude\", \"latitude\" ])"
   ]
  },
  {
   "cell_type": "code",
   "execution_count": 10,
   "id": "4e59ee7c",
   "metadata": {},
   "outputs": [
    {
     "data": {
      "text/plain": [
       "(100, 58)"
      ]
     },
     "execution_count": 10,
     "metadata": {},
     "output_type": "execute_result"
    }
   ],
   "source": [
    "to_scale_df.shape"
   ]
  },
  {
   "cell_type": "code",
   "execution_count": 11,
   "id": "e6d726f1",
   "metadata": {},
   "outputs": [
    {
     "data": {
      "text/plain": [
       "hospital_500                                 0.231354\n",
       "train_station_500                           -0.031187\n",
       "bus_station_500                              0.455665\n",
       "park_500                                     1.000000\n",
       "place_of_worship_500                         0.446132\n",
       "hospital_1000                                0.675868\n",
       "train_station_1000                           0.012801\n",
       "bus_station_1000                             0.507799\n",
       "park_1000                                    0.696535\n",
       "place_of_worship_1000                        0.471978\n",
       "hospital_1500                                0.395950\n",
       "train_station_1500                           0.508867\n",
       "bus_station_1500                             0.348095\n",
       "park_1500                                    0.624700\n",
       "place_of_worship_1500                        0.465501\n",
       "Anti-social behaviour_500                    0.382004\n",
       "Other theft_500                              0.558131\n",
       "Public order_500                             0.544262\n",
       "Vehicle crime_500                            0.206433\n",
       "Violence and sexual offences_500             0.515650\n",
       "Burglary_500                                 0.397717\n",
       "Criminal damage and arson_500                0.242480\n",
       "Other crime_500                              0.313918\n",
       "Bicycle theft_500                            0.543834\n",
       "Robbery_500                                  0.371540\n",
       "Shoplifting_500                              0.490404\n",
       "Drugs_500                                    0.226787\n",
       "Theft from the person_500                    0.515222\n",
       "Possession of weapons_500                    0.255588\n",
       "Anti-social behaviour_1000                   0.516091\n",
       "Other theft_1000                             0.590410\n",
       "Public order_1000                            0.570779\n",
       "Vehicle crime_1000                           0.475159\n",
       "Violence and sexual offences_1000            0.624033\n",
       "Burglary_1000                                0.505685\n",
       "Criminal damage and arson_1000               0.471148\n",
       "Other crime_1000                             0.279374\n",
       "Bicycle theft_1000                           0.541062\n",
       "Robbery_1000                                 0.466481\n",
       "Shoplifting_1000                             0.569329\n",
       "Drugs_1000                                   0.600927\n",
       "Theft from the person_1000                   0.520043\n",
       "Possession of weapons_1000                   0.600134\n",
       "Anti-social behaviour_1500                   0.370786\n",
       "Other theft_1500                             0.545254\n",
       "Public order_1500                            0.534644\n",
       "Vehicle crime_1500                           0.338475\n",
       "Violence and sexual offences_1500            0.510719\n",
       "Burglary_1500                                0.358581\n",
       "Criminal damage and arson_1500               0.420197\n",
       "Other crime_1500                             0.551696\n",
       "Bicycle theft_1500                           0.648963\n",
       "Robbery_1500                                 0.324113\n",
       "Shoplifting_1500                             0.360792\n",
       "Drugs_1500                                   0.368074\n",
       "Theft from the person_1500                   0.265313\n",
       "Possession of weapons_1500                   0.578306\n",
       "Index_of_Multiple_Deprivation__IMD__Score   -0.049661\n",
       "Name: park_500, dtype: float64"
      ]
     },
     "execution_count": 11,
     "metadata": {},
     "output_type": "execute_result"
    }
   ],
   "source": [
    "pd.DataFrame(to_scale_df).corr().loc[\"park_500\"]"
   ]
  },
  {
   "cell_type": "code",
   "execution_count": null,
   "id": "b0604c64",
   "metadata": {},
   "outputs": [],
   "source": []
  },
  {
   "cell_type": "code",
   "execution_count": 13,
   "id": "11bcb9a4",
   "metadata": {},
   "outputs": [],
   "source": [
    "city_features = to_scale_df.columns"
   ]
  },
  {
   "cell_type": "markdown",
   "id": "1526d52e",
   "metadata": {},
   "source": [
    "# Min Max Scaling Pipe"
   ]
  },
  {
   "cell_type": "markdown",
   "id": "f69a9569",
   "metadata": {},
   "source": [
    "## Scaling"
   ]
  },
  {
   "cell_type": "code",
   "execution_count": 14,
   "id": "edff7688",
   "metadata": {},
   "outputs": [],
   "source": [
    "mm_scaler = MinMaxScaler()"
   ]
  },
  {
   "cell_type": "code",
   "execution_count": 15,
   "id": "c30b3f8a",
   "metadata": {},
   "outputs": [
    {
     "data": {
      "text/html": [
       "<style>#sk-container-id-1 {color: black;background-color: white;}#sk-container-id-1 pre{padding: 0;}#sk-container-id-1 div.sk-toggleable {background-color: white;}#sk-container-id-1 label.sk-toggleable__label {cursor: pointer;display: block;width: 100%;margin-bottom: 0;padding: 0.3em;box-sizing: border-box;text-align: center;}#sk-container-id-1 label.sk-toggleable__label-arrow:before {content: \"▸\";float: left;margin-right: 0.25em;color: #696969;}#sk-container-id-1 label.sk-toggleable__label-arrow:hover:before {color: black;}#sk-container-id-1 div.sk-estimator:hover label.sk-toggleable__label-arrow:before {color: black;}#sk-container-id-1 div.sk-toggleable__content {max-height: 0;max-width: 0;overflow: hidden;text-align: left;background-color: #f0f8ff;}#sk-container-id-1 div.sk-toggleable__content pre {margin: 0.2em;color: black;border-radius: 0.25em;background-color: #f0f8ff;}#sk-container-id-1 input.sk-toggleable__control:checked~div.sk-toggleable__content {max-height: 200px;max-width: 100%;overflow: auto;}#sk-container-id-1 input.sk-toggleable__control:checked~label.sk-toggleable__label-arrow:before {content: \"▾\";}#sk-container-id-1 div.sk-estimator input.sk-toggleable__control:checked~label.sk-toggleable__label {background-color: #d4ebff;}#sk-container-id-1 div.sk-label input.sk-toggleable__control:checked~label.sk-toggleable__label {background-color: #d4ebff;}#sk-container-id-1 input.sk-hidden--visually {border: 0;clip: rect(1px 1px 1px 1px);clip: rect(1px, 1px, 1px, 1px);height: 1px;margin: -1px;overflow: hidden;padding: 0;position: absolute;width: 1px;}#sk-container-id-1 div.sk-estimator {font-family: monospace;background-color: #f0f8ff;border: 1px dotted black;border-radius: 0.25em;box-sizing: border-box;margin-bottom: 0.5em;}#sk-container-id-1 div.sk-estimator:hover {background-color: #d4ebff;}#sk-container-id-1 div.sk-parallel-item::after {content: \"\";width: 100%;border-bottom: 1px solid gray;flex-grow: 1;}#sk-container-id-1 div.sk-label:hover label.sk-toggleable__label {background-color: #d4ebff;}#sk-container-id-1 div.sk-serial::before {content: \"\";position: absolute;border-left: 1px solid gray;box-sizing: border-box;top: 0;bottom: 0;left: 50%;z-index: 0;}#sk-container-id-1 div.sk-serial {display: flex;flex-direction: column;align-items: center;background-color: white;padding-right: 0.2em;padding-left: 0.2em;position: relative;}#sk-container-id-1 div.sk-item {position: relative;z-index: 1;}#sk-container-id-1 div.sk-parallel {display: flex;align-items: stretch;justify-content: center;background-color: white;position: relative;}#sk-container-id-1 div.sk-item::before, #sk-container-id-1 div.sk-parallel-item::before {content: \"\";position: absolute;border-left: 1px solid gray;box-sizing: border-box;top: 0;bottom: 0;left: 50%;z-index: -1;}#sk-container-id-1 div.sk-parallel-item {display: flex;flex-direction: column;z-index: 1;position: relative;background-color: white;}#sk-container-id-1 div.sk-parallel-item:first-child::after {align-self: flex-end;width: 50%;}#sk-container-id-1 div.sk-parallel-item:last-child::after {align-self: flex-start;width: 50%;}#sk-container-id-1 div.sk-parallel-item:only-child::after {width: 0;}#sk-container-id-1 div.sk-dashed-wrapped {border: 1px dashed gray;margin: 0 0.4em 0.5em 0.4em;box-sizing: border-box;padding-bottom: 0.4em;background-color: white;}#sk-container-id-1 div.sk-label label {font-family: monospace;font-weight: bold;display: inline-block;line-height: 1.2em;}#sk-container-id-1 div.sk-label-container {text-align: center;}#sk-container-id-1 div.sk-container {/* jupyter's `normalize.less` sets `[hidden] { display: none; }` but bootstrap.min.css set `[hidden] { display: none !important; }` so we also need the `!important` here to be able to override the default hidden behavior on the sphinx rendered scikit-learn.org. See: https://github.com/scikit-learn/scikit-learn/issues/21755 */display: inline-block !important;position: relative;}#sk-container-id-1 div.sk-text-repr-fallback {display: none;}</style><div id=\"sk-container-id-1\" class=\"sk-top-container\"><div class=\"sk-text-repr-fallback\"><pre>MinMaxScaler()</pre><b>In a Jupyter environment, please rerun this cell to show the HTML representation or trust the notebook. <br />On GitHub, the HTML representation is unable to render, please try loading this page with nbviewer.org.</b></div><div class=\"sk-container\" hidden><div class=\"sk-item\"><div class=\"sk-estimator sk-toggleable\"><input class=\"sk-toggleable__control sk-hidden--visually\" id=\"sk-estimator-id-1\" type=\"checkbox\" checked><label for=\"sk-estimator-id-1\" class=\"sk-toggleable__label sk-toggleable__label-arrow\">MinMaxScaler</label><div class=\"sk-toggleable__content\"><pre>MinMaxScaler()</pre></div></div></div></div></div>"
      ],
      "text/plain": [
       "MinMaxScaler()"
      ]
     },
     "execution_count": 15,
     "metadata": {},
     "output_type": "execute_result"
    }
   ],
   "source": [
    "mm_scaler.fit(to_scale_df)"
   ]
  },
  {
   "cell_type": "code",
   "execution_count": 16,
   "id": "7be39912",
   "metadata": {},
   "outputs": [],
   "source": [
    "mm_scaled_df = pd.DataFrame(mm_scaler.transform(to_scale_df), columns=city_features)"
   ]
  },
  {
   "cell_type": "markdown",
   "id": "2c101463",
   "metadata": {},
   "source": [
    "## Scaling Engineering "
   ]
  },
  {
   "cell_type": "code",
   "execution_count": 17,
   "id": "17fe32c7",
   "metadata": {
    "scrolled": true
   },
   "outputs": [
    {
     "data": {
      "text/plain": [
       "Index(['hospital_500', 'train_station_500', 'bus_station_500', 'park_500',\n",
       "       'place_of_worship_500', 'hospital_1000', 'train_station_1000',\n",
       "       'bus_station_1000', 'park_1000', 'place_of_worship_1000',\n",
       "       'hospital_1500', 'train_station_1500', 'bus_station_1500', 'park_1500',\n",
       "       'place_of_worship_1500', 'Anti-social behaviour_500', 'Other theft_500',\n",
       "       'Public order_500', 'Vehicle crime_500',\n",
       "       'Violence and sexual offences_500', 'Burglary_500',\n",
       "       'Criminal damage and arson_500', 'Other crime_500', 'Bicycle theft_500',\n",
       "       'Robbery_500', 'Shoplifting_500', 'Drugs_500',\n",
       "       'Theft from the person_500', 'Possession of weapons_500',\n",
       "       'Anti-social behaviour_1000', 'Other theft_1000', 'Public order_1000',\n",
       "       'Vehicle crime_1000', 'Violence and sexual offences_1000',\n",
       "       'Burglary_1000', 'Criminal damage and arson_1000', 'Other crime_1000',\n",
       "       'Bicycle theft_1000', 'Robbery_1000', 'Shoplifting_1000', 'Drugs_1000',\n",
       "       'Theft from the person_1000', 'Possession of weapons_1000',\n",
       "       'Anti-social behaviour_1500', 'Other theft_1500', 'Public order_1500',\n",
       "       'Vehicle crime_1500', 'Violence and sexual offences_1500',\n",
       "       'Burglary_1500', 'Criminal damage and arson_1500', 'Other crime_1500',\n",
       "       'Bicycle theft_1500', 'Robbery_1500', 'Shoplifting_1500', 'Drugs_1500',\n",
       "       'Theft from the person_1500', 'Possession of weapons_1500',\n",
       "       'Index_of_Multiple_Deprivation__IMD__Score'],\n",
       "      dtype='object')"
      ]
     },
     "execution_count": 17,
     "metadata": {},
     "output_type": "execute_result"
    }
   ],
   "source": [
    "mm_scaled_df.columns"
   ]
  },
  {
   "cell_type": "code",
   "execution_count": 18,
   "id": "935ba885",
   "metadata": {
    "scrolled": true
   },
   "outputs": [
    {
     "data": {
      "text/html": [
       "<div>\n",
       "<style scoped>\n",
       "    .dataframe tbody tr th:only-of-type {\n",
       "        vertical-align: middle;\n",
       "    }\n",
       "\n",
       "    .dataframe tbody tr th {\n",
       "        vertical-align: top;\n",
       "    }\n",
       "\n",
       "    .dataframe thead th {\n",
       "        text-align: right;\n",
       "    }\n",
       "</style>\n",
       "<table border=\"1\" class=\"dataframe\">\n",
       "  <thead>\n",
       "    <tr style=\"text-align: right;\">\n",
       "      <th></th>\n",
       "      <th>hospital_500</th>\n",
       "      <th>train_station_500</th>\n",
       "      <th>bus_station_500</th>\n",
       "      <th>park_500</th>\n",
       "      <th>place_of_worship_500</th>\n",
       "      <th>hospital_1000</th>\n",
       "      <th>train_station_1000</th>\n",
       "      <th>bus_station_1000</th>\n",
       "      <th>park_1000</th>\n",
       "      <th>place_of_worship_1000</th>\n",
       "      <th>...</th>\n",
       "      <th>Burglary_1500</th>\n",
       "      <th>Criminal damage and arson_1500</th>\n",
       "      <th>Other crime_1500</th>\n",
       "      <th>Bicycle theft_1500</th>\n",
       "      <th>Robbery_1500</th>\n",
       "      <th>Shoplifting_1500</th>\n",
       "      <th>Drugs_1500</th>\n",
       "      <th>Theft from the person_1500</th>\n",
       "      <th>Possession of weapons_1500</th>\n",
       "      <th>Index_of_Multiple_Deprivation__IMD__Score</th>\n",
       "    </tr>\n",
       "  </thead>\n",
       "  <tbody>\n",
       "    <tr>\n",
       "      <th>0</th>\n",
       "      <td>0.0</td>\n",
       "      <td>0.0</td>\n",
       "      <td>0.0</td>\n",
       "      <td>0.0</td>\n",
       "      <td>0.0</td>\n",
       "      <td>0.0</td>\n",
       "      <td>0.0</td>\n",
       "      <td>0.0</td>\n",
       "      <td>0.0</td>\n",
       "      <td>0.0</td>\n",
       "      <td>...</td>\n",
       "      <td>-0.000000</td>\n",
       "      <td>-0.000000</td>\n",
       "      <td>-0.000000</td>\n",
       "      <td>-0.0</td>\n",
       "      <td>-0.0</td>\n",
       "      <td>-0.000000</td>\n",
       "      <td>-0.000000</td>\n",
       "      <td>-0.000000</td>\n",
       "      <td>-0.0</td>\n",
       "      <td>0.119270</td>\n",
       "    </tr>\n",
       "    <tr>\n",
       "      <th>1</th>\n",
       "      <td>0.0</td>\n",
       "      <td>0.0</td>\n",
       "      <td>0.0</td>\n",
       "      <td>0.0</td>\n",
       "      <td>0.0</td>\n",
       "      <td>0.0</td>\n",
       "      <td>0.0</td>\n",
       "      <td>0.0</td>\n",
       "      <td>0.0</td>\n",
       "      <td>0.0</td>\n",
       "      <td>...</td>\n",
       "      <td>-0.000000</td>\n",
       "      <td>-0.027778</td>\n",
       "      <td>-0.000000</td>\n",
       "      <td>-0.0</td>\n",
       "      <td>-0.0</td>\n",
       "      <td>-0.000000</td>\n",
       "      <td>-0.000000</td>\n",
       "      <td>-0.000000</td>\n",
       "      <td>-0.0</td>\n",
       "      <td>0.119270</td>\n",
       "    </tr>\n",
       "    <tr>\n",
       "      <th>2</th>\n",
       "      <td>0.0</td>\n",
       "      <td>0.0</td>\n",
       "      <td>0.0</td>\n",
       "      <td>0.0</td>\n",
       "      <td>0.0</td>\n",
       "      <td>0.0</td>\n",
       "      <td>0.0</td>\n",
       "      <td>0.0</td>\n",
       "      <td>0.0</td>\n",
       "      <td>0.0</td>\n",
       "      <td>...</td>\n",
       "      <td>-0.000000</td>\n",
       "      <td>-0.000000</td>\n",
       "      <td>-0.000000</td>\n",
       "      <td>-0.0</td>\n",
       "      <td>-0.0</td>\n",
       "      <td>-0.000000</td>\n",
       "      <td>-0.000000</td>\n",
       "      <td>-0.000000</td>\n",
       "      <td>-0.0</td>\n",
       "      <td>0.119270</td>\n",
       "    </tr>\n",
       "    <tr>\n",
       "      <th>3</th>\n",
       "      <td>0.0</td>\n",
       "      <td>0.0</td>\n",
       "      <td>0.0</td>\n",
       "      <td>0.0</td>\n",
       "      <td>0.0</td>\n",
       "      <td>0.0</td>\n",
       "      <td>0.0</td>\n",
       "      <td>0.0</td>\n",
       "      <td>0.0</td>\n",
       "      <td>0.0</td>\n",
       "      <td>...</td>\n",
       "      <td>-0.000000</td>\n",
       "      <td>-0.027778</td>\n",
       "      <td>-0.000000</td>\n",
       "      <td>-0.0</td>\n",
       "      <td>-0.0</td>\n",
       "      <td>-0.000000</td>\n",
       "      <td>-0.000000</td>\n",
       "      <td>-0.000000</td>\n",
       "      <td>-0.0</td>\n",
       "      <td>0.119270</td>\n",
       "    </tr>\n",
       "    <tr>\n",
       "      <th>4</th>\n",
       "      <td>0.0</td>\n",
       "      <td>0.0</td>\n",
       "      <td>0.0</td>\n",
       "      <td>0.0</td>\n",
       "      <td>0.0</td>\n",
       "      <td>0.0</td>\n",
       "      <td>0.0</td>\n",
       "      <td>0.0</td>\n",
       "      <td>0.0</td>\n",
       "      <td>0.0</td>\n",
       "      <td>...</td>\n",
       "      <td>-0.000000</td>\n",
       "      <td>-0.083333</td>\n",
       "      <td>-0.142857</td>\n",
       "      <td>-0.0</td>\n",
       "      <td>-0.0</td>\n",
       "      <td>-0.000000</td>\n",
       "      <td>-0.000000</td>\n",
       "      <td>-0.000000</td>\n",
       "      <td>-0.0</td>\n",
       "      <td>0.330333</td>\n",
       "    </tr>\n",
       "    <tr>\n",
       "      <th>...</th>\n",
       "      <td>...</td>\n",
       "      <td>...</td>\n",
       "      <td>...</td>\n",
       "      <td>...</td>\n",
       "      <td>...</td>\n",
       "      <td>...</td>\n",
       "      <td>...</td>\n",
       "      <td>...</td>\n",
       "      <td>...</td>\n",
       "      <td>...</td>\n",
       "      <td>...</td>\n",
       "      <td>...</td>\n",
       "      <td>...</td>\n",
       "      <td>...</td>\n",
       "      <td>...</td>\n",
       "      <td>...</td>\n",
       "      <td>...</td>\n",
       "      <td>...</td>\n",
       "      <td>...</td>\n",
       "      <td>...</td>\n",
       "      <td>...</td>\n",
       "    </tr>\n",
       "    <tr>\n",
       "      <th>95</th>\n",
       "      <td>0.0</td>\n",
       "      <td>0.0</td>\n",
       "      <td>0.0</td>\n",
       "      <td>0.0</td>\n",
       "      <td>0.0</td>\n",
       "      <td>0.0</td>\n",
       "      <td>0.0</td>\n",
       "      <td>0.0</td>\n",
       "      <td>0.0</td>\n",
       "      <td>0.0</td>\n",
       "      <td>...</td>\n",
       "      <td>-0.333333</td>\n",
       "      <td>-0.083333</td>\n",
       "      <td>-0.142857</td>\n",
       "      <td>-0.0</td>\n",
       "      <td>-0.0</td>\n",
       "      <td>-0.018182</td>\n",
       "      <td>-0.000000</td>\n",
       "      <td>-0.000000</td>\n",
       "      <td>-0.0</td>\n",
       "      <td>0.759142</td>\n",
       "    </tr>\n",
       "    <tr>\n",
       "      <th>96</th>\n",
       "      <td>0.0</td>\n",
       "      <td>0.0</td>\n",
       "      <td>0.0</td>\n",
       "      <td>0.0</td>\n",
       "      <td>0.0</td>\n",
       "      <td>0.0</td>\n",
       "      <td>0.0</td>\n",
       "      <td>0.0</td>\n",
       "      <td>0.0</td>\n",
       "      <td>0.0</td>\n",
       "      <td>...</td>\n",
       "      <td>-0.133333</td>\n",
       "      <td>-0.027778</td>\n",
       "      <td>-0.285714</td>\n",
       "      <td>-0.0</td>\n",
       "      <td>-0.0</td>\n",
       "      <td>-0.000000</td>\n",
       "      <td>-0.000000</td>\n",
       "      <td>-0.000000</td>\n",
       "      <td>-0.0</td>\n",
       "      <td>0.702706</td>\n",
       "    </tr>\n",
       "    <tr>\n",
       "      <th>97</th>\n",
       "      <td>0.0</td>\n",
       "      <td>0.0</td>\n",
       "      <td>0.0</td>\n",
       "      <td>0.0</td>\n",
       "      <td>0.0</td>\n",
       "      <td>0.0</td>\n",
       "      <td>0.0</td>\n",
       "      <td>0.0</td>\n",
       "      <td>0.0</td>\n",
       "      <td>0.0</td>\n",
       "      <td>...</td>\n",
       "      <td>-0.200000</td>\n",
       "      <td>-0.111111</td>\n",
       "      <td>-0.285714</td>\n",
       "      <td>-0.0</td>\n",
       "      <td>-0.0</td>\n",
       "      <td>-0.036364</td>\n",
       "      <td>-0.033333</td>\n",
       "      <td>-0.000000</td>\n",
       "      <td>-0.0</td>\n",
       "      <td>0.702706</td>\n",
       "    </tr>\n",
       "    <tr>\n",
       "      <th>98</th>\n",
       "      <td>0.0</td>\n",
       "      <td>0.0</td>\n",
       "      <td>0.0</td>\n",
       "      <td>0.0</td>\n",
       "      <td>0.0</td>\n",
       "      <td>0.0</td>\n",
       "      <td>0.0</td>\n",
       "      <td>0.0</td>\n",
       "      <td>0.0</td>\n",
       "      <td>0.0</td>\n",
       "      <td>...</td>\n",
       "      <td>-0.000000</td>\n",
       "      <td>-0.000000</td>\n",
       "      <td>-0.000000</td>\n",
       "      <td>-0.0</td>\n",
       "      <td>-0.0</td>\n",
       "      <td>-0.000000</td>\n",
       "      <td>-0.000000</td>\n",
       "      <td>-0.000000</td>\n",
       "      <td>-0.0</td>\n",
       "      <td>0.445687</td>\n",
       "    </tr>\n",
       "    <tr>\n",
       "      <th>99</th>\n",
       "      <td>0.0</td>\n",
       "      <td>0.0</td>\n",
       "      <td>0.0</td>\n",
       "      <td>0.0</td>\n",
       "      <td>0.0</td>\n",
       "      <td>0.0</td>\n",
       "      <td>0.0</td>\n",
       "      <td>0.0</td>\n",
       "      <td>0.0</td>\n",
       "      <td>0.0</td>\n",
       "      <td>...</td>\n",
       "      <td>-0.400000</td>\n",
       "      <td>-0.166667</td>\n",
       "      <td>-0.000000</td>\n",
       "      <td>-0.0</td>\n",
       "      <td>-0.0</td>\n",
       "      <td>-0.000000</td>\n",
       "      <td>-0.066667</td>\n",
       "      <td>-0.071429</td>\n",
       "      <td>-0.0</td>\n",
       "      <td>0.806772</td>\n",
       "    </tr>\n",
       "  </tbody>\n",
       "</table>\n",
       "<p>100 rows × 58 columns</p>\n",
       "</div>"
      ],
      "text/plain": [
       "    hospital_500  train_station_500  bus_station_500  park_500  \\\n",
       "0            0.0                0.0              0.0       0.0   \n",
       "1            0.0                0.0              0.0       0.0   \n",
       "2            0.0                0.0              0.0       0.0   \n",
       "3            0.0                0.0              0.0       0.0   \n",
       "4            0.0                0.0              0.0       0.0   \n",
       "..           ...                ...              ...       ...   \n",
       "95           0.0                0.0              0.0       0.0   \n",
       "96           0.0                0.0              0.0       0.0   \n",
       "97           0.0                0.0              0.0       0.0   \n",
       "98           0.0                0.0              0.0       0.0   \n",
       "99           0.0                0.0              0.0       0.0   \n",
       "\n",
       "    place_of_worship_500  hospital_1000  train_station_1000  bus_station_1000  \\\n",
       "0                    0.0            0.0                 0.0               0.0   \n",
       "1                    0.0            0.0                 0.0               0.0   \n",
       "2                    0.0            0.0                 0.0               0.0   \n",
       "3                    0.0            0.0                 0.0               0.0   \n",
       "4                    0.0            0.0                 0.0               0.0   \n",
       "..                   ...            ...                 ...               ...   \n",
       "95                   0.0            0.0                 0.0               0.0   \n",
       "96                   0.0            0.0                 0.0               0.0   \n",
       "97                   0.0            0.0                 0.0               0.0   \n",
       "98                   0.0            0.0                 0.0               0.0   \n",
       "99                   0.0            0.0                 0.0               0.0   \n",
       "\n",
       "    park_1000  place_of_worship_1000  ...  Burglary_1500  \\\n",
       "0         0.0                    0.0  ...      -0.000000   \n",
       "1         0.0                    0.0  ...      -0.000000   \n",
       "2         0.0                    0.0  ...      -0.000000   \n",
       "3         0.0                    0.0  ...      -0.000000   \n",
       "4         0.0                    0.0  ...      -0.000000   \n",
       "..        ...                    ...  ...            ...   \n",
       "95        0.0                    0.0  ...      -0.333333   \n",
       "96        0.0                    0.0  ...      -0.133333   \n",
       "97        0.0                    0.0  ...      -0.200000   \n",
       "98        0.0                    0.0  ...      -0.000000   \n",
       "99        0.0                    0.0  ...      -0.400000   \n",
       "\n",
       "    Criminal damage and arson_1500  Other crime_1500  Bicycle theft_1500  \\\n",
       "0                        -0.000000         -0.000000                -0.0   \n",
       "1                        -0.027778         -0.000000                -0.0   \n",
       "2                        -0.000000         -0.000000                -0.0   \n",
       "3                        -0.027778         -0.000000                -0.0   \n",
       "4                        -0.083333         -0.142857                -0.0   \n",
       "..                             ...               ...                 ...   \n",
       "95                       -0.083333         -0.142857                -0.0   \n",
       "96                       -0.027778         -0.285714                -0.0   \n",
       "97                       -0.111111         -0.285714                -0.0   \n",
       "98                       -0.000000         -0.000000                -0.0   \n",
       "99                       -0.166667         -0.000000                -0.0   \n",
       "\n",
       "    Robbery_1500  Shoplifting_1500  Drugs_1500  Theft from the person_1500  \\\n",
       "0           -0.0         -0.000000   -0.000000                   -0.000000   \n",
       "1           -0.0         -0.000000   -0.000000                   -0.000000   \n",
       "2           -0.0         -0.000000   -0.000000                   -0.000000   \n",
       "3           -0.0         -0.000000   -0.000000                   -0.000000   \n",
       "4           -0.0         -0.000000   -0.000000                   -0.000000   \n",
       "..           ...               ...         ...                         ...   \n",
       "95          -0.0         -0.018182   -0.000000                   -0.000000   \n",
       "96          -0.0         -0.000000   -0.000000                   -0.000000   \n",
       "97          -0.0         -0.036364   -0.033333                   -0.000000   \n",
       "98          -0.0         -0.000000   -0.000000                   -0.000000   \n",
       "99          -0.0         -0.000000   -0.066667                   -0.071429   \n",
       "\n",
       "    Possession of weapons_1500  Index_of_Multiple_Deprivation__IMD__Score  \n",
       "0                         -0.0                                   0.119270  \n",
       "1                         -0.0                                   0.119270  \n",
       "2                         -0.0                                   0.119270  \n",
       "3                         -0.0                                   0.119270  \n",
       "4                         -0.0                                   0.330333  \n",
       "..                         ...                                        ...  \n",
       "95                        -0.0                                   0.759142  \n",
       "96                        -0.0                                   0.702706  \n",
       "97                        -0.0                                   0.702706  \n",
       "98                        -0.0                                   0.445687  \n",
       "99                        -0.0                                   0.806772  \n",
       "\n",
       "[100 rows x 58 columns]"
      ]
     },
     "execution_count": 18,
     "metadata": {},
     "output_type": "execute_result"
    }
   ],
   "source": [
    "mm_scaled_df[['Anti-social behaviour_500', 'Other theft_500',\n",
    "       'Public order_500', 'Vehicle crime_500',\n",
    "       'Violence and sexual offences_500', 'Burglary_500',\n",
    "       'Criminal damage and arson_500', 'Other crime_500', 'Bicycle theft_500',\n",
    "       'Robbery_500', 'Shoplifting_500', 'Drugs_500',\n",
    "       'Theft from the person_500', 'Possession of weapons_500',\n",
    "       'Anti-social behaviour_1000', 'Other theft_1000', 'Public order_1000',\n",
    "       'Vehicle crime_1000', 'Violence and sexual offences_1000',\n",
    "       'Burglary_1000', 'Criminal damage and arson_1000', 'Other crime_1000',\n",
    "       'Bicycle theft_1000', 'Robbery_1000', 'Shoplifting_1000', 'Drugs_1000',\n",
    "       'Theft from the person_1000', 'Possession of weapons_1000',\n",
    "       'Anti-social behaviour_1500', 'Other theft_1500', 'Public order_1500',\n",
    "       'Vehicle crime_1500', 'Violence and sexual offences_1500',\n",
    "       'Burglary_1500', 'Criminal damage and arson_1500', 'Other crime_1500',\n",
    "       'Bicycle theft_1500', 'Robbery_1500', 'Shoplifting_1500', 'Drugs_1500',\n",
    "       'Theft from the person_1500', 'Possession of weapons_1500']] = mm_scaled_df[['Anti-social behaviour_500', 'Other theft_500',\n",
    "       'Public order_500', 'Vehicle crime_500',\n",
    "       'Violence and sexual offences_500', 'Burglary_500',\n",
    "       'Criminal damage and arson_500', 'Other crime_500', 'Bicycle theft_500',\n",
    "       'Robbery_500', 'Shoplifting_500', 'Drugs_500',\n",
    "       'Theft from the person_500', 'Possession of weapons_500',\n",
    "       'Anti-social behaviour_1000', 'Other theft_1000', 'Public order_1000',\n",
    "       'Vehicle crime_1000', 'Violence and sexual offences_1000',\n",
    "       'Burglary_1000', 'Criminal damage and arson_1000', 'Other crime_1000',\n",
    "       'Bicycle theft_1000', 'Robbery_1000', 'Shoplifting_1000', 'Drugs_1000',\n",
    "       'Theft from the person_1000', 'Possession of weapons_1000',\n",
    "       'Anti-social behaviour_1500', 'Other theft_1500', 'Public order_1500',\n",
    "       'Vehicle crime_1500', 'Violence and sexual offences_1500',\n",
    "       'Burglary_1500', 'Criminal damage and arson_1500', 'Other crime_1500',\n",
    "       'Bicycle theft_1500', 'Robbery_1500', 'Shoplifting_1500', 'Drugs_1500',\n",
    "       'Theft from the person_1500', 'Possession of weapons_1500']] *-1\n",
    "mm_scaled_df"
   ]
  },
  {
   "cell_type": "code",
   "execution_count": 19,
   "id": "184ecf6d",
   "metadata": {},
   "outputs": [],
   "source": [
    "mm_scaled_df[['hospital_500', 'hospital_1000', 'hospital_1500']] = mm_scaled_df[['hospital_500', 'hospital_1000', 'hospital_1500']]*2"
   ]
  },
  {
   "cell_type": "markdown",
   "id": "47de9ead",
   "metadata": {},
   "source": [
    "# Robust Scaling Pipe"
   ]
  },
  {
   "cell_type": "markdown",
   "id": "f4b2e9a2",
   "metadata": {},
   "source": [
    "## Scaling"
   ]
  },
  {
   "cell_type": "code",
   "execution_count": 20,
   "id": "8b6fbd13",
   "metadata": {},
   "outputs": [],
   "source": [
    "r_scaler = RobustScaler()"
   ]
  },
  {
   "cell_type": "code",
   "execution_count": 21,
   "id": "c46f5035",
   "metadata": {},
   "outputs": [
    {
     "data": {
      "text/html": [
       "<style>#sk-container-id-2 {color: black;background-color: white;}#sk-container-id-2 pre{padding: 0;}#sk-container-id-2 div.sk-toggleable {background-color: white;}#sk-container-id-2 label.sk-toggleable__label {cursor: pointer;display: block;width: 100%;margin-bottom: 0;padding: 0.3em;box-sizing: border-box;text-align: center;}#sk-container-id-2 label.sk-toggleable__label-arrow:before {content: \"▸\";float: left;margin-right: 0.25em;color: #696969;}#sk-container-id-2 label.sk-toggleable__label-arrow:hover:before {color: black;}#sk-container-id-2 div.sk-estimator:hover label.sk-toggleable__label-arrow:before {color: black;}#sk-container-id-2 div.sk-toggleable__content {max-height: 0;max-width: 0;overflow: hidden;text-align: left;background-color: #f0f8ff;}#sk-container-id-2 div.sk-toggleable__content pre {margin: 0.2em;color: black;border-radius: 0.25em;background-color: #f0f8ff;}#sk-container-id-2 input.sk-toggleable__control:checked~div.sk-toggleable__content {max-height: 200px;max-width: 100%;overflow: auto;}#sk-container-id-2 input.sk-toggleable__control:checked~label.sk-toggleable__label-arrow:before {content: \"▾\";}#sk-container-id-2 div.sk-estimator input.sk-toggleable__control:checked~label.sk-toggleable__label {background-color: #d4ebff;}#sk-container-id-2 div.sk-label input.sk-toggleable__control:checked~label.sk-toggleable__label {background-color: #d4ebff;}#sk-container-id-2 input.sk-hidden--visually {border: 0;clip: rect(1px 1px 1px 1px);clip: rect(1px, 1px, 1px, 1px);height: 1px;margin: -1px;overflow: hidden;padding: 0;position: absolute;width: 1px;}#sk-container-id-2 div.sk-estimator {font-family: monospace;background-color: #f0f8ff;border: 1px dotted black;border-radius: 0.25em;box-sizing: border-box;margin-bottom: 0.5em;}#sk-container-id-2 div.sk-estimator:hover {background-color: #d4ebff;}#sk-container-id-2 div.sk-parallel-item::after {content: \"\";width: 100%;border-bottom: 1px solid gray;flex-grow: 1;}#sk-container-id-2 div.sk-label:hover label.sk-toggleable__label {background-color: #d4ebff;}#sk-container-id-2 div.sk-serial::before {content: \"\";position: absolute;border-left: 1px solid gray;box-sizing: border-box;top: 0;bottom: 0;left: 50%;z-index: 0;}#sk-container-id-2 div.sk-serial {display: flex;flex-direction: column;align-items: center;background-color: white;padding-right: 0.2em;padding-left: 0.2em;position: relative;}#sk-container-id-2 div.sk-item {position: relative;z-index: 1;}#sk-container-id-2 div.sk-parallel {display: flex;align-items: stretch;justify-content: center;background-color: white;position: relative;}#sk-container-id-2 div.sk-item::before, #sk-container-id-2 div.sk-parallel-item::before {content: \"\";position: absolute;border-left: 1px solid gray;box-sizing: border-box;top: 0;bottom: 0;left: 50%;z-index: -1;}#sk-container-id-2 div.sk-parallel-item {display: flex;flex-direction: column;z-index: 1;position: relative;background-color: white;}#sk-container-id-2 div.sk-parallel-item:first-child::after {align-self: flex-end;width: 50%;}#sk-container-id-2 div.sk-parallel-item:last-child::after {align-self: flex-start;width: 50%;}#sk-container-id-2 div.sk-parallel-item:only-child::after {width: 0;}#sk-container-id-2 div.sk-dashed-wrapped {border: 1px dashed gray;margin: 0 0.4em 0.5em 0.4em;box-sizing: border-box;padding-bottom: 0.4em;background-color: white;}#sk-container-id-2 div.sk-label label {font-family: monospace;font-weight: bold;display: inline-block;line-height: 1.2em;}#sk-container-id-2 div.sk-label-container {text-align: center;}#sk-container-id-2 div.sk-container {/* jupyter's `normalize.less` sets `[hidden] { display: none; }` but bootstrap.min.css set `[hidden] { display: none !important; }` so we also need the `!important` here to be able to override the default hidden behavior on the sphinx rendered scikit-learn.org. See: https://github.com/scikit-learn/scikit-learn/issues/21755 */display: inline-block !important;position: relative;}#sk-container-id-2 div.sk-text-repr-fallback {display: none;}</style><div id=\"sk-container-id-2\" class=\"sk-top-container\"><div class=\"sk-text-repr-fallback\"><pre>RobustScaler()</pre><b>In a Jupyter environment, please rerun this cell to show the HTML representation or trust the notebook. <br />On GitHub, the HTML representation is unable to render, please try loading this page with nbviewer.org.</b></div><div class=\"sk-container\" hidden><div class=\"sk-item\"><div class=\"sk-estimator sk-toggleable\"><input class=\"sk-toggleable__control sk-hidden--visually\" id=\"sk-estimator-id-2\" type=\"checkbox\" checked><label for=\"sk-estimator-id-2\" class=\"sk-toggleable__label sk-toggleable__label-arrow\">RobustScaler</label><div class=\"sk-toggleable__content\"><pre>RobustScaler()</pre></div></div></div></div></div>"
      ],
      "text/plain": [
       "RobustScaler()"
      ]
     },
     "execution_count": 21,
     "metadata": {},
     "output_type": "execute_result"
    }
   ],
   "source": [
    "r_scaler.fit(to_scale_df)"
   ]
  },
  {
   "cell_type": "code",
   "execution_count": 22,
   "id": "24709e07",
   "metadata": {},
   "outputs": [],
   "source": [
    "r_scaled_df = pd.DataFrame(r_scaler.transform(to_scale_df), columns=city_features)"
   ]
  },
  {
   "cell_type": "markdown",
   "id": "d5e9484a",
   "metadata": {},
   "source": [
    "## Scaling Engineering "
   ]
  },
  {
   "cell_type": "code",
   "execution_count": 23,
   "id": "f55900ab",
   "metadata": {
    "scrolled": false
   },
   "outputs": [
    {
     "data": {
      "text/html": [
       "<div>\n",
       "<style scoped>\n",
       "    .dataframe tbody tr th:only-of-type {\n",
       "        vertical-align: middle;\n",
       "    }\n",
       "\n",
       "    .dataframe tbody tr th {\n",
       "        vertical-align: top;\n",
       "    }\n",
       "\n",
       "    .dataframe thead th {\n",
       "        text-align: right;\n",
       "    }\n",
       "</style>\n",
       "<table border=\"1\" class=\"dataframe\">\n",
       "  <thead>\n",
       "    <tr style=\"text-align: right;\">\n",
       "      <th></th>\n",
       "      <th>hospital_500</th>\n",
       "      <th>train_station_500</th>\n",
       "      <th>bus_station_500</th>\n",
       "      <th>park_500</th>\n",
       "      <th>place_of_worship_500</th>\n",
       "      <th>hospital_1000</th>\n",
       "      <th>train_station_1000</th>\n",
       "      <th>bus_station_1000</th>\n",
       "      <th>park_1000</th>\n",
       "      <th>place_of_worship_1000</th>\n",
       "      <th>...</th>\n",
       "      <th>Burglary_1500</th>\n",
       "      <th>Criminal damage and arson_1500</th>\n",
       "      <th>Other crime_1500</th>\n",
       "      <th>Bicycle theft_1500</th>\n",
       "      <th>Robbery_1500</th>\n",
       "      <th>Shoplifting_1500</th>\n",
       "      <th>Drugs_1500</th>\n",
       "      <th>Theft from the person_1500</th>\n",
       "      <th>Possession of weapons_1500</th>\n",
       "      <th>Index_of_Multiple_Deprivation__IMD__Score</th>\n",
       "    </tr>\n",
       "  </thead>\n",
       "  <tbody>\n",
       "    <tr>\n",
       "      <th>0</th>\n",
       "      <td>0.0</td>\n",
       "      <td>0.0</td>\n",
       "      <td>0.0</td>\n",
       "      <td>0.0</td>\n",
       "      <td>0.0</td>\n",
       "      <td>0.0</td>\n",
       "      <td>0.0</td>\n",
       "      <td>0.0</td>\n",
       "      <td>0.0</td>\n",
       "      <td>0.0</td>\n",
       "      <td>...</td>\n",
       "      <td>0.000000</td>\n",
       "      <td>0.000000</td>\n",
       "      <td>0.000000</td>\n",
       "      <td>0.0</td>\n",
       "      <td>0.0</td>\n",
       "      <td>0.000000</td>\n",
       "      <td>0.000000</td>\n",
       "      <td>0.000000</td>\n",
       "      <td>0.0</td>\n",
       "      <td>-0.572723</td>\n",
       "    </tr>\n",
       "    <tr>\n",
       "      <th>1</th>\n",
       "      <td>0.0</td>\n",
       "      <td>0.0</td>\n",
       "      <td>0.0</td>\n",
       "      <td>0.0</td>\n",
       "      <td>0.0</td>\n",
       "      <td>0.0</td>\n",
       "      <td>0.0</td>\n",
       "      <td>0.0</td>\n",
       "      <td>0.0</td>\n",
       "      <td>0.0</td>\n",
       "      <td>...</td>\n",
       "      <td>0.000000</td>\n",
       "      <td>0.027778</td>\n",
       "      <td>0.000000</td>\n",
       "      <td>0.0</td>\n",
       "      <td>0.0</td>\n",
       "      <td>0.000000</td>\n",
       "      <td>0.000000</td>\n",
       "      <td>0.000000</td>\n",
       "      <td>0.0</td>\n",
       "      <td>-0.572723</td>\n",
       "    </tr>\n",
       "    <tr>\n",
       "      <th>2</th>\n",
       "      <td>0.0</td>\n",
       "      <td>0.0</td>\n",
       "      <td>0.0</td>\n",
       "      <td>0.0</td>\n",
       "      <td>0.0</td>\n",
       "      <td>0.0</td>\n",
       "      <td>0.0</td>\n",
       "      <td>0.0</td>\n",
       "      <td>0.0</td>\n",
       "      <td>0.0</td>\n",
       "      <td>...</td>\n",
       "      <td>0.000000</td>\n",
       "      <td>0.000000</td>\n",
       "      <td>0.000000</td>\n",
       "      <td>0.0</td>\n",
       "      <td>0.0</td>\n",
       "      <td>0.000000</td>\n",
       "      <td>0.000000</td>\n",
       "      <td>0.000000</td>\n",
       "      <td>0.0</td>\n",
       "      <td>-0.572723</td>\n",
       "    </tr>\n",
       "    <tr>\n",
       "      <th>3</th>\n",
       "      <td>0.0</td>\n",
       "      <td>0.0</td>\n",
       "      <td>0.0</td>\n",
       "      <td>0.0</td>\n",
       "      <td>0.0</td>\n",
       "      <td>0.0</td>\n",
       "      <td>0.0</td>\n",
       "      <td>0.0</td>\n",
       "      <td>0.0</td>\n",
       "      <td>0.0</td>\n",
       "      <td>...</td>\n",
       "      <td>0.000000</td>\n",
       "      <td>0.027778</td>\n",
       "      <td>0.000000</td>\n",
       "      <td>0.0</td>\n",
       "      <td>0.0</td>\n",
       "      <td>0.000000</td>\n",
       "      <td>0.000000</td>\n",
       "      <td>0.000000</td>\n",
       "      <td>0.0</td>\n",
       "      <td>-0.572723</td>\n",
       "    </tr>\n",
       "    <tr>\n",
       "      <th>4</th>\n",
       "      <td>0.0</td>\n",
       "      <td>0.0</td>\n",
       "      <td>0.0</td>\n",
       "      <td>0.0</td>\n",
       "      <td>0.0</td>\n",
       "      <td>0.0</td>\n",
       "      <td>0.0</td>\n",
       "      <td>0.0</td>\n",
       "      <td>0.0</td>\n",
       "      <td>0.0</td>\n",
       "      <td>...</td>\n",
       "      <td>0.000000</td>\n",
       "      <td>0.083333</td>\n",
       "      <td>0.142857</td>\n",
       "      <td>0.0</td>\n",
       "      <td>0.0</td>\n",
       "      <td>0.000000</td>\n",
       "      <td>0.000000</td>\n",
       "      <td>0.000000</td>\n",
       "      <td>0.0</td>\n",
       "      <td>-0.049597</td>\n",
       "    </tr>\n",
       "    <tr>\n",
       "      <th>...</th>\n",
       "      <td>...</td>\n",
       "      <td>...</td>\n",
       "      <td>...</td>\n",
       "      <td>...</td>\n",
       "      <td>...</td>\n",
       "      <td>...</td>\n",
       "      <td>...</td>\n",
       "      <td>...</td>\n",
       "      <td>...</td>\n",
       "      <td>...</td>\n",
       "      <td>...</td>\n",
       "      <td>...</td>\n",
       "      <td>...</td>\n",
       "      <td>...</td>\n",
       "      <td>...</td>\n",
       "      <td>...</td>\n",
       "      <td>...</td>\n",
       "      <td>...</td>\n",
       "      <td>...</td>\n",
       "      <td>...</td>\n",
       "      <td>...</td>\n",
       "    </tr>\n",
       "    <tr>\n",
       "      <th>95</th>\n",
       "      <td>0.0</td>\n",
       "      <td>0.0</td>\n",
       "      <td>0.0</td>\n",
       "      <td>0.0</td>\n",
       "      <td>0.0</td>\n",
       "      <td>0.0</td>\n",
       "      <td>0.0</td>\n",
       "      <td>0.0</td>\n",
       "      <td>0.0</td>\n",
       "      <td>0.0</td>\n",
       "      <td>...</td>\n",
       "      <td>0.333333</td>\n",
       "      <td>0.083333</td>\n",
       "      <td>0.142857</td>\n",
       "      <td>0.0</td>\n",
       "      <td>0.0</td>\n",
       "      <td>0.018182</td>\n",
       "      <td>0.000000</td>\n",
       "      <td>0.000000</td>\n",
       "      <td>0.0</td>\n",
       "      <td>1.013219</td>\n",
       "    </tr>\n",
       "    <tr>\n",
       "      <th>96</th>\n",
       "      <td>0.0</td>\n",
       "      <td>0.0</td>\n",
       "      <td>0.0</td>\n",
       "      <td>0.0</td>\n",
       "      <td>0.0</td>\n",
       "      <td>0.0</td>\n",
       "      <td>0.0</td>\n",
       "      <td>0.0</td>\n",
       "      <td>0.0</td>\n",
       "      <td>0.0</td>\n",
       "      <td>...</td>\n",
       "      <td>0.133333</td>\n",
       "      <td>0.027778</td>\n",
       "      <td>0.285714</td>\n",
       "      <td>0.0</td>\n",
       "      <td>0.0</td>\n",
       "      <td>0.000000</td>\n",
       "      <td>0.000000</td>\n",
       "      <td>0.000000</td>\n",
       "      <td>0.0</td>\n",
       "      <td>0.873341</td>\n",
       "    </tr>\n",
       "    <tr>\n",
       "      <th>97</th>\n",
       "      <td>0.0</td>\n",
       "      <td>0.0</td>\n",
       "      <td>0.0</td>\n",
       "      <td>0.0</td>\n",
       "      <td>0.0</td>\n",
       "      <td>0.0</td>\n",
       "      <td>0.0</td>\n",
       "      <td>0.0</td>\n",
       "      <td>0.0</td>\n",
       "      <td>0.0</td>\n",
       "      <td>...</td>\n",
       "      <td>0.200000</td>\n",
       "      <td>0.111111</td>\n",
       "      <td>0.285714</td>\n",
       "      <td>0.0</td>\n",
       "      <td>0.0</td>\n",
       "      <td>0.036364</td>\n",
       "      <td>0.033333</td>\n",
       "      <td>0.000000</td>\n",
       "      <td>0.0</td>\n",
       "      <td>0.873341</td>\n",
       "    </tr>\n",
       "    <tr>\n",
       "      <th>98</th>\n",
       "      <td>0.0</td>\n",
       "      <td>0.0</td>\n",
       "      <td>0.0</td>\n",
       "      <td>0.0</td>\n",
       "      <td>0.0</td>\n",
       "      <td>0.0</td>\n",
       "      <td>0.0</td>\n",
       "      <td>0.0</td>\n",
       "      <td>0.0</td>\n",
       "      <td>0.0</td>\n",
       "      <td>...</td>\n",
       "      <td>0.000000</td>\n",
       "      <td>0.000000</td>\n",
       "      <td>0.000000</td>\n",
       "      <td>0.0</td>\n",
       "      <td>0.0</td>\n",
       "      <td>0.000000</td>\n",
       "      <td>0.000000</td>\n",
       "      <td>0.000000</td>\n",
       "      <td>0.0</td>\n",
       "      <td>0.236311</td>\n",
       "    </tr>\n",
       "    <tr>\n",
       "      <th>99</th>\n",
       "      <td>0.0</td>\n",
       "      <td>0.0</td>\n",
       "      <td>0.0</td>\n",
       "      <td>0.0</td>\n",
       "      <td>0.0</td>\n",
       "      <td>0.0</td>\n",
       "      <td>0.0</td>\n",
       "      <td>0.0</td>\n",
       "      <td>0.0</td>\n",
       "      <td>0.0</td>\n",
       "      <td>...</td>\n",
       "      <td>0.400000</td>\n",
       "      <td>0.166667</td>\n",
       "      <td>0.000000</td>\n",
       "      <td>0.0</td>\n",
       "      <td>0.0</td>\n",
       "      <td>0.000000</td>\n",
       "      <td>0.066667</td>\n",
       "      <td>0.071429</td>\n",
       "      <td>0.0</td>\n",
       "      <td>1.131273</td>\n",
       "    </tr>\n",
       "  </tbody>\n",
       "</table>\n",
       "<p>100 rows × 58 columns</p>\n",
       "</div>"
      ],
      "text/plain": [
       "    hospital_500  train_station_500  bus_station_500  park_500  \\\n",
       "0            0.0                0.0              0.0       0.0   \n",
       "1            0.0                0.0              0.0       0.0   \n",
       "2            0.0                0.0              0.0       0.0   \n",
       "3            0.0                0.0              0.0       0.0   \n",
       "4            0.0                0.0              0.0       0.0   \n",
       "..           ...                ...              ...       ...   \n",
       "95           0.0                0.0              0.0       0.0   \n",
       "96           0.0                0.0              0.0       0.0   \n",
       "97           0.0                0.0              0.0       0.0   \n",
       "98           0.0                0.0              0.0       0.0   \n",
       "99           0.0                0.0              0.0       0.0   \n",
       "\n",
       "    place_of_worship_500  hospital_1000  train_station_1000  bus_station_1000  \\\n",
       "0                    0.0            0.0                 0.0               0.0   \n",
       "1                    0.0            0.0                 0.0               0.0   \n",
       "2                    0.0            0.0                 0.0               0.0   \n",
       "3                    0.0            0.0                 0.0               0.0   \n",
       "4                    0.0            0.0                 0.0               0.0   \n",
       "..                   ...            ...                 ...               ...   \n",
       "95                   0.0            0.0                 0.0               0.0   \n",
       "96                   0.0            0.0                 0.0               0.0   \n",
       "97                   0.0            0.0                 0.0               0.0   \n",
       "98                   0.0            0.0                 0.0               0.0   \n",
       "99                   0.0            0.0                 0.0               0.0   \n",
       "\n",
       "    park_1000  place_of_worship_1000  ...  Burglary_1500  \\\n",
       "0         0.0                    0.0  ...       0.000000   \n",
       "1         0.0                    0.0  ...       0.000000   \n",
       "2         0.0                    0.0  ...       0.000000   \n",
       "3         0.0                    0.0  ...       0.000000   \n",
       "4         0.0                    0.0  ...       0.000000   \n",
       "..        ...                    ...  ...            ...   \n",
       "95        0.0                    0.0  ...       0.333333   \n",
       "96        0.0                    0.0  ...       0.133333   \n",
       "97        0.0                    0.0  ...       0.200000   \n",
       "98        0.0                    0.0  ...       0.000000   \n",
       "99        0.0                    0.0  ...       0.400000   \n",
       "\n",
       "    Criminal damage and arson_1500  Other crime_1500  Bicycle theft_1500  \\\n",
       "0                         0.000000          0.000000                 0.0   \n",
       "1                         0.027778          0.000000                 0.0   \n",
       "2                         0.000000          0.000000                 0.0   \n",
       "3                         0.027778          0.000000                 0.0   \n",
       "4                         0.083333          0.142857                 0.0   \n",
       "..                             ...               ...                 ...   \n",
       "95                        0.083333          0.142857                 0.0   \n",
       "96                        0.027778          0.285714                 0.0   \n",
       "97                        0.111111          0.285714                 0.0   \n",
       "98                        0.000000          0.000000                 0.0   \n",
       "99                        0.166667          0.000000                 0.0   \n",
       "\n",
       "    Robbery_1500  Shoplifting_1500  Drugs_1500  Theft from the person_1500  \\\n",
       "0            0.0          0.000000    0.000000                    0.000000   \n",
       "1            0.0          0.000000    0.000000                    0.000000   \n",
       "2            0.0          0.000000    0.000000                    0.000000   \n",
       "3            0.0          0.000000    0.000000                    0.000000   \n",
       "4            0.0          0.000000    0.000000                    0.000000   \n",
       "..           ...               ...         ...                         ...   \n",
       "95           0.0          0.018182    0.000000                    0.000000   \n",
       "96           0.0          0.000000    0.000000                    0.000000   \n",
       "97           0.0          0.036364    0.033333                    0.000000   \n",
       "98           0.0          0.000000    0.000000                    0.000000   \n",
       "99           0.0          0.000000    0.066667                    0.071429   \n",
       "\n",
       "    Possession of weapons_1500  Index_of_Multiple_Deprivation__IMD__Score  \n",
       "0                          0.0                                  -0.572723  \n",
       "1                          0.0                                  -0.572723  \n",
       "2                          0.0                                  -0.572723  \n",
       "3                          0.0                                  -0.572723  \n",
       "4                          0.0                                  -0.049597  \n",
       "..                         ...                                        ...  \n",
       "95                         0.0                                   1.013219  \n",
       "96                         0.0                                   0.873341  \n",
       "97                         0.0                                   0.873341  \n",
       "98                         0.0                                   0.236311  \n",
       "99                         0.0                                   1.131273  \n",
       "\n",
       "[100 rows x 58 columns]"
      ]
     },
     "execution_count": 23,
     "metadata": {},
     "output_type": "execute_result"
    }
   ],
   "source": [
    "r_scaled_df[['Anti-social behaviour_500', 'Other theft_500',\n",
    "       'Public order_500', 'Vehicle crime_500',\n",
    "       'Violence and sexual offences_500', 'Burglary_500',\n",
    "       'Criminal damage and arson_500', 'Other crime_500', 'Bicycle theft_500',\n",
    "       'Robbery_500', 'Shoplifting_500', 'Drugs_500',\n",
    "       'Theft from the person_500', 'Possession of weapons_500',\n",
    "       'Anti-social behaviour_1000', 'Other theft_1000', 'Public order_1000',\n",
    "       'Vehicle crime_1000', 'Violence and sexual offences_1000',\n",
    "       'Burglary_1000', 'Criminal damage and arson_1000', 'Other crime_1000',\n",
    "       'Bicycle theft_1000', 'Robbery_1000', 'Shoplifting_1000', 'Drugs_1000',\n",
    "       'Theft from the person_1000', 'Possession of weapons_1000',\n",
    "       'Anti-social behaviour_1500', 'Other theft_1500', 'Public order_1500',\n",
    "       'Vehicle crime_1500', 'Violence and sexual offences_1500',\n",
    "       'Burglary_1500', 'Criminal damage and arson_1500', 'Other crime_1500',\n",
    "       'Bicycle theft_1500', 'Robbery_1500', 'Shoplifting_1500', 'Drugs_1500',\n",
    "       'Theft from the person_1500', 'Possession of weapons_1500']] = mm_scaled_df[['Anti-social behaviour_500', 'Other theft_500',\n",
    "       'Public order_500', 'Vehicle crime_500',\n",
    "       'Violence and sexual offences_500', 'Burglary_500',\n",
    "       'Criminal damage and arson_500', 'Other crime_500', 'Bicycle theft_500',\n",
    "       'Robbery_500', 'Shoplifting_500', 'Drugs_500',\n",
    "       'Theft from the person_500', 'Possession of weapons_500',\n",
    "       'Anti-social behaviour_1000', 'Other theft_1000', 'Public order_1000',\n",
    "       'Vehicle crime_1000', 'Violence and sexual offences_1000',\n",
    "       'Burglary_1000', 'Criminal damage and arson_1000', 'Other crime_1000',\n",
    "       'Bicycle theft_1000', 'Robbery_1000', 'Shoplifting_1000', 'Drugs_1000',\n",
    "       'Theft from the person_1000', 'Possession of weapons_1000',\n",
    "       'Anti-social behaviour_1500', 'Other theft_1500', 'Public order_1500',\n",
    "       'Vehicle crime_1500', 'Violence and sexual offences_1500',\n",
    "       'Burglary_1500', 'Criminal damage and arson_1500', 'Other crime_1500',\n",
    "       'Bicycle theft_1500', 'Robbery_1500', 'Shoplifting_1500', 'Drugs_1500',\n",
    "       'Theft from the person_1500', 'Possession of weapons_1500']] *-1\n",
    "r_scaled_df"
   ]
  },
  {
   "cell_type": "code",
   "execution_count": 24,
   "id": "c28ebd98",
   "metadata": {},
   "outputs": [],
   "source": [
    "r_scaled_df[['hospital_500', 'hospital_1000', 'hospital_1500']] = r_scaled_df[['hospital_500', 'hospital_1000', 'hospital_1500']]*2"
   ]
  },
  {
   "cell_type": "markdown",
   "id": "9a4cea1b",
   "metadata": {},
   "source": [
    "# PCA"
   ]
  },
  {
   "cell_type": "markdown",
   "id": "cdc27df0",
   "metadata": {},
   "source": [
    "## Min Max PCA"
   ]
  },
  {
   "cell_type": "code",
   "execution_count": 25,
   "id": "811c668c",
   "metadata": {},
   "outputs": [],
   "source": [
    "mm_pca = PCA()"
   ]
  },
  {
   "cell_type": "markdown",
   "id": "a2f53f5b",
   "metadata": {},
   "source": [
    "pip install clusteval"
   ]
  },
  {
   "cell_type": "code",
   "execution_count": 26,
   "id": "66f6326d",
   "metadata": {},
   "outputs": [
    {
     "data": {
      "text/html": [
       "<style>#sk-container-id-3 {color: black;background-color: white;}#sk-container-id-3 pre{padding: 0;}#sk-container-id-3 div.sk-toggleable {background-color: white;}#sk-container-id-3 label.sk-toggleable__label {cursor: pointer;display: block;width: 100%;margin-bottom: 0;padding: 0.3em;box-sizing: border-box;text-align: center;}#sk-container-id-3 label.sk-toggleable__label-arrow:before {content: \"▸\";float: left;margin-right: 0.25em;color: #696969;}#sk-container-id-3 label.sk-toggleable__label-arrow:hover:before {color: black;}#sk-container-id-3 div.sk-estimator:hover label.sk-toggleable__label-arrow:before {color: black;}#sk-container-id-3 div.sk-toggleable__content {max-height: 0;max-width: 0;overflow: hidden;text-align: left;background-color: #f0f8ff;}#sk-container-id-3 div.sk-toggleable__content pre {margin: 0.2em;color: black;border-radius: 0.25em;background-color: #f0f8ff;}#sk-container-id-3 input.sk-toggleable__control:checked~div.sk-toggleable__content {max-height: 200px;max-width: 100%;overflow: auto;}#sk-container-id-3 input.sk-toggleable__control:checked~label.sk-toggleable__label-arrow:before {content: \"▾\";}#sk-container-id-3 div.sk-estimator input.sk-toggleable__control:checked~label.sk-toggleable__label {background-color: #d4ebff;}#sk-container-id-3 div.sk-label input.sk-toggleable__control:checked~label.sk-toggleable__label {background-color: #d4ebff;}#sk-container-id-3 input.sk-hidden--visually {border: 0;clip: rect(1px 1px 1px 1px);clip: rect(1px, 1px, 1px, 1px);height: 1px;margin: -1px;overflow: hidden;padding: 0;position: absolute;width: 1px;}#sk-container-id-3 div.sk-estimator {font-family: monospace;background-color: #f0f8ff;border: 1px dotted black;border-radius: 0.25em;box-sizing: border-box;margin-bottom: 0.5em;}#sk-container-id-3 div.sk-estimator:hover {background-color: #d4ebff;}#sk-container-id-3 div.sk-parallel-item::after {content: \"\";width: 100%;border-bottom: 1px solid gray;flex-grow: 1;}#sk-container-id-3 div.sk-label:hover label.sk-toggleable__label {background-color: #d4ebff;}#sk-container-id-3 div.sk-serial::before {content: \"\";position: absolute;border-left: 1px solid gray;box-sizing: border-box;top: 0;bottom: 0;left: 50%;z-index: 0;}#sk-container-id-3 div.sk-serial {display: flex;flex-direction: column;align-items: center;background-color: white;padding-right: 0.2em;padding-left: 0.2em;position: relative;}#sk-container-id-3 div.sk-item {position: relative;z-index: 1;}#sk-container-id-3 div.sk-parallel {display: flex;align-items: stretch;justify-content: center;background-color: white;position: relative;}#sk-container-id-3 div.sk-item::before, #sk-container-id-3 div.sk-parallel-item::before {content: \"\";position: absolute;border-left: 1px solid gray;box-sizing: border-box;top: 0;bottom: 0;left: 50%;z-index: -1;}#sk-container-id-3 div.sk-parallel-item {display: flex;flex-direction: column;z-index: 1;position: relative;background-color: white;}#sk-container-id-3 div.sk-parallel-item:first-child::after {align-self: flex-end;width: 50%;}#sk-container-id-3 div.sk-parallel-item:last-child::after {align-self: flex-start;width: 50%;}#sk-container-id-3 div.sk-parallel-item:only-child::after {width: 0;}#sk-container-id-3 div.sk-dashed-wrapped {border: 1px dashed gray;margin: 0 0.4em 0.5em 0.4em;box-sizing: border-box;padding-bottom: 0.4em;background-color: white;}#sk-container-id-3 div.sk-label label {font-family: monospace;font-weight: bold;display: inline-block;line-height: 1.2em;}#sk-container-id-3 div.sk-label-container {text-align: center;}#sk-container-id-3 div.sk-container {/* jupyter's `normalize.less` sets `[hidden] { display: none; }` but bootstrap.min.css set `[hidden] { display: none !important; }` so we also need the `!important` here to be able to override the default hidden behavior on the sphinx rendered scikit-learn.org. See: https://github.com/scikit-learn/scikit-learn/issues/21755 */display: inline-block !important;position: relative;}#sk-container-id-3 div.sk-text-repr-fallback {display: none;}</style><div id=\"sk-container-id-3\" class=\"sk-top-container\"><div class=\"sk-text-repr-fallback\"><pre>PCA()</pre><b>In a Jupyter environment, please rerun this cell to show the HTML representation or trust the notebook. <br />On GitHub, the HTML representation is unable to render, please try loading this page with nbviewer.org.</b></div><div class=\"sk-container\" hidden><div class=\"sk-item\"><div class=\"sk-estimator sk-toggleable\"><input class=\"sk-toggleable__control sk-hidden--visually\" id=\"sk-estimator-id-3\" type=\"checkbox\" checked><label for=\"sk-estimator-id-3\" class=\"sk-toggleable__label sk-toggleable__label-arrow\">PCA</label><div class=\"sk-toggleable__content\"><pre>PCA()</pre></div></div></div></div></div>"
      ],
      "text/plain": [
       "PCA()"
      ]
     },
     "execution_count": 26,
     "metadata": {},
     "output_type": "execute_result"
    }
   ],
   "source": [
    "mm_pca.fit(mm_scaled_df)"
   ]
  },
  {
   "cell_type": "code",
   "execution_count": 27,
   "id": "8c3d732d",
   "metadata": {},
   "outputs": [],
   "source": [
    "W = mm_pca.components_"
   ]
  },
  {
   "cell_type": "code",
   "execution_count": 28,
   "id": "47cf73c8",
   "metadata": {},
   "outputs": [],
   "source": [
    "W = pd.DataFrame(W.T,\n",
    "                 index=city_features,\n",
    "                 columns=[f'PC{i}' for i in range(1, len(city_features) + 1)])"
   ]
  },
  {
   "cell_type": "code",
   "execution_count": 29,
   "id": "efd21334",
   "metadata": {},
   "outputs": [],
   "source": [
    "mm_proj = mm_pca.transform(mm_scaled_df)\n",
    "mm_proj = pd.DataFrame(mm_proj, columns=[f'PC{i}' for i in range(1, len(city_features) + 1)])\n"
   ]
  },
  {
   "cell_type": "code",
   "execution_count": 30,
   "id": "f024d513",
   "metadata": {},
   "outputs": [
    {
     "data": {
      "text/plain": [
       "<Axes: >"
      ]
     },
     "execution_count": 30,
     "metadata": {},
     "output_type": "execute_result"
    },
    {
     "data": {
      "image/png": "[encoded data removed]",
      "text/plain": [
       "<Figure size 640x480 with 2 Axes>"
      ]
     },
     "metadata": {},
     "output_type": "display_data"
    }
   ],
   "source": [
    "sns.heatmap(mm_proj.corr(), cmap='coolwarm')"
   ]
  },
  {
   "cell_type": "code",
   "execution_count": 31,
   "id": "2aef2aea",
   "metadata": {},
   "outputs": [
    {
     "data": {
      "image/png": "[encoded data removed]",
      "text/plain": [
       "<Figure size 1300x500 with 2 Axes>"
      ]
     },
     "metadata": {},
     "output_type": "display_data"
    }
   ],
   "source": [
    "plt.figure(figsize=(13,5))\n",
    "plt.subplot(1,2,1)\n",
    "plt.title('X1 vs. X0 before PCA (initial space)'); plt.xlabel('X0'); plt.ylabel('X1')\n",
    "plt.scatter(to_scale_df.iloc[:,0], to_scale_df.iloc[:,1])\n",
    "\n",
    "plt.subplot(1,2,2)\n",
    "plt.title('PC1 vs PC2 (new space)'); plt.xlabel('PC 1'); plt.ylabel('PC 2')\n",
    "plt.scatter(mm_proj.iloc[:,0], mm_proj.iloc[:,1]);"
   ]
  },
  {
   "cell_type": "code",
   "execution_count": 32,
   "id": "62fc8a5b",
   "metadata": {},
   "outputs": [
    {
     "data": {
      "text/plain": [
       "array([4.68236321e-01, 8.23497053e-02, 6.84227475e-02, 5.64418759e-02,\n",
       "       4.04900806e-02, 3.40474089e-02, 2.82348085e-02, 2.25787379e-02,\n",
       "       1.99307937e-02, 1.92764303e-02, 1.65060091e-02, 1.52081389e-02,\n",
       "       1.39996915e-02, 1.27648502e-02, 9.87260631e-03, 9.15727679e-03,\n",
       "       8.31843768e-03, 7.88560935e-03, 7.09988743e-03, 6.56097171e-03,\n",
       "       5.73138295e-03, 5.39738952e-03, 4.79203096e-03, 4.38249768e-03,\n",
       "       3.94126903e-03, 3.51978976e-03, 3.00438398e-03, 2.81120450e-03,\n",
       "       2.61531515e-03, 2.21106654e-03, 2.11809889e-03, 1.83786469e-03,\n",
       "       1.49618924e-03, 1.27189830e-03, 1.10131112e-03, 9.14617427e-04,\n",
       "       7.53273835e-04, 6.82906764e-04, 5.92749171e-04, 5.74477371e-04,\n",
       "       4.70586738e-04, 4.06538551e-04, 3.43334340e-04, 2.91822610e-04,\n",
       "       2.49364041e-04, 1.94432352e-04, 1.62260104e-04, 1.49511824e-04,\n",
       "       1.37815273e-04, 1.14657424e-04, 8.77998961e-05, 6.49219557e-05,\n",
       "       5.58167161e-05, 4.86302865e-05, 3.76014467e-05, 2.66987465e-05,\n",
       "       1.79982670e-05, 8.10345327e-06])"
      ]
     },
     "execution_count": 32,
     "metadata": {},
     "output_type": "execute_result"
    }
   ],
   "source": [
    "mm_pca.explained_variance_ratio_"
   ]
  },
  {
   "cell_type": "code",
   "execution_count": 33,
   "id": "197dba9b",
   "metadata": {},
   "outputs": [
    {
     "data": {
      "image/png": "[encoded data removed]",
      "text/plain": [
       "<Figure size 640x480 with 1 Axes>"
      ]
     },
     "metadata": {},
     "output_type": "display_data"
    }
   ],
   "source": [
    "plt.plot(mm_pca.explained_variance_ratio_)\n",
    "plt.xlabel('Principal Component'); plt.ylabel('% explained variance');"
   ]
  },
  {
   "cell_type": "code",
   "execution_count": 34,
   "id": "bc712ab1",
   "metadata": {},
   "outputs": [
    {
     "data": {
      "text/plain": [
       "array([0.46823632, 0.55058603, 0.61900877, 0.67545065, 0.71594073,\n",
       "       0.74998814, 0.77822295, 0.80080169, 0.82073248, 0.84000891,\n",
       "       0.85651492, 0.87172306, 0.88572275, 0.8984876 , 0.90836021,\n",
       "       0.91751748, 0.92583592, 0.93372153, 0.94082142, 0.94738239,\n",
       "       0.95311377, 0.95851116, 0.96330319, 0.96768569, 0.97162696,\n",
       "       0.97514675, 0.97815113, 0.98096234, 0.98357765, 0.98578872,\n",
       "       0.98790682, 0.98974468, 0.99124087, 0.99251277, 0.99361408,\n",
       "       0.9945287 , 0.99528197, 0.99596488, 0.99655763, 0.99713211,\n",
       "       0.99760269, 0.99800923, 0.99835257, 0.99864439, 0.99889375,\n",
       "       0.99908818, 0.99925044, 0.99939996, 0.99953777, 0.99965243,\n",
       "       0.99974023, 0.99980515, 0.99986097, 0.9999096 , 0.9999472 ,\n",
       "       0.9999739 , 0.9999919 , 1.        ])"
      ]
     },
     "execution_count": 34,
     "metadata": {},
     "output_type": "execute_result"
    }
   ],
   "source": [
    "np.cumsum(mm_pca.explained_variance_ratio_)"
   ]
  },
  {
   "cell_type": "code",
   "execution_count": null,
   "id": "de2f22f2",
   "metadata": {},
   "outputs": [],
   "source": []
  },
  {
   "cell_type": "code",
   "execution_count": null,
   "id": "50e4794b",
   "metadata": {},
   "outputs": [],
   "source": []
  },
  {
   "cell_type": "markdown",
   "id": "a45f5601",
   "metadata": {},
   "source": [
    "## Robust PCA"
   ]
  },
  {
   "cell_type": "code",
   "execution_count": 35,
   "id": "1e834b62",
   "metadata": {},
   "outputs": [],
   "source": [
    "r_pca = PCA()\n"
   ]
  },
  {
   "cell_type": "code",
   "execution_count": 36,
   "id": "5c3400db",
   "metadata": {},
   "outputs": [],
   "source": [
    "r_pca.fit(r_scaled_df)\n",
    "\n",
    "W = r_pca.components_\n",
    "\n",
    "\n",
    "W = pd.DataFrame(W.T,\n",
    "                 index=city_features,\n",
    "                 columns=[f'PC{i}' for i in range(1, len(city_features) + 1)])"
   ]
  },
  {
   "cell_type": "code",
   "execution_count": null,
   "id": "2e6c3b31",
   "metadata": {},
   "outputs": [],
   "source": []
  },
  {
   "cell_type": "code",
   "execution_count": 37,
   "id": "a03725fa",
   "metadata": {},
   "outputs": [],
   "source": [
    "r_proj = r_pca.transform(r_scaled_df)\n",
    "r_proj = pd.DataFrame(r_proj, columns=[f'PC{i}' for i in range(1, len(city_features )+ 1)])"
   ]
  },
  {
   "cell_type": "code",
   "execution_count": 38,
   "id": "3c52fc73",
   "metadata": {},
   "outputs": [
    {
     "data": {
      "text/plain": [
       "<Axes: >"
      ]
     },
     "execution_count": 38,
     "metadata": {},
     "output_type": "execute_result"
    },
    {
     "data": {
      "image/png": "[encoded data removed]",
      "text/plain": [
       "<Figure size 640x480 with 2 Axes>"
      ]
     },
     "metadata": {},
     "output_type": "display_data"
    }
   ],
   "source": [
    "sns.heatmap(r_proj.corr(), cmap='coolwarm')"
   ]
  },
  {
   "cell_type": "code",
   "execution_count": 39,
   "id": "ae33fc45",
   "metadata": {},
   "outputs": [
    {
     "data": {
      "image/png": "[encoded data removed]",
      "text/plain": [
       "<Figure size 1300x500 with 2 Axes>"
      ]
     },
     "metadata": {},
     "output_type": "display_data"
    }
   ],
   "source": [
    "plt.figure(figsize=(13,5))\n",
    "plt.subplot(1,2,1)\n",
    "plt.title('X1 vs. X0 before PCA (initial space)'); plt.xlabel('X0'); plt.ylabel('X1')\n",
    "plt.scatter(to_scale_df.iloc[:,0], to_scale_df.iloc[:,1])\n",
    "\n",
    "plt.subplot(1,2,2)\n",
    "plt.title('PC1 vs PC2 (new space)'); plt.xlabel('PC 1'); plt.ylabel('PC 2')\n",
    "plt.scatter(r_proj.iloc[:,0], r_proj.iloc[:,1]);"
   ]
  },
  {
   "cell_type": "code",
   "execution_count": 40,
   "id": "cfd8cf90",
   "metadata": {},
   "outputs": [
    {
     "data": {
      "text/plain": [
       "array([6.26128977e-01, 2.11171069e-01, 5.33092643e-02, 4.63053492e-02,\n",
       "       2.18503485e-02, 1.76957153e-02, 9.28523194e-03, 5.49323317e-03,\n",
       "       2.84604054e-03, 1.97404510e-03, 1.11648951e-03, 6.50904786e-04,\n",
       "       3.90275598e-04, 3.50280427e-04, 2.10424178e-04, 1.74310864e-04,\n",
       "       1.28221535e-04, 1.15554315e-04, 1.02871804e-04, 8.83773095e-05,\n",
       "       7.41825302e-05, 7.16770100e-05, 6.62281648e-05, 4.90459888e-05,\n",
       "       4.29502600e-05, 4.04007261e-05, 3.46272702e-05, 3.13530846e-05,\n",
       "       2.99903129e-05, 2.62985017e-05, 2.07065084e-05, 1.71946937e-05,\n",
       "       1.62643220e-05, 1.32707160e-05, 1.22799205e-05, 1.06679062e-05,\n",
       "       9.52104652e-06, 8.02563300e-06, 6.76700749e-06, 5.03960622e-06,\n",
       "       4.21678855e-06, 3.21420777e-06, 2.93133742e-06, 2.77380024e-06,\n",
       "       2.27193197e-06, 1.96666955e-06, 1.83003475e-06, 1.51826884e-06,\n",
       "       1.15514491e-06, 1.03153372e-06, 9.91911714e-07, 7.21635536e-07,\n",
       "       4.92702200e-07, 4.30978738e-07, 3.00167833e-07, 2.80625689e-07,\n",
       "       2.13038079e-07, 1.83920090e-07])"
      ]
     },
     "execution_count": 40,
     "metadata": {},
     "output_type": "execute_result"
    }
   ],
   "source": [
    "r_pca.explained_variance_ratio_"
   ]
  },
  {
   "cell_type": "code",
   "execution_count": 41,
   "id": "38ba939b",
   "metadata": {},
   "outputs": [
    {
     "data": {
      "image/png": "[encoded data removed]",
      "text/plain": [
       "<Figure size 640x480 with 1 Axes>"
      ]
     },
     "metadata": {},
     "output_type": "display_data"
    }
   ],
   "source": [
    "plt.plot(r_pca.explained_variance_ratio_)\n",
    "plt.xlabel('Principal Component'); plt.ylabel('% explained variance');"
   ]
  },
  {
   "cell_type": "code",
   "execution_count": 42,
   "id": "9cc360cd",
   "metadata": {},
   "outputs": [
    {
     "data": {
      "text/plain": [
       "array([0.62612898, 0.83730005, 0.89060931, 0.93691466, 0.95876501,\n",
       "       0.97646072, 0.98574595, 0.99123919, 0.99408523, 0.99605927,\n",
       "       0.99717576, 0.99782667, 0.99821694, 0.99856722, 0.99877765,\n",
       "       0.99895196, 0.99908018, 0.99919573, 0.99929861, 0.99938698,\n",
       "       0.99946117, 0.99953284, 0.99959907, 0.99964812, 0.99969107,\n",
       "       0.99973147, 0.9997661 , 0.99979745, 0.99982744, 0.99985374,\n",
       "       0.99987444, 0.99989164, 0.9999079 , 0.99992117, 0.99993345,\n",
       "       0.99994412, 0.99995364, 0.99996167, 0.99996844, 0.99997348,\n",
       "       0.99997769, 0.99998091, 0.99998384, 0.99998661, 0.99998888,\n",
       "       0.99999085, 0.99999268, 0.9999942 , 0.99999535, 0.99999639,\n",
       "       0.99999738, 0.9999981 , 0.99999859, 0.99999902, 0.99999932,\n",
       "       0.9999996 , 0.99999982, 1.        ])"
      ]
     },
     "execution_count": 42,
     "metadata": {},
     "output_type": "execute_result"
    }
   ],
   "source": [
    "np.cumsum(r_pca.explained_variance_ratio_)"
   ]
  },
  {
   "cell_type": "markdown",
   "id": "e70a9ac2",
   "metadata": {
    "heading_collapsed": true
   },
   "source": [
    "# ClustEval"
   ]
  },
  {
   "cell_type": "markdown",
   "id": "bcd0994e",
   "metadata": {
    "hidden": true
   },
   "source": [
    "## Min Max ClustEval"
   ]
  },
  {
   "cell_type": "code",
   "execution_count": null,
   "id": "fd52b33a",
   "metadata": {
    "hidden": true
   },
   "outputs": [],
   "source": [
    "mm_ce = clusteval(cluster = 'kmeans')\n",
    "mm_results = mm_ce.fit(mm_proj)"
   ]
  },
  {
   "cell_type": "code",
   "execution_count": null,
   "id": "22cb558f",
   "metadata": {
    "hidden": true
   },
   "outputs": [],
   "source": [
    "mm_ce.plot()"
   ]
  },
  {
   "cell_type": "code",
   "execution_count": null,
   "id": "87c729d6",
   "metadata": {
    "hidden": true
   },
   "outputs": [],
   "source": [
    "mm_results"
   ]
  },
  {
   "cell_type": "code",
   "execution_count": null,
   "id": "383de0e2",
   "metadata": {
    "hidden": true
   },
   "outputs": [],
   "source": [
    "mm_ce.scatter(mm_proj)"
   ]
  },
  {
   "cell_type": "code",
   "execution_count": null,
   "id": "e157ae1d",
   "metadata": {
    "hidden": true
   },
   "outputs": [],
   "source": []
  },
  {
   "cell_type": "code",
   "execution_count": null,
   "id": "e712dba8",
   "metadata": {
    "hidden": true
   },
   "outputs": [],
   "source": []
  },
  {
   "cell_type": "code",
   "execution_count": null,
   "id": "717d8f73",
   "metadata": {
    "hidden": true
   },
   "outputs": [],
   "source": []
  },
  {
   "cell_type": "markdown",
   "id": "54022def",
   "metadata": {
    "hidden": true
   },
   "source": [
    "## Robust ClustEval"
   ]
  },
  {
   "cell_type": "code",
   "execution_count": null,
   "id": "2670aae4",
   "metadata": {
    "hidden": true
   },
   "outputs": [],
   "source": [
    "r_ce = clusteval(cluster = 'kmeans')\n",
    "r_results = r_ce.fit(r_proj)"
   ]
  },
  {
   "cell_type": "code",
   "execution_count": null,
   "id": "8c9641ca",
   "metadata": {
    "hidden": true
   },
   "outputs": [],
   "source": [
    "r_ce.plot()"
   ]
  },
  {
   "cell_type": "code",
   "execution_count": null,
   "id": "4c13d359",
   "metadata": {
    "hidden": true
   },
   "outputs": [],
   "source": [
    "r_results"
   ]
  },
  {
   "cell_type": "code",
   "execution_count": null,
   "id": "2b2642f4",
   "metadata": {
    "hidden": true
   },
   "outputs": [],
   "source": [
    "r_ce.scatter(r_proj)"
   ]
  },
  {
   "cell_type": "markdown",
   "id": "0aa657d3",
   "metadata": {},
   "source": [
    "# Care Homes"
   ]
  },
  {
   "cell_type": "code",
   "execution_count": null,
   "id": "24ee7d5a",
   "metadata": {},
   "outputs": [],
   "source": [
    "52.62172504585236, -1.1101221724736599"
   ]
  },
  {
   "cell_type": "code",
   "execution_count": null,
   "id": "cf440324",
   "metadata": {},
   "outputs": [],
   "source": [
    "52.65883926928807, -1.1306349699289144"
   ]
  },
  {
   "cell_type": "code",
   "execution_count": null,
   "id": "af3e45ef",
   "metadata": {},
   "outputs": [],
   "source": [
    "52.65852658755537, -1.143915581515234"
   ]
  },
  {
   "cell_type": "code",
   "execution_count": null,
   "id": "62e56923",
   "metadata": {},
   "outputs": [],
   "source": [
    "52.61347597404073, -1.0955431473301578"
   ]
  },
  {
   "cell_type": "code",
   "execution_count": null,
   "id": "314fc92a",
   "metadata": {},
   "outputs": [],
   "source": [
    "52.65476308038716, -1.1228256434410278"
   ]
  },
  {
   "cell_type": "code",
   "execution_count": null,
   "id": "3d9f86e9",
   "metadata": {},
   "outputs": [],
   "source": [
    "52.651683698337976, -1.175175487618207"
   ]
  },
  {
   "cell_type": "code",
   "execution_count": 43,
   "id": "57b0d613",
   "metadata": {},
   "outputs": [],
   "source": [
    "care_home_dict = {\"lat\" : [52.62172504585236, 52.65883926928807, 52.65852658755537, 52.61347597404073, 52.65476308038716, 52.651683698337976] , \"lng\" : [-1.1101221724736599, -1.1306349699289144, -1.143915581515234, -1.0955431473301578, -1.1228256434410278, -1.175175487618207 ]}"
   ]
  },
  {
   "cell_type": "code",
   "execution_count": 44,
   "id": "c4efc606",
   "metadata": {},
   "outputs": [],
   "source": [
    "care_home_df = pd.DataFrame(care_home_dict)"
   ]
  },
  {
   "cell_type": "code",
   "execution_count": 45,
   "id": "4d71762c",
   "metadata": {},
   "outputs": [
    {
     "data": {
      "text/html": [
       "<div>\n",
       "<style scoped>\n",
       "    .dataframe tbody tr th:only-of-type {\n",
       "        vertical-align: middle;\n",
       "    }\n",
       "\n",
       "    .dataframe tbody tr th {\n",
       "        vertical-align: top;\n",
       "    }\n",
       "\n",
       "    .dataframe thead th {\n",
       "        text-align: right;\n",
       "    }\n",
       "</style>\n",
       "<table border=\"1\" class=\"dataframe\">\n",
       "  <thead>\n",
       "    <tr style=\"text-align: right;\">\n",
       "      <th></th>\n",
       "      <th>lat</th>\n",
       "      <th>lng</th>\n",
       "    </tr>\n",
       "  </thead>\n",
       "  <tbody>\n",
       "    <tr>\n",
       "      <th>0</th>\n",
       "      <td>52.621725</td>\n",
       "      <td>-1.110122</td>\n",
       "    </tr>\n",
       "    <tr>\n",
       "      <th>1</th>\n",
       "      <td>52.658839</td>\n",
       "      <td>-1.130635</td>\n",
       "    </tr>\n",
       "    <tr>\n",
       "      <th>2</th>\n",
       "      <td>52.658527</td>\n",
       "      <td>-1.143916</td>\n",
       "    </tr>\n",
       "    <tr>\n",
       "      <th>3</th>\n",
       "      <td>52.613476</td>\n",
       "      <td>-1.095543</td>\n",
       "    </tr>\n",
       "    <tr>\n",
       "      <th>4</th>\n",
       "      <td>52.654763</td>\n",
       "      <td>-1.122826</td>\n",
       "    </tr>\n",
       "    <tr>\n",
       "      <th>5</th>\n",
       "      <td>52.651684</td>\n",
       "      <td>-1.175175</td>\n",
       "    </tr>\n",
       "  </tbody>\n",
       "</table>\n",
       "</div>"
      ],
      "text/plain": [
       "         lat       lng\n",
       "0  52.621725 -1.110122\n",
       "1  52.658839 -1.130635\n",
       "2  52.658527 -1.143916\n",
       "3  52.613476 -1.095543\n",
       "4  52.654763 -1.122826\n",
       "5  52.651684 -1.175175"
      ]
     },
     "execution_count": 45,
     "metadata": {},
     "output_type": "execute_result"
    }
   ],
   "source": [
    "care_home_df"
   ]
  },
  {
   "cell_type": "markdown",
   "id": "fb60601d",
   "metadata": {},
   "source": [
    "# K-means"
   ]
  },
  {
   "cell_type": "code",
   "execution_count": null,
   "id": "17d8f0f2",
   "metadata": {},
   "outputs": [],
   "source": [
    "mm_proj"
   ]
  },
  {
   "cell_type": "markdown",
   "id": "69d85838",
   "metadata": {},
   "source": [
    "## Min-Max K-means"
   ]
  },
  {
   "cell_type": "code",
   "execution_count": 46,
   "id": "06b2148e",
   "metadata": {},
   "outputs": [
    {
     "name": "stderr",
     "output_type": "stream",
     "text": [
      "/home/mih_sud/.pyenv/versions/3.10.6/envs/Location-Analysis/lib/python3.10/site-packages/sklearn/cluster/_kmeans.py:870: FutureWarning: The default value of `n_init` will change from 10 to 'auto' in 1.4. Set the value of `n_init` explicitly to suppress the warning\n",
      "  warnings.warn(\n",
      "/home/mih_sud/.pyenv/versions/3.10.6/envs/Location-Analysis/lib/python3.10/site-packages/sklearn/cluster/_kmeans.py:870: FutureWarning: The default value of `n_init` will change from 10 to 'auto' in 1.4. Set the value of `n_init` explicitly to suppress the warning\n",
      "  warnings.warn(\n",
      "/home/mih_sud/.pyenv/versions/3.10.6/envs/Location-Analysis/lib/python3.10/site-packages/sklearn/cluster/_kmeans.py:870: FutureWarning: The default value of `n_init` will change from 10 to 'auto' in 1.4. Set the value of `n_init` explicitly to suppress the warning\n",
      "  warnings.warn(\n",
      "/home/mih_sud/.pyenv/versions/3.10.6/envs/Location-Analysis/lib/python3.10/site-packages/sklearn/cluster/_kmeans.py:870: FutureWarning: The default value of `n_init` will change from 10 to 'auto' in 1.4. Set the value of `n_init` explicitly to suppress the warning\n",
      "  warnings.warn(\n",
      "/home/mih_sud/.pyenv/versions/3.10.6/envs/Location-Analysis/lib/python3.10/site-packages/sklearn/cluster/_kmeans.py:870: FutureWarning: The default value of `n_init` will change from 10 to 'auto' in 1.4. Set the value of `n_init` explicitly to suppress the warning\n",
      "  warnings.warn(\n",
      "/home/mih_sud/.pyenv/versions/3.10.6/envs/Location-Analysis/lib/python3.10/site-packages/sklearn/cluster/_kmeans.py:870: FutureWarning: The default value of `n_init` will change from 10 to 'auto' in 1.4. Set the value of `n_init` explicitly to suppress the warning\n",
      "  warnings.warn(\n",
      "/home/mih_sud/.pyenv/versions/3.10.6/envs/Location-Analysis/lib/python3.10/site-packages/sklearn/cluster/_kmeans.py:870: FutureWarning: The default value of `n_init` will change from 10 to 'auto' in 1.4. Set the value of `n_init` explicitly to suppress the warning\n",
      "  warnings.warn(\n",
      "/home/mih_sud/.pyenv/versions/3.10.6/envs/Location-Analysis/lib/python3.10/site-packages/sklearn/cluster/_kmeans.py:870: FutureWarning: The default value of `n_init` will change from 10 to 'auto' in 1.4. Set the value of `n_init` explicitly to suppress the warning\n",
      "  warnings.warn(\n",
      "/home/mih_sud/.pyenv/versions/3.10.6/envs/Location-Analysis/lib/python3.10/site-packages/sklearn/cluster/_kmeans.py:870: FutureWarning: The default value of `n_init` will change from 10 to 'auto' in 1.4. Set the value of `n_init` explicitly to suppress the warning\n",
      "  warnings.warn(\n"
     ]
    },
    {
     "data": {
      "text/plain": [
       "Text(0.5, 0, 'k cluster number')"
      ]
     },
     "execution_count": 46,
     "metadata": {},
     "output_type": "execute_result"
    },
    {
     "data": {
      "image/png": "[encoded data removed]",
      "text/plain": [
       "<Figure size 640x480 with 1 Axes>"
      ]
     },
     "metadata": {},
     "output_type": "display_data"
    }
   ],
   "source": [
    "ks = range(1,10)\n",
    "inertias = []\n",
    "for k in ks:\n",
    "    km_test = KMeans(n_clusters=k).fit(mm_proj)\n",
    "    inertias.append(km_test.inertia_)\n",
    "\n",
    "plt.plot(ks, inertias)\n",
    "plt.xlabel('k cluster number')"
   ]
  },
  {
   "cell_type": "code",
   "execution_count": 47,
   "id": "fb468632",
   "metadata": {},
   "outputs": [
    {
     "name": "stderr",
     "output_type": "stream",
     "text": [
      "/home/mih_sud/.pyenv/versions/3.10.6/envs/Location-Analysis/lib/python3.10/site-packages/sklearn/cluster/_kmeans.py:870: FutureWarning: The default value of `n_init` will change from 10 to 'auto' in 1.4. Set the value of `n_init` explicitly to suppress the warning\n",
      "  warnings.warn(\n"
     ]
    },
    {
     "data": {
      "text/html": [
       "<style>#sk-container-id-4 {color: black;background-color: white;}#sk-container-id-4 pre{padding: 0;}#sk-container-id-4 div.sk-toggleable {background-color: white;}#sk-container-id-4 label.sk-toggleable__label {cursor: pointer;display: block;width: 100%;margin-bottom: 0;padding: 0.3em;box-sizing: border-box;text-align: center;}#sk-container-id-4 label.sk-toggleable__label-arrow:before {content: \"▸\";float: left;margin-right: 0.25em;color: #696969;}#sk-container-id-4 label.sk-toggleable__label-arrow:hover:before {color: black;}#sk-container-id-4 div.sk-estimator:hover label.sk-toggleable__label-arrow:before {color: black;}#sk-container-id-4 div.sk-toggleable__content {max-height: 0;max-width: 0;overflow: hidden;text-align: left;background-color: #f0f8ff;}#sk-container-id-4 div.sk-toggleable__content pre {margin: 0.2em;color: black;border-radius: 0.25em;background-color: #f0f8ff;}#sk-container-id-4 input.sk-toggleable__control:checked~div.sk-toggleable__content {max-height: 200px;max-width: 100%;overflow: auto;}#sk-container-id-4 input.sk-toggleable__control:checked~label.sk-toggleable__label-arrow:before {content: \"▾\";}#sk-container-id-4 div.sk-estimator input.sk-toggleable__control:checked~label.sk-toggleable__label {background-color: #d4ebff;}#sk-container-id-4 div.sk-label input.sk-toggleable__control:checked~label.sk-toggleable__label {background-color: #d4ebff;}#sk-container-id-4 input.sk-hidden--visually {border: 0;clip: rect(1px 1px 1px 1px);clip: rect(1px, 1px, 1px, 1px);height: 1px;margin: -1px;overflow: hidden;padding: 0;position: absolute;width: 1px;}#sk-container-id-4 div.sk-estimator {font-family: monospace;background-color: #f0f8ff;border: 1px dotted black;border-radius: 0.25em;box-sizing: border-box;margin-bottom: 0.5em;}#sk-container-id-4 div.sk-estimator:hover {background-color: #d4ebff;}#sk-container-id-4 div.sk-parallel-item::after {content: \"\";width: 100%;border-bottom: 1px solid gray;flex-grow: 1;}#sk-container-id-4 div.sk-label:hover label.sk-toggleable__label {background-color: #d4ebff;}#sk-container-id-4 div.sk-serial::before {content: \"\";position: absolute;border-left: 1px solid gray;box-sizing: border-box;top: 0;bottom: 0;left: 50%;z-index: 0;}#sk-container-id-4 div.sk-serial {display: flex;flex-direction: column;align-items: center;background-color: white;padding-right: 0.2em;padding-left: 0.2em;position: relative;}#sk-container-id-4 div.sk-item {position: relative;z-index: 1;}#sk-container-id-4 div.sk-parallel {display: flex;align-items: stretch;justify-content: center;background-color: white;position: relative;}#sk-container-id-4 div.sk-item::before, #sk-container-id-4 div.sk-parallel-item::before {content: \"\";position: absolute;border-left: 1px solid gray;box-sizing: border-box;top: 0;bottom: 0;left: 50%;z-index: -1;}#sk-container-id-4 div.sk-parallel-item {display: flex;flex-direction: column;z-index: 1;position: relative;background-color: white;}#sk-container-id-4 div.sk-parallel-item:first-child::after {align-self: flex-end;width: 50%;}#sk-container-id-4 div.sk-parallel-item:last-child::after {align-self: flex-start;width: 50%;}#sk-container-id-4 div.sk-parallel-item:only-child::after {width: 0;}#sk-container-id-4 div.sk-dashed-wrapped {border: 1px dashed gray;margin: 0 0.4em 0.5em 0.4em;box-sizing: border-box;padding-bottom: 0.4em;background-color: white;}#sk-container-id-4 div.sk-label label {font-family: monospace;font-weight: bold;display: inline-block;line-height: 1.2em;}#sk-container-id-4 div.sk-label-container {text-align: center;}#sk-container-id-4 div.sk-container {/* jupyter's `normalize.less` sets `[hidden] { display: none; }` but bootstrap.min.css set `[hidden] { display: none !important; }` so we also need the `!important` here to be able to override the default hidden behavior on the sphinx rendered scikit-learn.org. See: https://github.com/scikit-learn/scikit-learn/issues/21755 */display: inline-block !important;position: relative;}#sk-container-id-4 div.sk-text-repr-fallback {display: none;}</style><div id=\"sk-container-id-4\" class=\"sk-top-container\"><div class=\"sk-text-repr-fallback\"><pre>KMeans(n_clusters=3)</pre><b>In a Jupyter environment, please rerun this cell to show the HTML representation or trust the notebook. <br />On GitHub, the HTML representation is unable to render, please try loading this page with nbviewer.org.</b></div><div class=\"sk-container\" hidden><div class=\"sk-item\"><div class=\"sk-estimator sk-toggleable\"><input class=\"sk-toggleable__control sk-hidden--visually\" id=\"sk-estimator-id-4\" type=\"checkbox\" checked><label for=\"sk-estimator-id-4\" class=\"sk-toggleable__label sk-toggleable__label-arrow\">KMeans</label><div class=\"sk-toggleable__content\"><pre>KMeans(n_clusters=3)</pre></div></div></div></div></div>"
      ],
      "text/plain": [
       "KMeans(n_clusters=3)"
      ]
     },
     "execution_count": 47,
     "metadata": {},
     "output_type": "execute_result"
    }
   ],
   "source": [
    "mm_km = KMeans(n_clusters= 3)\n",
    "mm_km.fit(mm_proj)"
   ]
  },
  {
   "cell_type": "code",
   "execution_count": 48,
   "id": "6b4308d6",
   "metadata": {},
   "outputs": [
    {
     "data": {
      "text/plain": [
       "array([1, 1, 1, 1, 1, 1, 1, 1, 1, 1, 1, 1, 1, 1, 1, 1, 1, 1, 0, 1, 1, 1,\n",
       "       1, 1, 1, 1, 1, 1, 0, 0, 0, 0, 1, 1, 0, 1, 1, 1, 1, 1, 0, 2, 0, 2,\n",
       "       0, 0, 1, 1, 1, 1, 1, 1, 0, 2, 2, 0, 2, 0, 1, 1, 1, 1, 1, 1, 0, 0,\n",
       "       2, 0, 1, 1, 1, 1, 2, 0, 0, 1, 1, 0, 1, 1, 1, 1, 1, 1, 1, 1, 0, 1,\n",
       "       1, 1, 1, 1, 0, 1, 1, 1, 1, 1, 1, 1], dtype=int32)"
      ]
     },
     "execution_count": 48,
     "metadata": {},
     "output_type": "execute_result"
    }
   ],
   "source": [
    "mm_km.labels_"
   ]
  },
  {
   "cell_type": "code",
   "execution_count": 49,
   "id": "9688df4b",
   "metadata": {
    "scrolled": true
   },
   "outputs": [
    {
     "data": {
      "image/png": "[encoded data removed]",
      "text/plain": [
       "<Figure size 640x480 with 1 Axes>"
      ]
     },
     "metadata": {},
     "output_type": "display_data"
    }
   ],
   "source": [
    "plt.scatter(mm_proj.iloc[:,0], mm_proj.iloc[:,1], c=mm_km.labels_)\n",
    "plt.title('KMeans clustering'); plt.xlabel('PC 1'); plt.ylabel('PC 2');"
   ]
  },
  {
   "cell_type": "code",
   "execution_count": 50,
   "id": "3920b01b",
   "metadata": {},
   "outputs": [
    {
     "ename": "NameError",
     "evalue": "name 'care' is not defined",
     "output_type": "error",
     "traceback": [
      "\u001b[0;31m---------------------------------------------------------------------------\u001b[0m",
      "\u001b[0;31mNameError\u001b[0m                                 Traceback (most recent call last)",
      "Cell \u001b[0;32mIn[50], line 1\u001b[0m\n\u001b[0;32m----> 1\u001b[0m \u001b[43mcare\u001b[49m\n",
      "\u001b[0;31mNameError\u001b[0m: name 'care' is not defined"
     ]
    }
   ],
   "source": [
    "care"
   ]
  },
  {
   "cell_type": "code",
   "execution_count": 61,
   "id": "752eb368",
   "metadata": {},
   "outputs": [
    {
     "name": "stderr",
     "output_type": "stream",
     "text": [
      "/tmp/ipykernel_8579/2981577312.py:1: UserWarning: Ignoring `palette` because no `hue` variable has been assigned.\n",
      "  sns.scatterplot(x = care_home_df[\"lat\"], y = care_home_df[\"lng\"], palette = \"Set4\")\n"
     ]
    },
    {
     "data": {
      "image/png": "[encoded data removed]",
      "text/plain": [
       "<Figure size 640x480 with 1 Axes>"
      ]
     },
     "metadata": {},
     "output_type": "display_data"
    }
   ],
   "source": [
    "sns.scatterplot(x = care_home_df[\"lat\"], y = care_home_df[\"lng\"], palette = \"Set4\")\n",
    "sns.scatterplot(x=leicester_golden_df['lat'], y=leicester_golden_df['lng'], hue=mm_km.labels_, palette='Set1')\n",
    "\n",
    "plt.show()"
   ]
  },
  {
   "cell_type": "markdown",
   "id": "ea544b28",
   "metadata": {},
   "source": [
    "## Robust K-Means"
   ]
  },
  {
   "cell_type": "code",
   "execution_count": 51,
   "id": "86d0553b",
   "metadata": {},
   "outputs": [
    {
     "name": "stderr",
     "output_type": "stream",
     "text": [
      "/home/mih_sud/.pyenv/versions/3.10.6/envs/Location-Analysis/lib/python3.10/site-packages/sklearn/cluster/_kmeans.py:870: FutureWarning: The default value of `n_init` will change from 10 to 'auto' in 1.4. Set the value of `n_init` explicitly to suppress the warning\n",
      "  warnings.warn(\n"
     ]
    },
    {
     "data": {
      "text/html": [
       "<style>#sk-container-id-5 {color: black;background-color: white;}#sk-container-id-5 pre{padding: 0;}#sk-container-id-5 div.sk-toggleable {background-color: white;}#sk-container-id-5 label.sk-toggleable__label {cursor: pointer;display: block;width: 100%;margin-bottom: 0;padding: 0.3em;box-sizing: border-box;text-align: center;}#sk-container-id-5 label.sk-toggleable__label-arrow:before {content: \"▸\";float: left;margin-right: 0.25em;color: #696969;}#sk-container-id-5 label.sk-toggleable__label-arrow:hover:before {color: black;}#sk-container-id-5 div.sk-estimator:hover label.sk-toggleable__label-arrow:before {color: black;}#sk-container-id-5 div.sk-toggleable__content {max-height: 0;max-width: 0;overflow: hidden;text-align: left;background-color: #f0f8ff;}#sk-container-id-5 div.sk-toggleable__content pre {margin: 0.2em;color: black;border-radius: 0.25em;background-color: #f0f8ff;}#sk-container-id-5 input.sk-toggleable__control:checked~div.sk-toggleable__content {max-height: 200px;max-width: 100%;overflow: auto;}#sk-container-id-5 input.sk-toggleable__control:checked~label.sk-toggleable__label-arrow:before {content: \"▾\";}#sk-container-id-5 div.sk-estimator input.sk-toggleable__control:checked~label.sk-toggleable__label {background-color: #d4ebff;}#sk-container-id-5 div.sk-label input.sk-toggleable__control:checked~label.sk-toggleable__label {background-color: #d4ebff;}#sk-container-id-5 input.sk-hidden--visually {border: 0;clip: rect(1px 1px 1px 1px);clip: rect(1px, 1px, 1px, 1px);height: 1px;margin: -1px;overflow: hidden;padding: 0;position: absolute;width: 1px;}#sk-container-id-5 div.sk-estimator {font-family: monospace;background-color: #f0f8ff;border: 1px dotted black;border-radius: 0.25em;box-sizing: border-box;margin-bottom: 0.5em;}#sk-container-id-5 div.sk-estimator:hover {background-color: #d4ebff;}#sk-container-id-5 div.sk-parallel-item::after {content: \"\";width: 100%;border-bottom: 1px solid gray;flex-grow: 1;}#sk-container-id-5 div.sk-label:hover label.sk-toggleable__label {background-color: #d4ebff;}#sk-container-id-5 div.sk-serial::before {content: \"\";position: absolute;border-left: 1px solid gray;box-sizing: border-box;top: 0;bottom: 0;left: 50%;z-index: 0;}#sk-container-id-5 div.sk-serial {display: flex;flex-direction: column;align-items: center;background-color: white;padding-right: 0.2em;padding-left: 0.2em;position: relative;}#sk-container-id-5 div.sk-item {position: relative;z-index: 1;}#sk-container-id-5 div.sk-parallel {display: flex;align-items: stretch;justify-content: center;background-color: white;position: relative;}#sk-container-id-5 div.sk-item::before, #sk-container-id-5 div.sk-parallel-item::before {content: \"\";position: absolute;border-left: 1px solid gray;box-sizing: border-box;top: 0;bottom: 0;left: 50%;z-index: -1;}#sk-container-id-5 div.sk-parallel-item {display: flex;flex-direction: column;z-index: 1;position: relative;background-color: white;}#sk-container-id-5 div.sk-parallel-item:first-child::after {align-self: flex-end;width: 50%;}#sk-container-id-5 div.sk-parallel-item:last-child::after {align-self: flex-start;width: 50%;}#sk-container-id-5 div.sk-parallel-item:only-child::after {width: 0;}#sk-container-id-5 div.sk-dashed-wrapped {border: 1px dashed gray;margin: 0 0.4em 0.5em 0.4em;box-sizing: border-box;padding-bottom: 0.4em;background-color: white;}#sk-container-id-5 div.sk-label label {font-family: monospace;font-weight: bold;display: inline-block;line-height: 1.2em;}#sk-container-id-5 div.sk-label-container {text-align: center;}#sk-container-id-5 div.sk-container {/* jupyter's `normalize.less` sets `[hidden] { display: none; }` but bootstrap.min.css set `[hidden] { display: none !important; }` so we also need the `!important` here to be able to override the default hidden behavior on the sphinx rendered scikit-learn.org. See: https://github.com/scikit-learn/scikit-learn/issues/21755 */display: inline-block !important;position: relative;}#sk-container-id-5 div.sk-text-repr-fallback {display: none;}</style><div id=\"sk-container-id-5\" class=\"sk-top-container\"><div class=\"sk-text-repr-fallback\"><pre>KMeans(n_clusters=3)</pre><b>In a Jupyter environment, please rerun this cell to show the HTML representation or trust the notebook. <br />On GitHub, the HTML representation is unable to render, please try loading this page with nbviewer.org.</b></div><div class=\"sk-container\" hidden><div class=\"sk-item\"><div class=\"sk-estimator sk-toggleable\"><input class=\"sk-toggleable__control sk-hidden--visually\" id=\"sk-estimator-id-5\" type=\"checkbox\" checked><label for=\"sk-estimator-id-5\" class=\"sk-toggleable__label sk-toggleable__label-arrow\">KMeans</label><div class=\"sk-toggleable__content\"><pre>KMeans(n_clusters=3)</pre></div></div></div></div></div>"
      ],
      "text/plain": [
       "KMeans(n_clusters=3)"
      ]
     },
     "execution_count": 51,
     "metadata": {},
     "output_type": "execute_result"
    }
   ],
   "source": [
    "r_km = KMeans(n_clusters= 3)\n",
    "r_km.fit(r_proj)"
   ]
  },
  {
   "cell_type": "code",
   "execution_count": 57,
   "id": "7e6903c7",
   "metadata": {},
   "outputs": [
    {
     "data": {
      "text/plain": [
       "array([0, 0, 0, 0, 0, 0, 0, 0, 0, 0, 0, 0, 0, 0, 0, 0, 0, 0, 0, 0, 0, 0,\n",
       "       0, 0, 0, 0, 0, 0, 0, 0, 0, 0, 0, 0, 0, 0, 0, 0, 0, 0, 0, 2, 1, 1,\n",
       "       0, 0, 0, 0, 0, 0, 0, 0, 0, 1, 1, 0, 2, 0, 0, 0, 0, 0, 0, 0, 0, 0,\n",
       "       1, 0, 0, 0, 0, 0, 1, 0, 0, 0, 0, 0, 0, 0, 0, 0, 0, 0, 0, 0, 0, 0,\n",
       "       0, 0, 0, 0, 0, 0, 0, 0, 0, 0, 0, 0], dtype=int32)"
      ]
     },
     "execution_count": 57,
     "metadata": {},
     "output_type": "execute_result"
    }
   ],
   "source": [
    "r_km.labels_"
   ]
  },
  {
   "cell_type": "code",
   "execution_count": 53,
   "id": "e99e19f9",
   "metadata": {
    "scrolled": false
   },
   "outputs": [
    {
     "data": {
      "image/png": "[encoded data removed]",
      "text/plain": [
       "<Figure size 640x480 with 1 Axes>"
      ]
     },
     "metadata": {},
     "output_type": "display_data"
    }
   ],
   "source": [
    "plt.scatter(r_proj.iloc[:,0], r_proj.iloc[:,1], c=r_km.labels_)\n",
    "plt.title('KMeans clustering'); plt.xlabel('PC 1'); plt.ylabel('PC 2');"
   ]
  },
  {
   "cell_type": "code",
   "execution_count": 54,
   "id": "8751702a",
   "metadata": {},
   "outputs": [
    {
     "data": {
      "text/plain": [
       "<Axes: xlabel='lng', ylabel='lat'>"
      ]
     },
     "execution_count": 54,
     "metadata": {},
     "output_type": "execute_result"
    },
    {
     "data": {
      "image/png": "[encoded data removed]",
      "text/plain": [
       "<Figure size 640x480 with 1 Axes>"
      ]
     },
     "metadata": {},
     "output_type": "display_data"
    }
   ],
   "source": [
    "sns.scatterplot(x=leicester_golden_df['lng'], y=leicester_golden_df['lat'], hue= r_km.labels_, palette= \"Set1\" )"
   ]
  },
  {
   "cell_type": "code",
   "execution_count": 55,
   "id": "4a38c5b0",
   "metadata": {},
   "outputs": [
    {
     "data": {
      "text/html": [
       "<svg  width=\"440\" height=\"55\"><rect x=\"0\" y=\"0\" width=\"55\" height=\"55\" style=\"fill:#f77189;stroke-width:2;stroke:rgb(255,255,255)\"/><rect x=\"55\" y=\"0\" width=\"55\" height=\"55\" style=\"fill:#ce9032;stroke-width:2;stroke:rgb(255,255,255)\"/><rect x=\"110\" y=\"0\" width=\"55\" height=\"55\" style=\"fill:#97a431;stroke-width:2;stroke:rgb(255,255,255)\"/><rect x=\"165\" y=\"0\" width=\"55\" height=\"55\" style=\"fill:#32b166;stroke-width:2;stroke:rgb(255,255,255)\"/><rect x=\"220\" y=\"0\" width=\"55\" height=\"55\" style=\"fill:#36ada4;stroke-width:2;stroke:rgb(255,255,255)\"/><rect x=\"275\" y=\"0\" width=\"55\" height=\"55\" style=\"fill:#39a7d0;stroke-width:2;stroke:rgb(255,255,255)\"/><rect x=\"330\" y=\"0\" width=\"55\" height=\"55\" style=\"fill:#a48cf4;stroke-width:2;stroke:rgb(255,255,255)\"/><rect x=\"385\" y=\"0\" width=\"55\" height=\"55\" style=\"fill:#f561dd;stroke-width:2;stroke:rgb(255,255,255)\"/></svg>"
      ],
      "text/plain": [
       "[(0.9677975592919913, 0.44127456009157356, 0.5358103155058701),\n",
       " (0.8087954113106306, 0.5634700050056693, 0.19502642696727285),\n",
       " (0.5920891529639701, 0.6418467016378244, 0.1935069134991043),\n",
       " (0.19783576093349015, 0.6955516966063037, 0.3995301037444499),\n",
       " (0.21044753832183283, 0.6773105080456748, 0.6433941168468681),\n",
       " (0.22335772267769388, 0.6565792317435265, 0.8171355503265633),\n",
       " (0.6423044349219739, 0.5497680051256467, 0.9582651433656727),\n",
       " (0.9603888539940703, 0.3814317878772117, 0.8683117650835491)]"
      ]
     },
     "execution_count": 55,
     "metadata": {},
     "output_type": "execute_result"
    }
   ],
   "source": [
    "sns.color_palette(\"husl\", 8)\n"
   ]
  },
  {
   "cell_type": "code",
   "execution_count": null,
   "id": "5f4f855f",
   "metadata": {},
   "outputs": [],
   "source": []
  },
  {
   "cell_type": "markdown",
   "id": "4bc9b25b",
   "metadata": {},
   "source": [
    "# Scaler Engeneering\n"
   ]
  },
  {
   "cell_type": "code",
   "execution_count": null,
   "id": "85f9ed3f",
   "metadata": {},
   "outputs": [],
   "source": []
  }
 ],
 "metadata": {
  "kernelspec": {
   "display_name": "Python 3 (ipykernel)",
   "language": "python",
   "name": "python3"
  },
  "language_info": {
   "codemirror_mode": {
    "name": "ipython",
    "version": 3
   },
   "file_extension": ".py",
   "mimetype": "text/x-python",
   "name": "python",
   "nbconvert_exporter": "python",
   "pygments_lexer": "ipython3",
   "version": "3.10.6"
  },
  "toc": {
   "base_numbering": 1,
   "nav_menu": {},
   "number_sections": true,
   "sideBar": true,
   "skip_h1_title": false,
   "title_cell": "Table of Contents",
   "title_sidebar": "Contents",
   "toc_cell": false,
   "toc_position": {},
   "toc_section_display": true,
   "toc_window_display": false
  }
 },
 "nbformat": 4,
 "nbformat_minor": 5
}
