{
 "cells": [
  {
   "cell_type": "markdown",
   "id": "ba13e010",
   "metadata": {},
   "source": [
    "# link to documentation\n",
    "https://macrobond.github.io/macrobond-data-api/#macrobond_data_api.get_unified_series"
   ]
  },
  {
   "cell_type": "code",
   "execution_count": 5,
   "id": "00fadb25",
   "metadata": {},
   "outputs": [],
   "source": [
    "import pandas as pd\n",
    "import numpy as np\n",
    "import matplotlib.pyplot as plt"
   ]
  },
  {
   "cell_type": "code",
   "execution_count": 2,
   "id": "4b9554f5",
   "metadata": {},
   "outputs": [
    {
     "name": "stdout",
     "output_type": "stream",
     "text": [
      "Requirement already satisfied: macrobond-data-api in /home/willbanny/.pyenv/versions/3.10.6/envs/Location-Analysis/lib/python3.10/site-packages (1.0.6)\n",
      "Requirement already satisfied: keyring>=23.11.0 in /home/willbanny/.pyenv/versions/3.10.6/envs/Location-Analysis/lib/python3.10/site-packages (from macrobond-data-api) (23.13.1)\n",
      "Requirement already satisfied: Authlib>=1.2.0 in /home/willbanny/.pyenv/versions/3.10.6/envs/Location-Analysis/lib/python3.10/site-packages (from macrobond-data-api) (1.2.0)\n",
      "Requirement already satisfied: requests>=2.28.2 in /home/willbanny/.pyenv/versions/3.10.6/envs/Location-Analysis/lib/python3.10/site-packages (from macrobond-data-api) (2.31.0)\n",
      "Requirement already satisfied: ijson>=3.1.4 in /home/willbanny/.pyenv/versions/3.10.6/envs/Location-Analysis/lib/python3.10/site-packages (from macrobond-data-api) (3.2.0.post0)\n",
      "Requirement already satisfied: typing-extensions>=4.5.0 in /home/willbanny/.pyenv/versions/3.10.6/envs/Location-Analysis/lib/python3.10/site-packages (from macrobond-data-api) (4.6.3)\n",
      "Requirement already satisfied: cryptography>=3.2 in /home/willbanny/.pyenv/versions/3.10.6/envs/Location-Analysis/lib/python3.10/site-packages (from Authlib>=1.2.0->macrobond-data-api) (41.0.1)\n",
      "Requirement already satisfied: jaraco.classes in /home/willbanny/.pyenv/versions/3.10.6/envs/Location-Analysis/lib/python3.10/site-packages (from keyring>=23.11.0->macrobond-data-api) (3.2.3)\n",
      "Requirement already satisfied: importlib-metadata>=4.11.4 in /home/willbanny/.pyenv/versions/3.10.6/envs/Location-Analysis/lib/python3.10/site-packages (from keyring>=23.11.0->macrobond-data-api) (6.6.0)\n",
      "Requirement already satisfied: SecretStorage>=3.2 in /home/willbanny/.pyenv/versions/3.10.6/envs/Location-Analysis/lib/python3.10/site-packages (from keyring>=23.11.0->macrobond-data-api) (3.3.3)\n",
      "Requirement already satisfied: jeepney>=0.4.2 in /home/willbanny/.pyenv/versions/3.10.6/envs/Location-Analysis/lib/python3.10/site-packages (from keyring>=23.11.0->macrobond-data-api) (0.8.0)\n",
      "Requirement already satisfied: charset-normalizer<4,>=2 in /home/willbanny/.pyenv/versions/3.10.6/envs/Location-Analysis/lib/python3.10/site-packages (from requests>=2.28.2->macrobond-data-api) (3.1.0)\n",
      "Requirement already satisfied: idna<4,>=2.5 in /home/willbanny/.pyenv/versions/3.10.6/envs/Location-Analysis/lib/python3.10/site-packages (from requests>=2.28.2->macrobond-data-api) (3.4)\n",
      "Requirement already satisfied: urllib3<3,>=1.21.1 in /home/willbanny/.pyenv/versions/3.10.6/envs/Location-Analysis/lib/python3.10/site-packages (from requests>=2.28.2->macrobond-data-api) (2.0.2)\n",
      "Requirement already satisfied: certifi>=2017.4.17 in /home/willbanny/.pyenv/versions/3.10.6/envs/Location-Analysis/lib/python3.10/site-packages (from requests>=2.28.2->macrobond-data-api) (2023.5.7)\n",
      "Requirement already satisfied: cffi>=1.12 in /home/willbanny/.pyenv/versions/3.10.6/envs/Location-Analysis/lib/python3.10/site-packages (from cryptography>=3.2->Authlib>=1.2.0->macrobond-data-api) (1.15.1)\n",
      "Requirement already satisfied: zipp>=0.5 in /home/willbanny/.pyenv/versions/3.10.6/envs/Location-Analysis/lib/python3.10/site-packages (from importlib-metadata>=4.11.4->keyring>=23.11.0->macrobond-data-api) (3.15.0)\n",
      "Requirement already satisfied: more-itertools in /home/willbanny/.pyenv/versions/3.10.6/envs/Location-Analysis/lib/python3.10/site-packages (from jaraco.classes->keyring>=23.11.0->macrobond-data-api) (9.1.0)\n",
      "Requirement already satisfied: pycparser in /home/willbanny/.pyenv/versions/3.10.6/envs/Location-Analysis/lib/python3.10/site-packages (from cffi>=1.12->cryptography>=3.2->Authlib>=1.2.0->macrobond-data-api) (2.21)\n"
     ]
    }
   ],
   "source": [
    "! python -m pip install macrobond-data-api"
   ]
  },
  {
   "cell_type": "code",
   "execution_count": 5,
   "id": "f5b94f88",
   "metadata": {},
   "outputs": [],
   "source": [
    "import macrobond_data_api as mda\n",
    "from macrobond_data_api.web import WebClient"
   ]
  },
  {
   "cell_type": "code",
   "execution_count": 10,
   "id": "61326f26",
   "metadata": {},
   "outputs": [],
   "source": [
    "client_id = \"webapi_im@orchard-street.co.uk\"\n",
    "client_secret = \"hury}atemoguhupyc5nez_5\"\n",
    "\n",
    "with WebClient(client_id, client_secret) as api:\n",
    "    series = api.get_unified_series(\"gblama10086\",\"gblama10085\", 'gblama10087', 'gblama10088', 'gblama10089').to_pd_data_frame()\n",
    "\n",
    "series_df = (series)"
   ]
  },
  {
   "cell_type": "code",
   "execution_count": 11,
   "id": "92220ef6",
   "metadata": {},
   "outputs": [
    {
     "data": {
      "text/html": [
       "<div>\n",
       "<style scoped>\n",
       "    .dataframe tbody tr th:only-of-type {\n",
       "        vertical-align: middle;\n",
       "    }\n",
       "\n",
       "    .dataframe tbody tr th {\n",
       "        vertical-align: top;\n",
       "    }\n",
       "\n",
       "    .dataframe thead th {\n",
       "        text-align: right;\n",
       "    }\n",
       "</style>\n",
       "<table border=\"1\" class=\"dataframe\">\n",
       "  <thead>\n",
       "    <tr style=\"text-align: right;\">\n",
       "      <th></th>\n",
       "      <th>date</th>\n",
       "      <th>gblama10086</th>\n",
       "      <th>gblama10085</th>\n",
       "      <th>gblama10087</th>\n",
       "      <th>gblama10088</th>\n",
       "      <th>gblama10089</th>\n",
       "    </tr>\n",
       "  </thead>\n",
       "  <tbody>\n",
       "    <tr>\n",
       "      <th>0</th>\n",
       "      <td>2014-07-01</td>\n",
       "      <td>1005437.0</td>\n",
       "      <td>476890.0</td>\n",
       "      <td>758647.0</td>\n",
       "      <td>546028.0</td>\n",
       "      <td>886058.0</td>\n",
       "    </tr>\n",
       "    <tr>\n",
       "      <th>1</th>\n",
       "      <td>2014-08-01</td>\n",
       "      <td>1010564.0</td>\n",
       "      <td>478977.0</td>\n",
       "      <td>762409.0</td>\n",
       "      <td>547737.0</td>\n",
       "      <td>889079.0</td>\n",
       "    </tr>\n",
       "    <tr>\n",
       "      <th>2</th>\n",
       "      <td>2014-09-01</td>\n",
       "      <td>1015117.0</td>\n",
       "      <td>480430.0</td>\n",
       "      <td>764899.0</td>\n",
       "      <td>549174.0</td>\n",
       "      <td>891115.0</td>\n",
       "    </tr>\n",
       "    <tr>\n",
       "      <th>3</th>\n",
       "      <td>2014-10-01</td>\n",
       "      <td>1018671.0</td>\n",
       "      <td>480746.0</td>\n",
       "      <td>766717.0</td>\n",
       "      <td>550197.0</td>\n",
       "      <td>893214.0</td>\n",
       "    </tr>\n",
       "    <tr>\n",
       "      <th>4</th>\n",
       "      <td>2014-11-01</td>\n",
       "      <td>1024078.0</td>\n",
       "      <td>483265.0</td>\n",
       "      <td>769643.0</td>\n",
       "      <td>552502.0</td>\n",
       "      <td>897653.0</td>\n",
       "    </tr>\n",
       "    <tr>\n",
       "      <th>...</th>\n",
       "      <td>...</td>\n",
       "      <td>...</td>\n",
       "      <td>...</td>\n",
       "      <td>...</td>\n",
       "      <td>...</td>\n",
       "      <td>...</td>\n",
       "    </tr>\n",
       "    <tr>\n",
       "      <th>101</th>\n",
       "      <td>2022-12-01</td>\n",
       "      <td>1219284.0</td>\n",
       "      <td>549524.0</td>\n",
       "      <td>887698.0</td>\n",
       "      <td>619337.0</td>\n",
       "      <td>1014391.0</td>\n",
       "    </tr>\n",
       "    <tr>\n",
       "      <th>102</th>\n",
       "      <td>2023-01-01</td>\n",
       "      <td>1221722.0</td>\n",
       "      <td>550500.0</td>\n",
       "      <td>889436.0</td>\n",
       "      <td>621080.0</td>\n",
       "      <td>1017305.0</td>\n",
       "    </tr>\n",
       "    <tr>\n",
       "      <th>103</th>\n",
       "      <td>2023-02-01</td>\n",
       "      <td>1223359.0</td>\n",
       "      <td>550519.0</td>\n",
       "      <td>891865.0</td>\n",
       "      <td>622341.0</td>\n",
       "      <td>1019681.0</td>\n",
       "    </tr>\n",
       "    <tr>\n",
       "      <th>104</th>\n",
       "      <td>2023-03-01</td>\n",
       "      <td>1222751.0</td>\n",
       "      <td>549295.0</td>\n",
       "      <td>894181.0</td>\n",
       "      <td>623086.0</td>\n",
       "      <td>1021445.0</td>\n",
       "    </tr>\n",
       "    <tr>\n",
       "      <th>105</th>\n",
       "      <td>2023-04-01</td>\n",
       "      <td>1207539.0</td>\n",
       "      <td>539636.0</td>\n",
       "      <td>887244.0</td>\n",
       "      <td>618602.0</td>\n",
       "      <td>1013119.0</td>\n",
       "    </tr>\n",
       "  </tbody>\n",
       "</table>\n",
       "<p>106 rows × 6 columns</p>\n",
       "</div>"
      ],
      "text/plain": [
       "          date  gblama10086  gblama10085  gblama10087  gblama10088  \\\n",
       "0   2014-07-01    1005437.0     476890.0     758647.0     546028.0   \n",
       "1   2014-08-01    1010564.0     478977.0     762409.0     547737.0   \n",
       "2   2014-09-01    1015117.0     480430.0     764899.0     549174.0   \n",
       "3   2014-10-01    1018671.0     480746.0     766717.0     550197.0   \n",
       "4   2014-11-01    1024078.0     483265.0     769643.0     552502.0   \n",
       "..         ...          ...          ...          ...          ...   \n",
       "101 2022-12-01    1219284.0     549524.0     887698.0     619337.0   \n",
       "102 2023-01-01    1221722.0     550500.0     889436.0     621080.0   \n",
       "103 2023-02-01    1223359.0     550519.0     891865.0     622341.0   \n",
       "104 2023-03-01    1222751.0     549295.0     894181.0     623086.0   \n",
       "105 2023-04-01    1207539.0     539636.0     887244.0     618602.0   \n",
       "\n",
       "     gblama10089  \n",
       "0       886058.0  \n",
       "1       889079.0  \n",
       "2       891115.0  \n",
       "3       893214.0  \n",
       "4       897653.0  \n",
       "..           ...  \n",
       "101    1014391.0  \n",
       "102    1017305.0  \n",
       "103    1019681.0  \n",
       "104    1021445.0  \n",
       "105    1013119.0  \n",
       "\n",
       "[106 rows x 6 columns]"
      ]
     },
     "execution_count": 11,
     "metadata": {},
     "output_type": "execute_result"
    }
   ],
   "source": [
    "series_df"
   ]
  },
  {
   "cell_type": "code",
   "execution_count": 12,
   "id": "a667dc86",
   "metadata": {},
   "outputs": [
    {
     "data": {
      "text/plain": [
       "pandas.core.frame.DataFrame"
      ]
     },
     "execution_count": 12,
     "metadata": {},
     "output_type": "execute_result"
    }
   ],
   "source": [
    "type(series_df)"
   ]
  },
  {
   "cell_type": "markdown",
   "id": "5b4f4914",
   "metadata": {},
   "source": [
    "### Grid creation"
   ]
  },
  {
   "cell_type": "code",
   "execution_count": 1,
   "id": "18d367df",
   "metadata": {},
   "outputs": [],
   "source": [
    "R = 10\n",
    "X = int(R) # R is the radius\n",
    "coord_list = []\n",
    "for x in range(-X,X+1):\n",
    "    Y = int((R*R-x*x)**0.5) # bound for y given x\n",
    "    for y in range(-Y,Y+1):\n",
    "        coord_list.append([x,y])"
   ]
  },
  {
   "cell_type": "code",
   "execution_count": 11,
   "id": "1b393d52",
   "metadata": {},
   "outputs": [],
   "source": [
    "df = pd.DataFrame(coord_list)"
   ]
  },
  {
   "cell_type": "code",
   "execution_count": 12,
   "id": "b9ff252e",
   "metadata": {},
   "outputs": [
    {
     "data": {
      "text/plain": [
       "<matplotlib.collections.PathCollection at 0x7f0eb20e5210>"
      ]
     },
     "execution_count": 12,
     "metadata": {},
     "output_type": "execute_result"
    },
    {
     "data": {
      "image/png": "[encoded data removed]",
      "text/plain": [
       "<Figure size 640x480 with 1 Axes>"
      ]
     },
     "metadata": {},
     "output_type": "display_data"
    }
   ],
   "source": [
    "plt.scatter(df[0], df[1])"
   ]
  },
  {
   "cell_type": "code",
   "execution_count": 13,
   "id": "c21e9b6d",
   "metadata": {},
   "outputs": [],
   "source": [
    "top_left = [52.692947, -1.219511]\n",
    "top_right = [52.692712, -1.047477]\n",
    "bottom_right = [52.580920, -1.051782]\n",
    "bottom_left = [52.582053, -1.218993]"
   ]
  },
  {
   "cell_type": "code",
   "execution_count": 21,
   "id": "5cebc489",
   "metadata": {},
   "outputs": [
    {
     "data": {
      "text/plain": [
       "(4, 2)"
      ]
     },
     "execution_count": 21,
     "metadata": {},
     "output_type": "execute_result"
    }
   ],
   "source": [
    "all_bounds = np.array([top_left, top_right, bottom_left, bottom_right])\n",
    "all_bounds.shape"
   ]
  },
  {
   "cell_type": "code",
   "execution_count": 29,
   "id": "7f5da205",
   "metadata": {},
   "outputs": [
    {
     "data": {
      "text/html": [
       "<div>\n",
       "<style scoped>\n",
       "    .dataframe tbody tr th:only-of-type {\n",
       "        vertical-align: middle;\n",
       "    }\n",
       "\n",
       "    .dataframe tbody tr th {\n",
       "        vertical-align: top;\n",
       "    }\n",
       "\n",
       "    .dataframe thead th {\n",
       "        text-align: right;\n",
       "    }\n",
       "</style>\n",
       "<table border=\"1\" class=\"dataframe\">\n",
       "  <thead>\n",
       "    <tr style=\"text-align: right;\">\n",
       "      <th></th>\n",
       "      <th>0</th>\n",
       "      <th>1</th>\n",
       "    </tr>\n",
       "  </thead>\n",
       "  <tbody>\n",
       "    <tr>\n",
       "      <th>0</th>\n",
       "      <td>52.692947</td>\n",
       "      <td>-1.219511</td>\n",
       "    </tr>\n",
       "    <tr>\n",
       "      <th>1</th>\n",
       "      <td>52.692712</td>\n",
       "      <td>-1.047477</td>\n",
       "    </tr>\n",
       "    <tr>\n",
       "      <th>2</th>\n",
       "      <td>52.582053</td>\n",
       "      <td>-1.218993</td>\n",
       "    </tr>\n",
       "    <tr>\n",
       "      <th>3</th>\n",
       "      <td>52.580920</td>\n",
       "      <td>-1.051782</td>\n",
       "    </tr>\n",
       "  </tbody>\n",
       "</table>\n",
       "</div>"
      ],
      "text/plain": [
       "           0         1\n",
       "0  52.692947 -1.219511\n",
       "1  52.692712 -1.047477\n",
       "2  52.582053 -1.218993\n",
       "3  52.580920 -1.051782"
      ]
     },
     "execution_count": 29,
     "metadata": {},
     "output_type": "execute_result"
    }
   ],
   "source": [
    "df_bounds = pd.DataFrame(all_bounds)\n",
    "df_bounds"
   ]
  },
  {
   "cell_type": "code",
   "execution_count": 28,
   "id": "56d22d34",
   "metadata": {},
   "outputs": [
    {
     "data": {
      "text/plain": [
       "<matplotlib.collections.PathCollection at 0x7f0eade228f0>"
      ]
     },
     "execution_count": 28,
     "metadata": {},
     "output_type": "execute_result"
    },
    {
     "data": {
      "image/png": "[encoded data removed]",
      "text/plain": [
       "<Figure size 640x480 with 1 Axes>"
      ]
     },
     "metadata": {},
     "output_type": "display_data"
    }
   ],
   "source": [
    "plt.scatter(df_bounds[0], df_bounds[1])"
   ]
  },
  {
   "cell_type": "code",
   "execution_count": 46,
   "id": "418a70ec",
   "metadata": {},
   "outputs": [],
   "source": [
    "# 555m ~ 0.005 on lat/lon metric\n",
    "#500m ~ 0.0045 on lat/lon metric\n",
    "\n",
    "step = 0.0045\n",
    "\n",
    "num_points_lat = abs(round((top_left[0]-bottom_right[0]) / step))\n",
    "num_points_lon = abs(round((top_left[1]-bottom_right[1]) / step))\n",
    "\n",
    "height = np.linspace(top_left[0], bottom_right[0], num_points_lat )\n",
    "width = np.linspace(top_left[1], bottom_right[1], num_points_lat )"
   ]
  },
  {
   "cell_type": "code",
   "execution_count": 60,
   "id": "cb76d997",
   "metadata": {},
   "outputs": [
    {
     "data": {
      "text/plain": [
       "array([[-1.219511  , -1.21252229, -1.20553358, -1.19854488, -1.19155617,\n",
       "        -1.18456746, -1.17757875, -1.17059004, -1.16360133, -1.15661262,\n",
       "        -1.14962392, -1.14263521, -1.1356465 , -1.12865779, -1.12166908,\n",
       "        -1.11468038, -1.10769167, -1.10070296, -1.09371425, -1.08672554,\n",
       "        -1.07973683, -1.07274812, -1.06575942, -1.05877071, -1.051782  ],\n",
       "       [-1.219511  , -1.21252229, -1.20553358, -1.19854488, -1.19155617,\n",
       "        -1.18456746, -1.17757875, -1.17059004, -1.16360133, -1.15661262,\n",
       "        -1.14962392, -1.14263521, -1.1356465 , -1.12865779, -1.12166908,\n",
       "        -1.11468038, -1.10769167, -1.10070296, -1.09371425, -1.08672554,\n",
       "        -1.07973683, -1.07274812, -1.06575942, -1.05877071, -1.051782  ],\n",
       "       [-1.219511  , -1.21252229, -1.20553358, -1.19854488, -1.19155617,\n",
       "        -1.18456746, -1.17757875, -1.17059004, -1.16360133, -1.15661262,\n",
       "        -1.14962392, -1.14263521, -1.1356465 , -1.12865779, -1.12166908,\n",
       "        -1.11468038, -1.10769167, -1.10070296, -1.09371425, -1.08672554,\n",
       "        -1.07973683, -1.07274812, -1.06575942, -1.05877071, -1.051782  ],\n",
       "       [-1.219511  , -1.21252229, -1.20553358, -1.19854488, -1.19155617,\n",
       "        -1.18456746, -1.17757875, -1.17059004, -1.16360133, -1.15661262,\n",
       "        -1.14962392, -1.14263521, -1.1356465 , -1.12865779, -1.12166908,\n",
       "        -1.11468038, -1.10769167, -1.10070296, -1.09371425, -1.08672554,\n",
       "        -1.07973683, -1.07274812, -1.06575942, -1.05877071, -1.051782  ],\n",
       "       [-1.219511  , -1.21252229, -1.20553358, -1.19854488, -1.19155617,\n",
       "        -1.18456746, -1.17757875, -1.17059004, -1.16360133, -1.15661262,\n",
       "        -1.14962392, -1.14263521, -1.1356465 , -1.12865779, -1.12166908,\n",
       "        -1.11468038, -1.10769167, -1.10070296, -1.09371425, -1.08672554,\n",
       "        -1.07973683, -1.07274812, -1.06575942, -1.05877071, -1.051782  ],\n",
       "       [-1.219511  , -1.21252229, -1.20553358, -1.19854488, -1.19155617,\n",
       "        -1.18456746, -1.17757875, -1.17059004, -1.16360133, -1.15661262,\n",
       "        -1.14962392, -1.14263521, -1.1356465 , -1.12865779, -1.12166908,\n",
       "        -1.11468038, -1.10769167, -1.10070296, -1.09371425, -1.08672554,\n",
       "        -1.07973683, -1.07274812, -1.06575942, -1.05877071, -1.051782  ],\n",
       "       [-1.219511  , -1.21252229, -1.20553358, -1.19854488, -1.19155617,\n",
       "        -1.18456746, -1.17757875, -1.17059004, -1.16360133, -1.15661262,\n",
       "        -1.14962392, -1.14263521, -1.1356465 , -1.12865779, -1.12166908,\n",
       "        -1.11468038, -1.10769167, -1.10070296, -1.09371425, -1.08672554,\n",
       "        -1.07973683, -1.07274812, -1.06575942, -1.05877071, -1.051782  ],\n",
       "       [-1.219511  , -1.21252229, -1.20553358, -1.19854488, -1.19155617,\n",
       "        -1.18456746, -1.17757875, -1.17059004, -1.16360133, -1.15661262,\n",
       "        -1.14962392, -1.14263521, -1.1356465 , -1.12865779, -1.12166908,\n",
       "        -1.11468038, -1.10769167, -1.10070296, -1.09371425, -1.08672554,\n",
       "        -1.07973683, -1.07274812, -1.06575942, -1.05877071, -1.051782  ],\n",
       "       [-1.219511  , -1.21252229, -1.20553358, -1.19854488, -1.19155617,\n",
       "        -1.18456746, -1.17757875, -1.17059004, -1.16360133, -1.15661262,\n",
       "        -1.14962392, -1.14263521, -1.1356465 , -1.12865779, -1.12166908,\n",
       "        -1.11468038, -1.10769167, -1.10070296, -1.09371425, -1.08672554,\n",
       "        -1.07973683, -1.07274812, -1.06575942, -1.05877071, -1.051782  ],\n",
       "       [-1.219511  , -1.21252229, -1.20553358, -1.19854488, -1.19155617,\n",
       "        -1.18456746, -1.17757875, -1.17059004, -1.16360133, -1.15661262,\n",
       "        -1.14962392, -1.14263521, -1.1356465 , -1.12865779, -1.12166908,\n",
       "        -1.11468038, -1.10769167, -1.10070296, -1.09371425, -1.08672554,\n",
       "        -1.07973683, -1.07274812, -1.06575942, -1.05877071, -1.051782  ],\n",
       "       [-1.219511  , -1.21252229, -1.20553358, -1.19854488, -1.19155617,\n",
       "        -1.18456746, -1.17757875, -1.17059004, -1.16360133, -1.15661262,\n",
       "        -1.14962392, -1.14263521, -1.1356465 , -1.12865779, -1.12166908,\n",
       "        -1.11468038, -1.10769167, -1.10070296, -1.09371425, -1.08672554,\n",
       "        -1.07973683, -1.07274812, -1.06575942, -1.05877071, -1.051782  ],\n",
       "       [-1.219511  , -1.21252229, -1.20553358, -1.19854488, -1.19155617,\n",
       "        -1.18456746, -1.17757875, -1.17059004, -1.16360133, -1.15661262,\n",
       "        -1.14962392, -1.14263521, -1.1356465 , -1.12865779, -1.12166908,\n",
       "        -1.11468038, -1.10769167, -1.10070296, -1.09371425, -1.08672554,\n",
       "        -1.07973683, -1.07274812, -1.06575942, -1.05877071, -1.051782  ],\n",
       "       [-1.219511  , -1.21252229, -1.20553358, -1.19854488, -1.19155617,\n",
       "        -1.18456746, -1.17757875, -1.17059004, -1.16360133, -1.15661262,\n",
       "        -1.14962392, -1.14263521, -1.1356465 , -1.12865779, -1.12166908,\n",
       "        -1.11468038, -1.10769167, -1.10070296, -1.09371425, -1.08672554,\n",
       "        -1.07973683, -1.07274812, -1.06575942, -1.05877071, -1.051782  ],\n",
       "       [-1.219511  , -1.21252229, -1.20553358, -1.19854488, -1.19155617,\n",
       "        -1.18456746, -1.17757875, -1.17059004, -1.16360133, -1.15661262,\n",
       "        -1.14962392, -1.14263521, -1.1356465 , -1.12865779, -1.12166908,\n",
       "        -1.11468038, -1.10769167, -1.10070296, -1.09371425, -1.08672554,\n",
       "        -1.07973683, -1.07274812, -1.06575942, -1.05877071, -1.051782  ],\n",
       "       [-1.219511  , -1.21252229, -1.20553358, -1.19854488, -1.19155617,\n",
       "        -1.18456746, -1.17757875, -1.17059004, -1.16360133, -1.15661262,\n",
       "        -1.14962392, -1.14263521, -1.1356465 , -1.12865779, -1.12166908,\n",
       "        -1.11468038, -1.10769167, -1.10070296, -1.09371425, -1.08672554,\n",
       "        -1.07973683, -1.07274812, -1.06575942, -1.05877071, -1.051782  ],\n",
       "       [-1.219511  , -1.21252229, -1.20553358, -1.19854488, -1.19155617,\n",
       "        -1.18456746, -1.17757875, -1.17059004, -1.16360133, -1.15661262,\n",
       "        -1.14962392, -1.14263521, -1.1356465 , -1.12865779, -1.12166908,\n",
       "        -1.11468038, -1.10769167, -1.10070296, -1.09371425, -1.08672554,\n",
       "        -1.07973683, -1.07274812, -1.06575942, -1.05877071, -1.051782  ],\n",
       "       [-1.219511  , -1.21252229, -1.20553358, -1.19854488, -1.19155617,\n",
       "        -1.18456746, -1.17757875, -1.17059004, -1.16360133, -1.15661262,\n",
       "        -1.14962392, -1.14263521, -1.1356465 , -1.12865779, -1.12166908,\n",
       "        -1.11468038, -1.10769167, -1.10070296, -1.09371425, -1.08672554,\n",
       "        -1.07973683, -1.07274812, -1.06575942, -1.05877071, -1.051782  ],\n",
       "       [-1.219511  , -1.21252229, -1.20553358, -1.19854488, -1.19155617,\n",
       "        -1.18456746, -1.17757875, -1.17059004, -1.16360133, -1.15661262,\n",
       "        -1.14962392, -1.14263521, -1.1356465 , -1.12865779, -1.12166908,\n",
       "        -1.11468038, -1.10769167, -1.10070296, -1.09371425, -1.08672554,\n",
       "        -1.07973683, -1.07274812, -1.06575942, -1.05877071, -1.051782  ],\n",
       "       [-1.219511  , -1.21252229, -1.20553358, -1.19854488, -1.19155617,\n",
       "        -1.18456746, -1.17757875, -1.17059004, -1.16360133, -1.15661262,\n",
       "        -1.14962392, -1.14263521, -1.1356465 , -1.12865779, -1.12166908,\n",
       "        -1.11468038, -1.10769167, -1.10070296, -1.09371425, -1.08672554,\n",
       "        -1.07973683, -1.07274812, -1.06575942, -1.05877071, -1.051782  ],\n",
       "       [-1.219511  , -1.21252229, -1.20553358, -1.19854488, -1.19155617,\n",
       "        -1.18456746, -1.17757875, -1.17059004, -1.16360133, -1.15661262,\n",
       "        -1.14962392, -1.14263521, -1.1356465 , -1.12865779, -1.12166908,\n",
       "        -1.11468038, -1.10769167, -1.10070296, -1.09371425, -1.08672554,\n",
       "        -1.07973683, -1.07274812, -1.06575942, -1.05877071, -1.051782  ],\n",
       "       [-1.219511  , -1.21252229, -1.20553358, -1.19854488, -1.19155617,\n",
       "        -1.18456746, -1.17757875, -1.17059004, -1.16360133, -1.15661262,\n",
       "        -1.14962392, -1.14263521, -1.1356465 , -1.12865779, -1.12166908,\n",
       "        -1.11468038, -1.10769167, -1.10070296, -1.09371425, -1.08672554,\n",
       "        -1.07973683, -1.07274812, -1.06575942, -1.05877071, -1.051782  ],\n",
       "       [-1.219511  , -1.21252229, -1.20553358, -1.19854488, -1.19155617,\n",
       "        -1.18456746, -1.17757875, -1.17059004, -1.16360133, -1.15661262,\n",
       "        -1.14962392, -1.14263521, -1.1356465 , -1.12865779, -1.12166908,\n",
       "        -1.11468038, -1.10769167, -1.10070296, -1.09371425, -1.08672554,\n",
       "        -1.07973683, -1.07274812, -1.06575942, -1.05877071, -1.051782  ],\n",
       "       [-1.219511  , -1.21252229, -1.20553358, -1.19854488, -1.19155617,\n",
       "        -1.18456746, -1.17757875, -1.17059004, -1.16360133, -1.15661262,\n",
       "        -1.14962392, -1.14263521, -1.1356465 , -1.12865779, -1.12166908,\n",
       "        -1.11468038, -1.10769167, -1.10070296, -1.09371425, -1.08672554,\n",
       "        -1.07973683, -1.07274812, -1.06575942, -1.05877071, -1.051782  ],\n",
       "       [-1.219511  , -1.21252229, -1.20553358, -1.19854488, -1.19155617,\n",
       "        -1.18456746, -1.17757875, -1.17059004, -1.16360133, -1.15661262,\n",
       "        -1.14962392, -1.14263521, -1.1356465 , -1.12865779, -1.12166908,\n",
       "        -1.11468038, -1.10769167, -1.10070296, -1.09371425, -1.08672554,\n",
       "        -1.07973683, -1.07274812, -1.06575942, -1.05877071, -1.051782  ],\n",
       "       [-1.219511  , -1.21252229, -1.20553358, -1.19854488, -1.19155617,\n",
       "        -1.18456746, -1.17757875, -1.17059004, -1.16360133, -1.15661262,\n",
       "        -1.14962392, -1.14263521, -1.1356465 , -1.12865779, -1.12166908,\n",
       "        -1.11468038, -1.10769167, -1.10070296, -1.09371425, -1.08672554,\n",
       "        -1.07973683, -1.07274812, -1.06575942, -1.05877071, -1.051782  ]])"
      ]
     },
     "execution_count": 60,
     "metadata": {},
     "output_type": "execute_result"
    }
   ],
   "source": [
    "np.array([width for i in height])"
   ]
  },
  {
   "cell_type": "markdown",
   "id": "80ef21ce",
   "metadata": {},
   "source": [
    "### Shapefile Tests"
   ]
  },
  {
   "cell_type": "code",
   "execution_count": 61,
   "id": "3be2fb07",
   "metadata": {},
   "outputs": [
    {
     "name": "stdout",
     "output_type": "stream",
     "text": [
      "Collecting geopandas\n",
      "  Downloading geopandas-0.13.1-py3-none-any.whl (1.1 MB)\n",
      "\u001b[2K     \u001b[90m━━━━━━━━━━━━━━━━━━━━━━━━━━━━━━━━━━━━━━━━\u001b[0m \u001b[32m1.1/1.1 MB\u001b[0m \u001b[31m4.3 MB/s\u001b[0m eta \u001b[36m0:00:00\u001b[0m00:01\u001b[0m00:01\u001b[0m\n",
      "\u001b[?25hCollecting fiona>=1.8.19 (from geopandas)\n",
      "  Downloading Fiona-1.9.4.post1-cp310-cp310-manylinux_2_17_x86_64.manylinux2014_x86_64.whl (16.4 MB)\n",
      "\u001b[2K     \u001b[90m━━━━━━━━━━━━━━━━━━━━━━━━━━━━━━━━━━━━━━━━\u001b[0m \u001b[32m16.4/16.4 MB\u001b[0m \u001b[31m6.1 MB/s\u001b[0m eta \u001b[36m0:00:00\u001b[0m00:01\u001b[0m00:01\u001b[0m\n",
      "\u001b[?25hRequirement already satisfied: packaging in /home/willbanny/.pyenv/versions/3.10.6/envs/Location-Analysis/lib/python3.10/site-packages (from geopandas) (23.1)\n",
      "Requirement already satisfied: pandas>=1.1.0 in /home/willbanny/.pyenv/versions/3.10.6/envs/Location-Analysis/lib/python3.10/site-packages (from geopandas) (2.0.2)\n",
      "Collecting pyproj>=3.0.1 (from geopandas)\n",
      "  Downloading pyproj-3.5.0-cp310-cp310-manylinux_2_17_x86_64.manylinux2014_x86_64.whl (7.7 MB)\n",
      "\u001b[2K     \u001b[90m━━━━━━━━━━━━━━━━━━━━━━━━━━━━━━━━━━━━━━━━\u001b[0m \u001b[32m7.7/7.7 MB\u001b[0m \u001b[31m5.3 MB/s\u001b[0m eta \u001b[36m0:00:00\u001b[0m00:01\u001b[0m00:01\u001b[0mm\n",
      "\u001b[?25hCollecting shapely>=1.7.1 (from geopandas)\n",
      "  Downloading shapely-2.0.1-cp310-cp310-manylinux_2_17_x86_64.manylinux2014_x86_64.whl (2.3 MB)\n",
      "\u001b[2K     \u001b[90m━━━━━━━━━━━━━━━━━━━━━━━━━━━━━━━━━━━━━━━━\u001b[0m \u001b[32m2.3/2.3 MB\u001b[0m \u001b[31m4.6 MB/s\u001b[0m eta \u001b[36m0:00:00\u001b[0m00:01\u001b[0m00:01\u001b[0mm\n",
      "\u001b[?25hRequirement already satisfied: attrs>=19.2.0 in /home/willbanny/.pyenv/versions/3.10.6/envs/Location-Analysis/lib/python3.10/site-packages (from fiona>=1.8.19->geopandas) (23.1.0)\n",
      "Requirement already satisfied: certifi in /home/willbanny/.pyenv/versions/3.10.6/envs/Location-Analysis/lib/python3.10/site-packages (from fiona>=1.8.19->geopandas) (2023.5.7)\n",
      "Collecting click~=8.0 (from fiona>=1.8.19->geopandas)\n",
      "  Using cached click-8.1.3-py3-none-any.whl (96 kB)\n",
      "Collecting click-plugins>=1.0 (from fiona>=1.8.19->geopandas)\n",
      "  Downloading click_plugins-1.1.1-py2.py3-none-any.whl (7.5 kB)\n",
      "Collecting cligj>=0.5 (from fiona>=1.8.19->geopandas)\n",
      "  Downloading cligj-0.7.2-py3-none-any.whl (7.1 kB)\n",
      "Requirement already satisfied: six in /home/willbanny/.pyenv/versions/3.10.6/envs/Location-Analysis/lib/python3.10/site-packages (from fiona>=1.8.19->geopandas) (1.16.0)\n",
      "Requirement already satisfied: python-dateutil>=2.8.2 in /home/willbanny/.pyenv/versions/3.10.6/envs/Location-Analysis/lib/python3.10/site-packages (from pandas>=1.1.0->geopandas) (2.8.2)\n",
      "Requirement already satisfied: pytz>=2020.1 in /home/willbanny/.pyenv/versions/3.10.6/envs/Location-Analysis/lib/python3.10/site-packages (from pandas>=1.1.0->geopandas) (2023.3)\n",
      "Requirement already satisfied: tzdata>=2022.1 in /home/willbanny/.pyenv/versions/3.10.6/envs/Location-Analysis/lib/python3.10/site-packages (from pandas>=1.1.0->geopandas) (2023.3)\n",
      "Requirement already satisfied: numpy>=1.21.0 in /home/willbanny/.pyenv/versions/3.10.6/envs/Location-Analysis/lib/python3.10/site-packages (from pandas>=1.1.0->geopandas) (1.24.3)\n",
      "Installing collected packages: shapely, pyproj, click, cligj, click-plugins, fiona, geopandas\n",
      "Successfully installed click-8.1.3 click-plugins-1.1.1 cligj-0.7.2 fiona-1.9.4.post1 geopandas-0.13.1 pyproj-3.5.0 shapely-2.0.1\n",
      "Note: you may need to restart the kernel to use updated packages.\n"
     ]
    }
   ],
   "source": [
    "pip install geopandas"
   ]
  },
  {
   "cell_type": "code",
   "execution_count": 2,
   "id": "e5495757",
   "metadata": {},
   "outputs": [
    {
     "name": "stdout",
     "output_type": "stream",
     "text": [
      "/home/willbanny/code/willbanny/Location-Analysis/macrobond\r\n"
     ]
    }
   ],
   "source": [
    "!pwd"
   ]
  },
  {
   "cell_type": "code",
   "execution_count": 6,
   "id": "d460028d",
   "metadata": {},
   "outputs": [
    {
     "ename": "ModuleNotFoundError",
     "evalue": "No module named 'osgeo'",
     "output_type": "error",
     "traceback": [
      "\u001b[0;31m---------------------------------------------------------------------------\u001b[0m",
      "\u001b[0;31mModuleNotFoundError\u001b[0m                       Traceback (most recent call last)",
      "Cell \u001b[0;32mIn[6], line 2\u001b[0m\n\u001b[1;32m      1\u001b[0m \u001b[38;5;28;01mimport\u001b[39;00m \u001b[38;5;21;01mgeopandas\u001b[39;00m \u001b[38;5;28;01mas\u001b[39;00m \u001b[38;5;21;01mgpd\u001b[39;00m\n\u001b[0;32m----> 2\u001b[0m \u001b[38;5;28;01mfrom\u001b[39;00m \u001b[38;5;21;01mosgeo\u001b[39;00m \u001b[38;5;28;01mimport\u001b[39;00m gdal\n\u001b[1;32m      4\u001b[0m gdal\u001b[38;5;241m.\u001b[39mSetConfigOption(\u001b[38;5;124m'\u001b[39m\u001b[38;5;124mSHAPE_RESTORE_SHX\u001b[39m\u001b[38;5;124m'\u001b[39m, \u001b[38;5;124m'\u001b[39m\u001b[38;5;124mYES\u001b[39m\u001b[38;5;124m'\u001b[39m)\n\u001b[1;32m      5\u001b[0m gdf \u001b[38;5;241m=\u001b[39m gpd\u001b[38;5;241m.\u001b[39mread_file(\u001b[38;5;124m\"\u001b[39m\u001b[38;5;124m/home/willbanny/code/willbanny/Location-Analysis/raw_data/district_borough_unitary_region.shp\u001b[39m\u001b[38;5;124m\"\u001b[39m, SHAPE_RESTORE_SHX\u001b[38;5;241m=\u001b[39m\u001b[38;5;124m\"\u001b[39m\u001b[38;5;124myes\u001b[39m\u001b[38;5;124m\"\u001b[39m)\n",
      "\u001b[0;31mModuleNotFoundError\u001b[0m: No module named 'osgeo'"
     ]
    }
   ],
   "source": [
    "import geopandas as gpd\n",
    "from osgeo import gdal\n",
    "\n",
    "gdal.SetConfigOption('SHAPE_RESTORE_SHX', 'YES')\n",
    "gdf = gpd.read_file(\"/home/willbanny/code/willbanny/Location-Analysis/raw_data/district_borough_unitary_region.shp\", SHAPE_RESTORE_SHX=\"yes\")\n",
    "\n",
    "gdf.head()"
   ]
  },
  {
   "cell_type": "code",
   "execution_count": null,
   "id": "a0e9da2c",
   "metadata": {},
   "outputs": [],
   "source": []
  }
 ],
 "metadata": {
  "kernelspec": {
   "display_name": "Python 3 (ipykernel)",
   "language": "python",
   "name": "python3"
  },
  "language_info": {
   "codemirror_mode": {
    "name": "ipython",
    "version": 3
   },
   "file_extension": ".py",
   "mimetype": "text/x-python",
   "name": "python",
   "nbconvert_exporter": "python",
   "pygments_lexer": "ipython3",
   "version": "3.10.6"
  },
  "toc": {
   "base_numbering": 1,
   "nav_menu": {},
   "number_sections": true,
   "sideBar": true,
   "skip_h1_title": false,
   "title_cell": "Table of Contents",
   "title_sidebar": "Contents",
   "toc_cell": false,
   "toc_position": {},
   "toc_section_display": true,
   "toc_window_display": false
  }
 },
 "nbformat": 4,
 "nbformat_minor": 5
}
