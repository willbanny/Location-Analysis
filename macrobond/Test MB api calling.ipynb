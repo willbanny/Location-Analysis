{
 "cells": [
  {
   "cell_type": "markdown",
   "id": "ba13e010",
   "metadata": {},
   "source": [
    "# link to documentation\n",
    "https://macrobond.github.io/macrobond-data-api/#macrobond_data_api.get_unified_series"
   ]
  },
  {
   "cell_type": "code",
   "execution_count": 1,
   "id": "00fadb25",
   "metadata": {},
   "outputs": [],
   "source": [
    "import pandas as pd\n",
    "import numpy as np"
   ]
  },
  {
   "cell_type": "code",
   "execution_count": 2,
   "id": "4b9554f5",
   "metadata": {},
   "outputs": [
    {
     "name": "stdout",
     "output_type": "stream",
     "text": [
      "Requirement already satisfied: macrobond-data-api in /home/willbanny/.pyenv/versions/3.10.6/envs/Location-Analysis/lib/python3.10/site-packages (1.0.6)\n",
      "Requirement already satisfied: keyring>=23.11.0 in /home/willbanny/.pyenv/versions/3.10.6/envs/Location-Analysis/lib/python3.10/site-packages (from macrobond-data-api) (23.13.1)\n",
      "Requirement already satisfied: Authlib>=1.2.0 in /home/willbanny/.pyenv/versions/3.10.6/envs/Location-Analysis/lib/python3.10/site-packages (from macrobond-data-api) (1.2.0)\n",
      "Requirement already satisfied: requests>=2.28.2 in /home/willbanny/.pyenv/versions/3.10.6/envs/Location-Analysis/lib/python3.10/site-packages (from macrobond-data-api) (2.31.0)\n",
      "Requirement already satisfied: ijson>=3.1.4 in /home/willbanny/.pyenv/versions/3.10.6/envs/Location-Analysis/lib/python3.10/site-packages (from macrobond-data-api) (3.2.0.post0)\n",
      "Requirement already satisfied: typing-extensions>=4.5.0 in /home/willbanny/.pyenv/versions/3.10.6/envs/Location-Analysis/lib/python3.10/site-packages (from macrobond-data-api) (4.6.3)\n",
      "Requirement already satisfied: cryptography>=3.2 in /home/willbanny/.pyenv/versions/3.10.6/envs/Location-Analysis/lib/python3.10/site-packages (from Authlib>=1.2.0->macrobond-data-api) (41.0.1)\n",
      "Requirement already satisfied: jaraco.classes in /home/willbanny/.pyenv/versions/3.10.6/envs/Location-Analysis/lib/python3.10/site-packages (from keyring>=23.11.0->macrobond-data-api) (3.2.3)\n",
      "Requirement already satisfied: importlib-metadata>=4.11.4 in /home/willbanny/.pyenv/versions/3.10.6/envs/Location-Analysis/lib/python3.10/site-packages (from keyring>=23.11.0->macrobond-data-api) (6.6.0)\n",
      "Requirement already satisfied: SecretStorage>=3.2 in /home/willbanny/.pyenv/versions/3.10.6/envs/Location-Analysis/lib/python3.10/site-packages (from keyring>=23.11.0->macrobond-data-api) (3.3.3)\n",
      "Requirement already satisfied: jeepney>=0.4.2 in /home/willbanny/.pyenv/versions/3.10.6/envs/Location-Analysis/lib/python3.10/site-packages (from keyring>=23.11.0->macrobond-data-api) (0.8.0)\n",
      "Requirement already satisfied: charset-normalizer<4,>=2 in /home/willbanny/.pyenv/versions/3.10.6/envs/Location-Analysis/lib/python3.10/site-packages (from requests>=2.28.2->macrobond-data-api) (3.1.0)\n",
      "Requirement already satisfied: idna<4,>=2.5 in /home/willbanny/.pyenv/versions/3.10.6/envs/Location-Analysis/lib/python3.10/site-packages (from requests>=2.28.2->macrobond-data-api) (3.4)\n",
      "Requirement already satisfied: urllib3<3,>=1.21.1 in /home/willbanny/.pyenv/versions/3.10.6/envs/Location-Analysis/lib/python3.10/site-packages (from requests>=2.28.2->macrobond-data-api) (2.0.2)\n",
      "Requirement already satisfied: certifi>=2017.4.17 in /home/willbanny/.pyenv/versions/3.10.6/envs/Location-Analysis/lib/python3.10/site-packages (from requests>=2.28.2->macrobond-data-api) (2023.5.7)\n",
      "Requirement already satisfied: cffi>=1.12 in /home/willbanny/.pyenv/versions/3.10.6/envs/Location-Analysis/lib/python3.10/site-packages (from cryptography>=3.2->Authlib>=1.2.0->macrobond-data-api) (1.15.1)\n",
      "Requirement already satisfied: zipp>=0.5 in /home/willbanny/.pyenv/versions/3.10.6/envs/Location-Analysis/lib/python3.10/site-packages (from importlib-metadata>=4.11.4->keyring>=23.11.0->macrobond-data-api) (3.15.0)\n",
      "Requirement already satisfied: more-itertools in /home/willbanny/.pyenv/versions/3.10.6/envs/Location-Analysis/lib/python3.10/site-packages (from jaraco.classes->keyring>=23.11.0->macrobond-data-api) (9.1.0)\n",
      "Requirement already satisfied: pycparser in /home/willbanny/.pyenv/versions/3.10.6/envs/Location-Analysis/lib/python3.10/site-packages (from cffi>=1.12->cryptography>=3.2->Authlib>=1.2.0->macrobond-data-api) (2.21)\n"
     ]
    }
   ],
   "source": [
    "! python -m pip install macrobond-data-api"
   ]
  },
  {
   "cell_type": "code",
   "execution_count": 5,
   "id": "f5b94f88",
   "metadata": {},
   "outputs": [],
   "source": [
    "import macrobond_data_api as mda\n",
    "from macrobond_data_api.web import WebClient"
   ]
  },
  {
   "cell_type": "code",
   "execution_count": 10,
   "id": "61326f26",
   "metadata": {},
   "outputs": [],
   "source": [
    "client_id = \"webapi_im@orchard-street.co.uk\"\n",
    "client_secret = \"hury}atemoguhupyc5nez_5\"\n",
    "\n",
    "with WebClient(client_id, client_secret) as api:\n",
    "    series = api.get_unified_series(\"gblama10086\",\"gblama10085\", 'gblama10087', 'gblama10088', 'gblama10089').to_pd_data_frame()\n",
    "\n",
    "series_df = (series)"
   ]
  },
  {
   "cell_type": "code",
   "execution_count": 11,
   "id": "92220ef6",
   "metadata": {},
   "outputs": [
    {
     "data": {
      "text/html": [
       "<div>\n",
       "<style scoped>\n",
       "    .dataframe tbody tr th:only-of-type {\n",
       "        vertical-align: middle;\n",
       "    }\n",
       "\n",
       "    .dataframe tbody tr th {\n",
       "        vertical-align: top;\n",
       "    }\n",
       "\n",
       "    .dataframe thead th {\n",
       "        text-align: right;\n",
       "    }\n",
       "</style>\n",
       "<table border=\"1\" class=\"dataframe\">\n",
       "  <thead>\n",
       "    <tr style=\"text-align: right;\">\n",
       "      <th></th>\n",
       "      <th>date</th>\n",
       "      <th>gblama10086</th>\n",
       "      <th>gblama10085</th>\n",
       "      <th>gblama10087</th>\n",
       "      <th>gblama10088</th>\n",
       "      <th>gblama10089</th>\n",
       "    </tr>\n",
       "  </thead>\n",
       "  <tbody>\n",
       "    <tr>\n",
       "      <th>0</th>\n",
       "      <td>2014-07-01</td>\n",
       "      <td>1005437.0</td>\n",
       "      <td>476890.0</td>\n",
       "      <td>758647.0</td>\n",
       "      <td>546028.0</td>\n",
       "      <td>886058.0</td>\n",
       "    </tr>\n",
       "    <tr>\n",
       "      <th>1</th>\n",
       "      <td>2014-08-01</td>\n",
       "      <td>1010564.0</td>\n",
       "      <td>478977.0</td>\n",
       "      <td>762409.0</td>\n",
       "      <td>547737.0</td>\n",
       "      <td>889079.0</td>\n",
       "    </tr>\n",
       "    <tr>\n",
       "      <th>2</th>\n",
       "      <td>2014-09-01</td>\n",
       "      <td>1015117.0</td>\n",
       "      <td>480430.0</td>\n",
       "      <td>764899.0</td>\n",
       "      <td>549174.0</td>\n",
       "      <td>891115.0</td>\n",
       "    </tr>\n",
       "    <tr>\n",
       "      <th>3</th>\n",
       "      <td>2014-10-01</td>\n",
       "      <td>1018671.0</td>\n",
       "      <td>480746.0</td>\n",
       "      <td>766717.0</td>\n",
       "      <td>550197.0</td>\n",
       "      <td>893214.0</td>\n",
       "    </tr>\n",
       "    <tr>\n",
       "      <th>4</th>\n",
       "      <td>2014-11-01</td>\n",
       "      <td>1024078.0</td>\n",
       "      <td>483265.0</td>\n",
       "      <td>769643.0</td>\n",
       "      <td>552502.0</td>\n",
       "      <td>897653.0</td>\n",
       "    </tr>\n",
       "    <tr>\n",
       "      <th>...</th>\n",
       "      <td>...</td>\n",
       "      <td>...</td>\n",
       "      <td>...</td>\n",
       "      <td>...</td>\n",
       "      <td>...</td>\n",
       "      <td>...</td>\n",
       "    </tr>\n",
       "    <tr>\n",
       "      <th>101</th>\n",
       "      <td>2022-12-01</td>\n",
       "      <td>1219284.0</td>\n",
       "      <td>549524.0</td>\n",
       "      <td>887698.0</td>\n",
       "      <td>619337.0</td>\n",
       "      <td>1014391.0</td>\n",
       "    </tr>\n",
       "    <tr>\n",
       "      <th>102</th>\n",
       "      <td>2023-01-01</td>\n",
       "      <td>1221722.0</td>\n",
       "      <td>550500.0</td>\n",
       "      <td>889436.0</td>\n",
       "      <td>621080.0</td>\n",
       "      <td>1017305.0</td>\n",
       "    </tr>\n",
       "    <tr>\n",
       "      <th>103</th>\n",
       "      <td>2023-02-01</td>\n",
       "      <td>1223359.0</td>\n",
       "      <td>550519.0</td>\n",
       "      <td>891865.0</td>\n",
       "      <td>622341.0</td>\n",
       "      <td>1019681.0</td>\n",
       "    </tr>\n",
       "    <tr>\n",
       "      <th>104</th>\n",
       "      <td>2023-03-01</td>\n",
       "      <td>1222751.0</td>\n",
       "      <td>549295.0</td>\n",
       "      <td>894181.0</td>\n",
       "      <td>623086.0</td>\n",
       "      <td>1021445.0</td>\n",
       "    </tr>\n",
       "    <tr>\n",
       "      <th>105</th>\n",
       "      <td>2023-04-01</td>\n",
       "      <td>1207539.0</td>\n",
       "      <td>539636.0</td>\n",
       "      <td>887244.0</td>\n",
       "      <td>618602.0</td>\n",
       "      <td>1013119.0</td>\n",
       "    </tr>\n",
       "  </tbody>\n",
       "</table>\n",
       "<p>106 rows × 6 columns</p>\n",
       "</div>"
      ],
      "text/plain": [
       "          date  gblama10086  gblama10085  gblama10087  gblama10088  \\\n",
       "0   2014-07-01    1005437.0     476890.0     758647.0     546028.0   \n",
       "1   2014-08-01    1010564.0     478977.0     762409.0     547737.0   \n",
       "2   2014-09-01    1015117.0     480430.0     764899.0     549174.0   \n",
       "3   2014-10-01    1018671.0     480746.0     766717.0     550197.0   \n",
       "4   2014-11-01    1024078.0     483265.0     769643.0     552502.0   \n",
       "..         ...          ...          ...          ...          ...   \n",
       "101 2022-12-01    1219284.0     549524.0     887698.0     619337.0   \n",
       "102 2023-01-01    1221722.0     550500.0     889436.0     621080.0   \n",
       "103 2023-02-01    1223359.0     550519.0     891865.0     622341.0   \n",
       "104 2023-03-01    1222751.0     549295.0     894181.0     623086.0   \n",
       "105 2023-04-01    1207539.0     539636.0     887244.0     618602.0   \n",
       "\n",
       "     gblama10089  \n",
       "0       886058.0  \n",
       "1       889079.0  \n",
       "2       891115.0  \n",
       "3       893214.0  \n",
       "4       897653.0  \n",
       "..           ...  \n",
       "101    1014391.0  \n",
       "102    1017305.0  \n",
       "103    1019681.0  \n",
       "104    1021445.0  \n",
       "105    1013119.0  \n",
       "\n",
       "[106 rows x 6 columns]"
      ]
     },
     "execution_count": 11,
     "metadata": {},
     "output_type": "execute_result"
    }
   ],
   "source": [
    "series_df"
   ]
  },
  {
   "cell_type": "code",
   "execution_count": 12,
   "id": "a667dc86",
   "metadata": {},
   "outputs": [
    {
     "data": {
      "text/plain": [
       "pandas.core.frame.DataFrame"
      ]
     },
     "execution_count": 12,
     "metadata": {},
     "output_type": "execute_result"
    }
   ],
   "source": [
    "type(series_df)"
   ]
  },
  {
   "cell_type": "code",
   "execution_count": null,
   "id": "7e9deb0d",
   "metadata": {},
   "outputs": [],
   "source": []
  }
 ],
 "metadata": {
  "kernelspec": {
   "display_name": "Python 3 (ipykernel)",
   "language": "python",
   "name": "python3"
  },
  "language_info": {
   "codemirror_mode": {
    "name": "ipython",
    "version": 3
   },
   "file_extension": ".py",
   "mimetype": "text/x-python",
   "name": "python",
   "nbconvert_exporter": "python",
   "pygments_lexer": "ipython3",
   "version": "3.10.6"
  },
  "toc": {
   "base_numbering": 1,
   "nav_menu": {},
   "number_sections": true,
   "sideBar": true,
   "skip_h1_title": false,
   "title_cell": "Table of Contents",
   "title_sidebar": "Contents",
   "toc_cell": false,
   "toc_position": {},
   "toc_section_display": true,
   "toc_window_display": false
  }
 },
 "nbformat": 4,
 "nbformat_minor": 5
}
